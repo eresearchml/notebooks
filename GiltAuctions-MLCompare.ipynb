{
 "cells": [
  {
   "cell_type": "markdown",
   "metadata": {},
   "source": [
    "<small><i>This notebook was put together by [Jake Vanderplas](http://www.vanderplas.com). Source and license info is on [GitHub](https://github.com/jakevdp/sklearn_tutorial/).</i></small>"
   ]
  },
  {
   "cell_type": "markdown",
   "metadata": {},
   "source": [
    "# Supervised Learning In-Depth: Support Vector Machines"
   ]
  },
  {
   "cell_type": "markdown",
   "metadata": {},
   "source": [
    "Previously we introduced supervised machine learning.\n",
    "There are many supervised learning algorithms available; here we'll go into brief detail one of the most powerful and interesting methods: **Support Vector Machines (SVMs)**."
   ]
  },
  {
   "cell_type": "code",
   "execution_count": 53,
   "metadata": {
    "collapsed": false
   },
   "outputs": [],
   "source": [
    "%matplotlib inline\n",
    "import numpy as np\n",
    "import matplotlib.pyplot as plt\n",
    "from scipy import stats\n",
    "from sklearn import linear_model\n",
    "# use seaborn plotting defaults\n",
    "import seaborn as sns; sns.set()\n",
    "import warnings\n",
    "warnings.filterwarnings('ignore')\n",
    "from sklearn.metrics import confusion_matrix\n",
    "import pandas as pd\n",
    "from sklearn import preprocessing\n",
    "from sklearn.svm import SVC\n",
    "from sklearn.datasets.samples_generator import make_circles\n",
    "from sklearn.model_selection import cross_val_score\n",
    "from sklearn.model_selection import TimeSeriesSplit, ShuffleSplit, train_test_split\n",
    "#this is if you want to do the PCA\n",
    "from sklearn.decomposition import PCA\n",
    "#np.set_printoptions(threshold='nan')\n",
    "from sklearn.ensemble import RandomForestClassifier, GradientBoostingClassifier, AdaBoostClassifier, ExtraTreesClassifier\n",
    "from sklearn.ensemble import VotingClassifier"
   ]
  },
  {
   "cell_type": "code",
   "execution_count": 26,
   "metadata": {
    "collapsed": false
   },
   "outputs": [],
   "source": [
    "\n",
    "df = pd.read_csv(r'/Users/david/Downloads/ALLUKAuctions.csv', error_bad_lines=False,encoding = \"ISO-8859-1\")\n",
    "df.head()\n",
    "df[\"Auction Date\"] = pd.to_datetime(df[\"Auction Date\"], infer_datetime_format=True)\n",
    "#df[\"Yield Tail (bp)\"]"
   ]
  },
  {
   "cell_type": "code",
   "execution_count": 27,
   "metadata": {
    "collapsed": false
   },
   "outputs": [],
   "source": [
    "#df = df[(df[\"Maturity Bracket\"] == \"Long\") ]\n",
    "\n",
    "df = df[(df[\"Maturity Bracket\"] == \"Long\") | (df[\"Maturity Bracket\"] == \"Medium\") | (df[\"Maturity Bracket\"] == \"Short\")]"
   ]
  },
  {
   "cell_type": "code",
   "execution_count": 28,
   "metadata": {
    "collapsed": false
   },
   "outputs": [
    {
     "name": "stdout",
     "output_type": "stream",
     "text": [
      "(431, 4)\n",
      "(431,)\n",
      "13    0.26\n",
      "15    0.36\n",
      "17   -0.42\n",
      "18   -0.42\n",
      "20   -0.66\n",
      "22   -0.14\n",
      "24   -0.06\n",
      "25    0.68\n",
      "27   -0.84\n",
      "28    0.72\n",
      "Name: Yield Tail (bp), dtype: float64\n",
      "13     True\n",
      "15     True\n",
      "17    False\n",
      "18    False\n",
      "20    False\n",
      "22    False\n",
      "24    False\n",
      "25     True\n",
      "27    False\n",
      "28     True\n",
      "Name: Yield Tail (bp), dtype: bool\n",
      "[True False]\n",
      "[1 1 0 0 0 0 0 1 0 1]\n",
      "(344, 4) (87, 4) (344,) (87,)\n"
     ]
    }
   ],
   "source": [
    "np.set_printoptions(threshold=np.nan)\n",
    "#df_mod = df.dropna()\n",
    "\n",
    "df_mod = df[[\"Bid to Cover Ratio at Auction\",\"Yield Tail (bp)\",\"Yield corresponding to AAP (%)\",\"Maturity Bracket\",\"Auction Date\"]]\n",
    "df_mod = df_mod.dropna()\n",
    "df_mod = df_mod[df_mod[\"Yield Tail (bp)\"] < 10.0]\n",
    "bc = df_mod[\"Bid to Cover Ratio at Auction\"]\n",
    "yc = df_mod[\"Yield corresponding to AAP (%)\"]\n",
    "yt = df_mod[\"Yield Tail (bp)\"]\n",
    "dt = df_mod[\"Auction Date\"]\n",
    "#X = np.array ([bc.values, yt.values]).T\n",
    "#X_orig = np.array ([bc.values, np.array(dt.values, dtype=float), yt.values, yc.values]).T\n",
    "do_pca = True\n",
    "#if do_pca:\n",
    "X_orig = np.array ([bc.values, yc.values, yt.values, np.array(dt.values, dtype=float)]).T\n",
    "#else:\n",
    "#    X_orig = np.array ([bc.values, yc.values]).T\n",
    "\n",
    "X_orig = preprocessing.scale(X_orig)\n",
    "#miss out the massive outlier\n",
    "#yt\n",
    "ave_yt = yt.rolling(5).mean()\n",
    "yt = ave_yt.shift(1) - yt\n",
    "yt = yt[5:]\n",
    "#remove the first 5 from each of the arrays\n",
    "X_orig = X_orig[5:]\n",
    "dt = dt[5:]\n",
    "print(X_orig.shape)\n",
    "print(yt.shape)\n",
    "#plt.scatter(dt.values,yt.values, s=50, cmap='spring')\n",
    "#plt.plot(dt.values, yt.values)\n",
    "\n",
    "cat = (yt > 0)\n",
    "print (yt[:10])\n",
    "print(cat[:10])\n",
    "c = cat\n",
    "le = preprocessing.LabelEncoder()\n",
    "print(c.unique())\n",
    "le.fit(c.unique())\n",
    "c_vals = le.transform(c.values)\n",
    "y = c_vals\n",
    "print(y[:10])\n",
    "test_size = 0.2\n",
    "X_train, X_out, y_train, y_out = train_test_split(X_orig, y,test_size=test_size)\n",
    "#X_train, X_out, y_vals, y_out_vals = train_test_split(X_orig, yt.values,test_size=test_size)\n",
    "X_orig = X_train\n",
    "y = y_train\n",
    "print(X_train.shape, X_out.shape, y_train.shape, y_out.shape)"
   ]
  },
  {
   "cell_type": "code",
   "execution_count": 29,
   "metadata": {
    "collapsed": false
   },
   "outputs": [
    {
     "name": "stdout",
     "output_type": "stream",
     "text": [
      "[ 0.4411745   0.32249451]\n",
      "[[ 0.08068708  0.67673352  0.35534788 -0.6397259 ]\n",
      " [-0.72097729 -0.06676537  0.65876468  0.20436051]]\n"
     ]
    }
   ],
   "source": [
    "dim = 2\n",
    "pca = PCA(dim).fit(X_orig)\n",
    "print(pca.explained_variance_ratio_)\n",
    "print(pca.components_)\n",
    "X_pca = pca.transform(X_orig)\n",
    "X = X_orig\n",
    "X_out_pca = pca.transform(X_out)\n"
   ]
  },
  {
   "cell_type": "markdown",
   "metadata": {},
   "source": [
    "Support Vector Machines (SVMs) are a powerful supervised learning algorithm used for **classification** or for **regression**. SVMs are a **discriminative** classifier: that is, they draw a boundary between clusters of data.\n",
    "\n",
    "Let's show a quick example of support vector classification. First we need to create a dataset:"
   ]
  },
  {
   "cell_type": "code",
   "execution_count": 30,
   "metadata": {
    "collapsed": false
   },
   "outputs": [],
   "source": [
    "def fitandshowresults(clf, X_train, X_test):\n",
    "    clf.fit(X_train, y)\n",
    "    y_predict = clf.predict(X_train)\n",
    "    #cm = confusion_matrix(y_predict, y)\n",
    "\n",
    "    #print(cm)\n",
    "    #print(\"score: \" , clf.score(X_test,y_out))\n",
    "    cv = ShuffleSplit(n_splits=10, test_size=0.1,random_state=0)\n",
    "\n",
    "    test_scores = cross_val_score(clf, X_train, y, cv=cv, n_jobs=2)\n",
    "    print(test_scores)\n",
    "    print (\"cv mean\",np.mean(test_scores))\n",
    "    out_samp = clf.score(X_test, y_out)\n",
    "    print (\"out score\", out_samp)"
   ]
  },
  {
   "cell_type": "code",
   "execution_count": 87,
   "metadata": {
    "collapsed": false
   },
   "outputs": [],
   "source": [
    "def fitandshowresultsVoting(eclf, X_train, X_test):\n",
    "    eclf.fit(X_train, y)\n",
    "    #y_predict = clf.predict(X_train)\n",
    "    #print (eclf.estimators_)\n",
    "    e_list = eclf.estimators_ + [eclf]\n",
    "    #l_list = len(eclf.estimators) + 1\n",
    "    #print (e_list)\n",
    "    #cm = confusion_matrix(y_predict, y)\n",
    "    for clf in e_list:\n",
    "        #clf.fit(X_train, y)\n",
    "        cv = ShuffleSplit(n_splits=10, test_size=0.1,random_state=0)\n",
    "        #scores = cross_val_score(clf, X_train, y, cv=cv, scoring='accuracy')\n",
    "        scores = cross_val_score(clf, X_train, y, cv=cv)\n",
    "        out_samp = clf.score(X_test, y_out)\n",
    "        print(\"Accuracy: %0.2f (+/- %0.2f) [%s] Out: %0.2f\" % (scores.mean(), scores.std(), type(clf), out_samp))\n",
    "    #print(cm)\n",
    "    #print(\"score: \" , clf.score(X_test,y_out))\n",
    "    \n",
    "\n",
    "    #test_scores = cross_val_score(clf, X_train, y, cv=cv, n_jobs=2)\n",
    "    #print(test_scores)\n",
    "    #print (\"cv mean\",np.mean(test_scores))\n",
    "    #out_samp = clf.score(X_test, y_out)\n",
    "    #print (\"out score\", out_samp)"
   ]
  },
  {
   "cell_type": "code",
   "execution_count": 31,
   "metadata": {
    "collapsed": false
   },
   "outputs": [
    {
     "name": "stdout",
     "output_type": "stream",
     "text": [
      "[ 0.8         0.65714286  0.88571429  0.88571429  0.77142857  0.8\n",
      "  0.88571429  0.85714286  0.62857143  0.74285714]\n",
      "cv mean 0.791428571429\n",
      "out score 0.816091954023\n"
     ]
    }
   ],
   "source": [
    "#  # \"Support Vector Classifier\"\n",
    "clf = SVC(kernel='rbf', C=1)\n",
    "fitandshowresults(clf, X, X_out)"
   ]
  },
  {
   "cell_type": "markdown",
   "metadata": {},
   "source": [
    "To better visualize what's happening here, let's create a quick convenience function that will plot SVM decision boundaries for us:"
   ]
  },
  {
   "cell_type": "code",
   "execution_count": 32,
   "metadata": {
    "collapsed": false
   },
   "outputs": [
    {
     "name": "stdout",
     "output_type": "stream",
     "text": [
      "[ 0.85714286  0.68571429  0.82857143  0.85714286  0.8         0.82857143\n",
      "  0.88571429  0.8         0.68571429  0.82857143]\n",
      "cv mean 0.805714285714\n",
      "out score 0.770114942529\n"
     ]
    }
   ],
   "source": [
    "#  # \"Support Vector Classifier\"\n",
    "clf = SVC(kernel='linear', C=1)\n",
    "fitandshowresults(clf, X, X_out)"
   ]
  },
  {
   "cell_type": "code",
   "execution_count": 35,
   "metadata": {
    "collapsed": false
   },
   "outputs": [
    {
     "name": "stdout",
     "output_type": "stream",
     "text": [
      "[ 0.8         0.65714286  0.82857143  0.8         0.77142857  0.8\n",
      "  0.82857143  0.85714286  0.6         0.8       ]\n",
      "cv mean 0.774285714286\n",
      "out score 0.793103448276\n"
     ]
    }
   ],
   "source": [
    "#  # \"Support Vector Classifier\"\n",
    "clf = SVC(kernel='rbf', C=1)\n",
    "fitandshowresults(clf, X_pca, X_out_pca)"
   ]
  },
  {
   "cell_type": "code",
   "execution_count": 36,
   "metadata": {
    "collapsed": false,
    "scrolled": true
   },
   "outputs": [
    {
     "name": "stdout",
     "output_type": "stream",
     "text": [
      "[ 0.77142857  0.74285714  0.77142857  0.77142857  0.74285714  0.8         0.8\n",
      "  0.77142857  0.6         0.74285714]\n",
      "cv mean 0.751428571429\n",
      "out score 0.827586206897\n"
     ]
    }
   ],
   "source": [
    "#  # \"Support Vector Classifier\"\n",
    "clf = SVC(kernel='linear', C=1)\n",
    "fitandshowresults(clf, X_pca, X_out_pca)"
   ]
  },
  {
   "cell_type": "code",
   "execution_count": 38,
   "metadata": {
    "collapsed": false,
    "scrolled": true
   },
   "outputs": [
    {
     "name": "stdout",
     "output_type": "stream",
     "text": [
      "[ 0.88571429  0.71428571  0.85714286  0.91428571  0.8         0.82857143\n",
      "  0.88571429  0.8         0.71428571  0.82857143]\n",
      "cv mean 0.822857142857\n",
      "out score 0.793103448276\n"
     ]
    }
   ],
   "source": [
    "#  # \"Support Vector Classifier\"\n",
    "logreg = linear_model.LogisticRegression(C=1e5)\n",
    "fitandshowresults(logreg, X, X_out)"
   ]
  },
  {
   "cell_type": "code",
   "execution_count": 42,
   "metadata": {
    "collapsed": false,
    "scrolled": true
   },
   "outputs": [
    {
     "name": "stdout",
     "output_type": "stream",
     "text": [
      "[ 0.82857143  0.82857143  0.82857143  0.91428571  0.82857143  0.88571429\n",
      "  0.68571429  0.85714286  0.8         0.85714286]\n",
      "cv mean 0.831428571429\n",
      "out score 0.896551724138\n"
     ]
    }
   ],
   "source": [
    "#  # \"Support Vector Classifier\"\n",
    "forest = RandomForestClassifier(n_estimators = 10)\n",
    "fitandshowresults(forest, X, X_out)"
   ]
  },
  {
   "cell_type": "code",
   "execution_count": 50,
   "metadata": {
    "collapsed": false,
    "scrolled": true
   },
   "outputs": [
    {
     "name": "stdout",
     "output_type": "stream",
     "text": [
      "[ 0.88571429  0.77142857  0.85714286  0.74285714  0.85714286  0.71428571\n",
      "  0.85714286  0.91428571  0.68571429  0.71428571]\n",
      "cv mean 0.8\n",
      "out score 0.885057471264\n"
     ]
    }
   ],
   "source": [
    "#  # \"Support Vector Classifier\"\n",
    "forest = ExtraTreesClassifier(n_estimators = 10)\n",
    "fitandshowresults(forest, X, X_out)"
   ]
  },
  {
   "cell_type": "code",
   "execution_count": 44,
   "metadata": {
    "collapsed": false,
    "scrolled": true
   },
   "outputs": [
    {
     "name": "stdout",
     "output_type": "stream",
     "text": [
      "[ 0.85714286  0.85714286  0.82857143  0.82857143  0.74285714  0.85714286\n",
      "  0.85714286  0.91428571  0.74285714  0.91428571]\n",
      "cv mean 0.84\n",
      "out score 0.862068965517\n"
     ]
    }
   ],
   "source": [
    "#  # \"Support Vector Classifier\"\n",
    "clf = GradientBoostingClassifier(n_estimators=100, learning_rate=1.0, max_depth=1, random_state=0)\n",
    "#forest = RandomForestClassifier(n_estimators = 10)\n",
    "fitandshowresults(clf, X, X_out)"
   ]
  },
  {
   "cell_type": "code",
   "execution_count": 52,
   "metadata": {
    "collapsed": false,
    "scrolled": true
   },
   "outputs": [
    {
     "name": "stdout",
     "output_type": "stream",
     "text": [
      "[ 0.85714286  0.8         0.8         0.8         0.74285714  0.8\n",
      "  0.82857143  0.94285714  0.74285714  0.88571429]\n",
      "cv mean 0.82\n",
      "out score 0.862068965517\n"
     ]
    }
   ],
   "source": [
    "#  # \"Support Vector Classifier\"\n",
    "clf = AdaBoostClassifier(n_estimators=100, learning_rate=1.0)\n",
    "#forest = RandomForestClassifier(n_estimators = 10)\n",
    "fitandshowresults(clf, X, X_out)"
   ]
  },
  {
   "cell_type": "code",
   "execution_count": 91,
   "metadata": {
    "collapsed": false,
    "scrolled": true
   },
   "outputs": [
    {
     "name": "stdout",
     "output_type": "stream",
     "text": [
      "Accuracy: 0.79 (+/- 0.09) [<class 'sklearn.svm.classes.SVC'>] Out: 0.82\n",
      "Accuracy: 0.83 (+/- 0.06) [<class 'sklearn.ensemble.forest.RandomForestClassifier'>] Out: 0.82\n",
      "Accuracy: 0.81 (+/- 0.06) [<class 'sklearn.ensemble.forest.ExtraTreesClassifier'>] Out: 0.84\n",
      "Accuracy: 0.84 (+/- 0.09) [<class 'sklearn.ensemble.voting_classifier.VotingClassifier'>] Out: 0.82\n"
     ]
    }
   ],
   "source": [
    "#  # \"Support Vector Classifier\"\n",
    "clf1 = SVC(random_state=1)\n",
    "clf2 = RandomForestClassifier(random_state=1)\n",
    "clf3 = ExtraTreesClassifier()\n",
    "\n",
    "vclf = VotingClassifier(estimators=[('lr', clf1), ('rf', clf2), ('gnb', clf3)], voting='hard')\n",
    "#forest = RandomForestClassifier(n_estimators = 10)\n",
    "fitandshowresultsVoting(vclf, X, X_out)"
   ]
  },
  {
   "cell_type": "code",
   "execution_count": 16,
   "metadata": {
    "collapsed": false
   },
   "outputs": [
    {
     "data": {
      "image/png": "[encoded data removed]",
      "text/plain": [
       "<matplotlib.figure.Figure at 0x119edeb70>"
      ]
     },
     "metadata": {},
     "output_type": "display_data"
    },
    {
     "name": "stdout",
     "output_type": "stream",
     "text": [
      "[[100  38]\n",
      " [ 46 160]]\n",
      "score:  0.755813953488\n",
      "[ 0.8         0.71428571  0.62857143  0.6         0.68571429  0.71428571\n",
      "  0.85714286  0.74285714  0.77142857  0.8       ]\n",
      "cv mean 0.731428571429\n",
      "out score 0.747126436782\n"
     ]
    }
   ],
   "source": [
    "logreg = linear_model.LogisticRegression(C=1e5)\n",
    "#logreg = linear_model.LinearRegression(fit_intercept=False)\n",
    "\n",
    "logreg.fit(X, y)\n",
    "h = 0.02\n",
    "# Plot the decision boundary. For that, we will assign a color to each\n",
    "# point in the mesh [x_min, x_max]x[y_min, y_max].\n",
    "x_min, x_max = X[:, 0].min() - .5, X[:, 0].max() + .5\n",
    "y_min, y_max = X[:, 1].min() - .5, X[:, 1].max() + .5\n",
    "xx, yy = np.meshgrid(np.arange(x_min, x_max, h), np.arange(y_min, y_max, h))\n",
    "Z = logreg.predict(np.c_[xx.ravel(), yy.ravel()])\n",
    "\n",
    "# Put the result into a color plot\n",
    "Z = Z.reshape(xx.shape)\n",
    "plt.figure(1, figsize=(4, 3))\n",
    "plt.pcolormesh(xx, yy, Z, cmap=plt.cm.Paired)\n",
    "\n",
    "# Plot also the training points\n",
    "plt.scatter(X[:, 0], X[:, 1], c=y, edgecolors='k', cmap=plt.cm.Paired)\n",
    "plt.xlabel('Sepal length')\n",
    "plt.ylabel('Sepal width')\n",
    "\n",
    "plt.xlim(xx.min(), xx.max())\n",
    "plt.ylim(yy.min(), yy.max())\n",
    "plt.xticks(())\n",
    "plt.yticks(())\n",
    "\n",
    "plt.show()\n",
    "fitandshowresults(logreg)"
   ]
  }
 ],
 "metadata": {
  "anaconda-cloud": {},
  "kernelspec": {
   "display_name": "Python [Root]",
   "language": "python",
   "name": "Python [Root]"
  },
  "language_info": {
   "codemirror_mode": {
    "name": "ipython",
    "version": 3
   },
   "file_extension": ".py",
   "mimetype": "text/x-python",
   "name": "python",
   "nbconvert_exporter": "python",
   "pygments_lexer": "ipython3",
   "version": "3.5.2"
  }
 },
 "nbformat": 4,
 "nbformat_minor": 0
}
