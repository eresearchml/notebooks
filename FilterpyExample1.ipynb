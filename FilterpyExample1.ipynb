{
 "cells": [
  {
   "cell_type": "code",
   "execution_count": 12,
   "metadata": {
    "collapsed": true
   },
   "outputs": [],
   "source": [
    "import numpy as np\n",
    "from filterpy.kalman import KalmanFilter\n",
    "f = KalmanFilter (dim_x=2, dim_z=1)"
   ]
  },
  {
   "cell_type": "code",
   "execution_count": 13,
   "metadata": {
    "collapsed": false
   },
   "outputs": [],
   "source": [
    "#Assign the initial value for the state (position and velocity). You can do this with a two dimensional array like so:\n",
    "\n",
    "f.x = np.array([[2.],    # position\n",
    "                [0.]])   # velocity\n",
    "#or just use a one dimensional array, which I prefer doing.\n",
    "\n",
    "#f.x = np.array([2., 0.])"
   ]
  },
  {
   "cell_type": "code",
   "execution_count": 14,
   "metadata": {
    "collapsed": true
   },
   "outputs": [],
   "source": [
    "#Define the state transition matrix:\n",
    "\n",
    "f.F = np.array([[1.,1.],\n",
    "                [0.,1.]])"
   ]
  },
  {
   "cell_type": "code",
   "execution_count": 15,
   "metadata": {
    "collapsed": true
   },
   "outputs": [],
   "source": [
    "#Define the measurement function:\n",
    "\n",
    "f.H = np.array([[1.,0.]])\n",
    "#Define the covariance matrix. Here I take advantage of the fact that P already contains np.eye(dim_x), and just multipy by the uncertainty:\n",
    "\n",
    "#f.P *= 1000.\n",
    "#I could have written:\n",
    "\n",
    "f.P = np.array([[1000.,    0.],\n",
    "                [   0., 1000.] ])"
   ]
  },
  {
   "cell_type": "code",
   "execution_count": 16,
   "metadata": {
    "collapsed": true
   },
   "outputs": [],
   "source": [
    "#Now assign the measurement noise. Here the dimension is 1x1, so I can use a scalar\n",
    "\n",
    "#f.R = 5\n",
    "#I could have done this instead:\n",
    "\n",
    "f.R = np.array([[5.]])\n",
    "#Note that this must be a 2 dimensional array, as must all the matrices."
   ]
  },
  {
   "cell_type": "code",
   "execution_count": 17,
   "metadata": {
    "collapsed": false
   },
   "outputs": [
    {
     "name": "stdout",
     "output_type": "stream",
     "text": [
      "[[ 2.]\n",
      " [ 0.]]\n",
      "[[ 4.9925187 ]\n",
      " [ 1.49625945]]\n"
     ]
    }
   ],
   "source": [
    "#Finally, I will assign the process noise. Here I will take advantage of another FilterPy library function:\n",
    "\n",
    "from filterpy.common import Q_discrete_white_noise\n",
    "f.Q = Q_discrete_white_noise(dim=2, dt=0.1, var=0.13)\n",
    "#Now just perform the standard predict/update loop:\n",
    "\n",
    "#while some_condition_is_true:\n",
    "#sensor reading\n",
    "print(f.x)\n",
    "z = 5\n",
    "f.predict()\n",
    "f.update(z)\n",
    "print(f.x)\n",
    "#do_something_with_estimate (f.x)"
   ]
  },
  {
   "cell_type": "code",
   "execution_count": null,
   "metadata": {
    "collapsed": true
   },
   "outputs": [],
   "source": []
  }
 ],
 "metadata": {
  "anaconda-cloud": {},
  "kernelspec": {
   "display_name": "Python [Root]",
   "language": "python",
   "name": "Python [Root]"
  },
  "language_info": {
   "codemirror_mode": {
    "name": "ipython",
    "version": 3
   },
   "file_extension": ".py",
   "mimetype": "text/x-python",
   "name": "python",
   "nbconvert_exporter": "python",
   "pygments_lexer": "ipython3",
   "version": "3.5.2"
  }
 },
 "nbformat": 4,
 "nbformat_minor": 0
}
