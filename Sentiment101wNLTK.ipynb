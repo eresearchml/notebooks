{
 "cells": [
  {
   "cell_type": "code",
   "execution_count": 11,
   "metadata": {
    "collapsed": false
   },
   "outputs": [
    {
     "name": "stdout",
     "output_type": "stream",
     "text": [
      "showing info https://raw.githubusercontent.com/nltk/nltk_data/gh-pages/index.xml\n"
     ]
    },
    {
     "data": {
      "text/plain": [
       "True"
      ]
     },
     "execution_count": 11,
     "metadata": {},
     "output_type": "execute_result"
    }
   ],
   "source": [
    "import nltk\n",
    "#nltk.download()"
   ]
  },
  {
   "cell_type": "code",
   "execution_count": 2,
   "metadata": {
    "collapsed": false
   },
   "outputs": [
    {
     "data": {
      "image/png": "[encoded data removed]",
      "text/plain": [
       "Tree('S', [('With', 'IN'), ('regards', 'NNS'), ('to', 'TO'), ('the', 'DT'), Tree('ORGANIZATION', [('UKT4042', 'NNP')]), ('auction', 'NN'), ('on', 'IN'), ('Thursday', 'NNP')])"
      ]
     },
     "execution_count": 2,
     "metadata": {},
     "output_type": "execute_result"
    }
   ],
   "source": [
    "#dir(nltk.tokenize)\n",
    "s1 = \"Pearson shares dive 27 after profit warning\"\n",
    "s2 = \"Upcoming gilt should go well\"\n",
    "s3 = \"Upcoming gilt auction should go well\"\n",
    "s4 = \"Upcoming UKT 4042 auction should go well\"\n",
    "s5 = \"With regards to the UKT4042 auction on Thursday\"\n",
    "\n",
    "g1 = nltk.pos_tag(nltk.tokenize.word_tokenize(s1))\n",
    "g2 = nltk.pos_tag(nltk.tokenize.word_tokenize(s2))\n",
    "g3 = nltk.pos_tag(nltk.tokenize.word_tokenize(s3))\n",
    "g4 = nltk.pos_tag(nltk.tokenize.word_tokenize(s4))\n",
    "g5 = nltk.pos_tag(nltk.tokenize.word_tokenize(s5))\n",
    "#print(g1)\n",
    "nltk.ne_chunk(g5, binary=False)"
   ]
  },
  {
   "cell_type": "code",
   "execution_count": 3,
   "metadata": {
    "collapsed": true
   },
   "outputs": [],
   "source": [
    "#def ie_preprocess(document):\n",
    "#...    sentences = nltk.sent_tokenize(document) [1]\n",
    "#...    sentences = [nltk.word_tokenize(sent) for sent in sentences] [2]\n",
    "#...    sentences = [nltk.pos_tag(sent) for sent in sentences] [3]"
   ]
  },
  {
   "cell_type": "code",
   "execution_count": 4,
   "metadata": {
    "collapsed": false
   },
   "outputs": [
    {
     "name": "stderr",
     "output_type": "stream",
     "text": [
      "/Users/david/anaconda/lib/python3.5/site-packages/nltk/twitter/__init__.py:20: UserWarning: The twython library has not been installed. Some functionality from the twitter package will not be available.\n",
      "  warnings.warn(\"The twython library has not been installed. \"\n"
     ]
    },
    {
     "data": {
      "text/plain": [
       "(100, 100)"
      ]
     },
     "execution_count": 4,
     "metadata": {},
     "output_type": "execute_result"
    }
   ],
   "source": [
    "from nltk.classify import NaiveBayesClassifier\n",
    "from nltk.corpus import subjectivity\n",
    "from nltk.sentiment import SentimentAnalyzer\n",
    "from nltk.sentiment.util import *\n",
    "n_instances = 100\n",
    "subj_docs = [(sent, 'subj') for sent in subjectivity.sents(categories='subj')[:n_instances]]\n",
    "obj_docs = [(sent, 'obj') for sent in subjectivity.sents(categories='obj')[:n_instances]]\n",
    "len(subj_docs), len(obj_docs)\n",
    "#subj_docs[0]\n",
    "#obj_docs[1]"
   ]
  },
  {
   "cell_type": "markdown",
   "metadata": {},
   "source": [
    "'Each document is represented by a tuple (sentence, label). \n",
    "'The sentence is tokenized, so it is represented by a list of strings:\n",
    "\n",
    "'' subj_docs[0]\n",
    "''(['smart', 'and', 'alert', ',', 'thirteen', 'conversations', 'about', 'one',\n",
    "'thing', 'is', 'a', 'small', 'gem', '.'], 'subj')\n",
    "'We separately split subjective and objective instances to keep a \n",
    "'balanced uniform class distribution in both train and test sets."
   ]
  },
  {
   "cell_type": "code",
   "execution_count": 42,
   "metadata": {
    "collapsed": false
   },
   "outputs": [
    {
     "name": "stdout",
     "output_type": "stream",
     "text": [
      "['smart', 'and', 'alert', ',', 'thirteen', 'conversations', 'about', 'one', 'thing', 'is', 'a', 'small', 'gem', '.', 'color', ',', 'musical', 'bounce', 'and', 'warm']\n"
     ]
    }
   ],
   "source": [
    "train_subj_docs = subj_docs[:80]\n",
    "test_subj_docs = subj_docs[80:100]\n",
    "train_obj_docs = obj_docs[:80]\n",
    "test_obj_docs = obj_docs[80:100]\n",
    "training_docs = train_subj_docs+train_obj_docs\n",
    "testing_docs = test_subj_docs+test_obj_docs\n",
    "\n",
    "testwords = [mark_negation(training_docs[9])]\n",
    " \n",
    " \n",
    "sentim_analyzer = SentimentAnalyzer()\n",
    "all_words_neg = sentim_analyzer.all_words([mark_negation(doc) for doc in training_docs])\n",
    "print(all_words_neg[:20])"
   ]
  },
  {
   "cell_type": "code",
   "execution_count": 44,
   "metadata": {
    "collapsed": false
   },
   "outputs": [
    {
     "ename": "AttributeError",
     "evalue": "'SentimentAnalyzer' object has no attribute 'bigram_word_feats'",
     "output_type": "error",
     "traceback": [
      "\u001b[0;31m---------------------------------------------------------------------------\u001b[0m",
      "\u001b[0;31mAttributeError\u001b[0m                            Traceback (most recent call last)",
      "\u001b[0;32m<ipython-input-44-b81d6cd819e2>\u001b[0m in \u001b[0;36m<module>\u001b[0;34m()\u001b[0m\n\u001b[1;32m      1\u001b[0m \u001b[0;31m#We use simple unigram word features, handling negation\u001b[0m\u001b[0;34m\u001b[0m\u001b[0;34m\u001b[0m\u001b[0m\n\u001b[1;32m      2\u001b[0m \u001b[0munigram_feats\u001b[0m \u001b[0;34m=\u001b[0m \u001b[0msentim_analyzer\u001b[0m\u001b[0;34m.\u001b[0m\u001b[0munigram_word_feats\u001b[0m\u001b[0;34m(\u001b[0m\u001b[0mall_words_neg\u001b[0m\u001b[0;34m,\u001b[0m \u001b[0mmin_freq\u001b[0m\u001b[0;34m=\u001b[0m\u001b[0;36m4\u001b[0m\u001b[0;34m)\u001b[0m\u001b[0;34m\u001b[0m\u001b[0m\n\u001b[0;32m----> 3\u001b[0;31m \u001b[0mbigram_feats\u001b[0m \u001b[0;34m=\u001b[0m \u001b[0msentim_analyzer\u001b[0m\u001b[0;34m.\u001b[0m\u001b[0mbigram_word_feats\u001b[0m\u001b[0;34m(\u001b[0m\u001b[0mall_words_neg\u001b[0m\u001b[0;34m,\u001b[0m \u001b[0mmin_freq\u001b[0m\u001b[0;34m=\u001b[0m\u001b[0;36m4\u001b[0m\u001b[0;34m)\u001b[0m\u001b[0;34m\u001b[0m\u001b[0m\n\u001b[0m\u001b[1;32m      4\u001b[0m \u001b[0;31m#len(unigram_feats)\u001b[0m\u001b[0;34m\u001b[0m\u001b[0;34m\u001b[0m\u001b[0m\n\u001b[1;32m      5\u001b[0m \u001b[0;31m#83\u001b[0m\u001b[0;34m\u001b[0m\u001b[0;34m\u001b[0m\u001b[0m\n",
      "\u001b[0;31mAttributeError\u001b[0m: 'SentimentAnalyzer' object has no attribute 'bigram_word_feats'"
     ]
    }
   ],
   "source": [
    "#We use simple unigram word features, handling negation\n",
    "unigram_feats = sentim_analyzer.unigram_word_feats(all_words_neg, min_freq=4)\n",
    "bigram_feats = sentim_analyzer.bigram_word_feats(all_words_neg, min_freq=4)\n",
    "#len(unigram_feats)\n",
    "#83\n",
    "sentim_analyzer.add_feat_extractor(extract_unigram_feats, unigrams=unigram_feats)\n",
    "\n",
    "print(extract_unigram_feats(all_words_neg[:20], unigrams=unigram_feats))\n",
    "print(extract_bigram_feats(all_words_neg[:20], unigrams=unigram_feats))\n",
    "#We apply features to obtain a feature-value representation of our datasets:\n",
    "\n",
    "training_set = sentim_analyzer.apply_features(training_docs)\n",
    "test_set = sentim_analyzer.apply_features(testing_docs)"
   ]
  },
  {
   "cell_type": "code",
   "execution_count": 7,
   "metadata": {
    "collapsed": false
   },
   "outputs": [
    {
     "name": "stdout",
     "output_type": "stream",
     "text": [
      "Training classifier\n",
      "Evaluating NaiveBayesClassifier results...\n",
      "Accuracy: 0.8\n",
      "F-measure [obj]: 0.8\n",
      "F-measure [subj]: 0.8\n",
      "Precision [obj]: 0.8\n",
      "Precision [subj]: 0.8\n",
      "Recall [obj]: 0.8\n",
      "Recall [subj]: 0.8\n"
     ]
    }
   ],
   "source": [
    "trainer = NaiveBayesClassifier.train\n",
    "classifier = sentim_analyzer.train(trainer, training_set)\n",
    "#Training classifier\n",
    "for key,value in sorted(sentim_analyzer.evaluate(test_set).items()):\n",
    "    print('{0}: {1}'.format(key, value))"
   ]
  },
  {
   "cell_type": "code",
   "execution_count": 31,
   "metadata": {
    "collapsed": true
   },
   "outputs": [],
   "source": [
    "from nltk.sentiment import SentimentIntensityAnalyzer\n",
    "#sentences = [\"VADER is smart, handsome, and funny.\", # positive sentence example\n"
   ]
  },
  {
   "cell_type": "code",
   "execution_count": 32,
   "metadata": {
    "collapsed": false
   },
   "outputs": [],
   "source": [
    "sentences = []\n",
    "paragraph = \"The upcoming index linked gilt auction should go well. The gilt market has been performing brilliantly of late\\\n",
    " and we expect this to continue. The next auction is going to be a blow out\"\n",
    "from nltk import tokenize\n",
    "lines_list = tokenize.sent_tokenize(paragraph)\n",
    "sentences.extend(lines_list)\n"
   ]
  },
  {
   "cell_type": "code",
   "execution_count": 33,
   "metadata": {
    "collapsed": false
   },
   "outputs": [
    {
     "name": "stdout",
     "output_type": "stream",
     "text": [
      "The upcoming index linked gilt auction should go well.\n",
      "compound: 0.2732, neg: 0.0, neu: 0.792, pos: 0.208, \n",
      "The gilt market has been performing brilliantly of late and we expect this to continue.\n",
      "compound: 0.6124, neg: 0.0, neu: 0.778, pos: 0.222, \n",
      "The next auction is going to be a blow out\n",
      "compound: 0.0, neg: 0.0, neu: 1.0, pos: 0.0, \n"
     ]
    }
   ],
   "source": [
    "#sentences.extend(tricky_sentences)\n",
    "sid = SentimentIntensityAnalyzer()\n",
    "for sentence in sentences:\n",
    "    print(sentence)\n",
    "    ss = sid.polarity_scores(sentence)\n",
    "    for k in sorted(ss):\n",
    "         print('{0}: {1}, '.format(k, ss[k]), end='')\n",
    "    print()"
   ]
  }
 ],
 "metadata": {
  "kernelspec": {
   "display_name": "Python [Root]",
   "language": "python",
   "name": "Python [Root]"
  },
  "language_info": {
   "codemirror_mode": {
    "name": "ipython",
    "version": 3
   },
   "file_extension": ".py",
   "mimetype": "text/x-python",
   "name": "python",
   "nbconvert_exporter": "python",
   "pygments_lexer": "ipython3",
   "version": "3.5.2"
  }
 },
 "nbformat": 4,
 "nbformat_minor": 0
}
