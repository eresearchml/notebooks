{
 "cells": [
  {
   "cell_type": "code",
   "execution_count": 3,
   "metadata": {
    "code_folding": [
     0
    ],
    "collapsed": false
   },
   "outputs": [],
   "source": [
    "# Import\n",
    "import numpy as np\n",
    "import matplotlib.pyplot as plt\n",
    "import datetime as DT\n",
    "import pandas as pd\n",
    "import math\n",
    "import scipy\n",
    "from IPython.core.debugger import Tracer\n",
    "from sklearn.feature_extraction import DictVectorizer\n",
    "from sklearn.metrics.classification import log_loss\n",
    "\n",
    "from sklearn import datasets, linear_model\n",
    "from sklearn.model_selection import GridSearchCV, TimeSeriesSplit\n",
    "from sklearn.svm import SVC, SVR\n",
    "from sklearn.metrics import confusion_matrix, accuracy_score\n",
    "from sklearn.preprocessing import StandardScaler\n",
    "from sklearn.ensemble import RandomForestClassifier\n",
    "from sklearn.pipeline import Pipeline, FeatureUnion\n",
    "from sklearn.model_selection import train_test_split\n",
    "#from sklearn.linear_model import LogisticRegression\n",
    "from sklearn.decomposition import PCA\n",
    "from sklearn.feature_selection import SelectKBest\n",
    "\n",
    "%matplotlib inline\n",
    "import seaborn as sns; sns.set()\n",
    "import operator\n",
    "import itertools\n",
    "import matplotlib.patches as mpatches\n",
    "from scipy.stats.stats import pearsonr\n",
    "\n",
    "\n",
    "import warnings\n",
    "warnings.filterwarnings('ignore')\n",
    "#Tracer()()\n",
    "def prep (a):\n",
    "    return a.reshape(a.shape[0], 1)\n",
    "def unprep (a):\n",
    "    return np.squeeze(a)\n",
    "def figurefullwidth():\n",
    "    plt.figure(figsize=(25,5));\n",
    "def subplot(a):\n",
    "    plt.subplot(1,3,a);\n",
    "def subplottitle(a, b):\n",
    "    ax = plt.subplot(1, 3, a)\n",
    "    ax.set_title(b)\n",
    "from IPython.core.interactiveshell import InteractiveShell\n",
    "InteractiveShell.ast_node_interactivity = \"all\""
   ]
  },
  {
   "cell_type": "code",
   "execution_count": 4,
   "metadata": {
    "code_folding": [
     0
    ],
    "collapsed": false
   },
   "outputs": [
    {
     "data": {
      "application/javascript": [
       "IPython.OutputArea.auto_scroll_threshold = 9999;"
      ],
      "text/plain": [
       "<IPython.core.display.Javascript object>"
      ]
     },
     "metadata": {},
     "output_type": "display_data"
    }
   ],
   "source": [
    "%%javascript\n",
    "IPython.OutputArea.auto_scroll_threshold = 9999;"
   ]
  },
  {
   "cell_type": "code",
   "execution_count": 5,
   "metadata": {
    "code_folding": [],
    "collapsed": false,
    "scrolled": true
   },
   "outputs": [
    {
     "data": {
      "text/html": [
       "<style>.container { width:95% !important; }</style>"
      ],
      "text/plain": [
       "<IPython.core.display.HTML object>"
      ]
     },
     "metadata": {},
     "output_type": "display_data"
    }
   ],
   "source": [
    "from IPython.core.display import display, HTML\n",
    "display(HTML(\"<style>.container { width:95% !important; }</style>\"))"
   ]
  },
  {
   "cell_type": "code",
   "execution_count": 6,
   "metadata": {
    "code_folding": [
     0
    ],
    "collapsed": false
   },
   "outputs": [],
   "source": [
    "def encode_onehot(df, cols):\n",
    "    \"\"\"\n",
    "    One-hot encoding is applied to columns specified in a pandas DataFrame.\n",
    "    \n",
    "    Modified from: https://gist.github.com/kljensen/5452382\n",
    "    \n",
    "    Details:\n",
    "    \n",
    "    http://en.wikipedia.org/wiki/One-hot\n",
    "    http://scikit-learn.org/stable/modules/generated/sklearn.preprocessing.OneHotEncoder.html\n",
    "    \n",
    "    @param df pandas DataFrame\n",
    "    @param cols a list of columns to encode\n",
    "    @return a DataFrame with one-hot encoding\n",
    "    \"\"\"\n",
    "    vec = DictVectorizer()\n",
    "    \n",
    "    vec_data = pd.DataFrame(vec.fit_transform(df[cols].to_dict(outtype='records')).toarray())\n",
    "    vec_data.columns = vec.get_feature_names()\n",
    "    vec_data.index = df.index\n",
    "    \n",
    "    df = df.drop(cols, axis=1)\n",
    "    df = df.join(vec_data)\n",
    "    return df\n",
    "\n"
   ]
  },
  {
   "cell_type": "code",
   "execution_count": 62,
   "metadata": {
    "collapsed": true
   },
   "outputs": [],
   "source": [
    "def processfile(csv):\n",
    "    #load data\n",
    "    df = pd.read_csv(csv, header= 0)\n",
    "    del df['order_ref']\n",
    "    df[\"inplay\"] = df[\"inplay\"].astype(int)\n",
    "    df[\"strategy\"] = df[\"strategy\"].apply(lambda x: 0 if x == \"A\" else 1)\n",
    "    #df[\"pct_matched\"].unique()\n",
    "    df[\"pct_matched\"].isnull().sum()\n",
    "\n",
    "    #list of index with nan\n",
    "    nans = df['pct_matched'].index[df['pct_matched'].apply(np.isnan)]\n",
    "    #df.loc[3173]\n",
    "    df = df.drop(df.index[nans])\n",
    "    r = df['bet_type'].apply(lambda x: pd.Series(x.split('|')))\n",
    "    del r[0]\n",
    "    for i in range(0, r.shape[1]):\n",
    "        df[\"bet_type\" + str(i)] = r[i+1]\n",
    "    del df[\"bet_type\"]\n",
    "    df[\"pct_matched_cat\"] = df[\"pct_matched\"].apply(lambda x: 1 if x > 0.5 else -1)\n",
    "    \n",
    "    df = df[df[\"age\"] > 0]\n",
    "    df = df[df[\"arb_margin\"] > 0]\n",
    "    m1 = \"age\"\n",
    "    df[m1+\"_orig\"] = df[m1]\n",
    "    df[m1+\"_ln\"] = df[m1].apply(lambda x: np.log(x))\n",
    "    df[m1+\"_div1\"] = df[m1].apply(lambda x: x/1.0)\n",
    "    df[m1+\"_power\"] = df[m1].apply(lambda x: np.power(x, 4.0))\n",
    "    #df[\"age_ln10\"] = df[m1].apply(lambda x: np.log10(x))\n",
    "    #df[\"age_ln2\"] = df[m1].apply(lambda x: np.log2(x))\n",
    "    print(df.shape[0])\n",
    "    df[\"per_norm\"] = np.random.normal(0, 1, df.shape[0])\n",
    "    #df[\"per_ln\"] = df[\"per_norm\"].apply(lambda x: np.log(x))\n",
    "    df[\"per_e\"] = df[\"per_norm\"].apply(lambda x: np.exp(x))\n",
    "    #df[\"age_exp\"] = df[\"age\"].apply(lambda x: np.exp(x))\n",
    "    \n",
    "    df = encode_onehot(df, [\"bookie\", \"bet_type0\"])\n",
    "    del df[\"bet_type1\"]\n",
    "    del df[\"bet_type2\"]\n",
    "    del df[\"bet_type3\"]\n",
    "    del df[\"pct_matched\"]\n",
    "    \n",
    "    #dfy = pd.concat(df[\"pct_matched_cat\"])\n",
    "    #dfy = DataFrame()\n",
    "    dfy = df[\"pct_matched_cat\"]\n",
    "    del df[\"pct_matched_cat\"]\n",
    "    #df_y[\"pct_matched_cat\"]\n",
    "    return df, dfy\n",
    "def dispdf(df, width):\n",
    "    print(list(range(0, len(df.columns), width)))\n",
    "    for i in range(0, len(df.columns), width):\n",
    "        #print(df.ix[:,0:5].head())\n",
    "        display(df.ix[:,i:i+min(width, len(df.columns))].head())"
   ]
  },
  {
   "cell_type": "code",
   "execution_count": 63,
   "metadata": {
    "collapsed": false,
    "scrolled": false
   },
   "outputs": [
    {
     "name": "stdout",
     "output_type": "stream",
     "text": [
      "203490\n",
      "[0, 10, 20, 30]\n"
     ]
    },
    {
     "data": {
      "text/html": [
       "<div>\n",
       "<table border=\"1\" class=\"dataframe\">\n",
       "  <thead>\n",
       "    <tr style=\"text-align: right;\">\n",
       "      <th></th>\n",
       "      <th>strategy</th>\n",
       "      <th>inplay</th>\n",
       "      <th>age</th>\n",
       "      <th>stakes</th>\n",
       "      <th>max_stakes</th>\n",
       "      <th>price</th>\n",
       "      <th>pct_max_stake_reqd_overall</th>\n",
       "      <th>fallback_margin</th>\n",
       "      <th>arb_margin</th>\n",
       "      <th>fallback_cost</th>\n",
       "    </tr>\n",
       "  </thead>\n",
       "  <tbody>\n",
       "    <tr>\n",
       "      <th>0</th>\n",
       "      <td>0</td>\n",
       "      <td>1</td>\n",
       "      <td>896.968049</td>\n",
       "      <td>2.429000</td>\n",
       "      <td>2.429</td>\n",
       "      <td>2.428571</td>\n",
       "      <td>100.000000</td>\n",
       "      <td>0.058410</td>\n",
       "      <td>0.403999</td>\n",
       "      <td>0.345589</td>\n",
       "    </tr>\n",
       "    <tr>\n",
       "      <th>1</th>\n",
       "      <td>1</td>\n",
       "      <td>0</td>\n",
       "      <td>0.432858</td>\n",
       "      <td>2.380916</td>\n",
       "      <td>751.490</td>\n",
       "      <td>9.200000</td>\n",
       "      <td>0.316826</td>\n",
       "      <td>-0.176400</td>\n",
       "      <td>0.064876</td>\n",
       "      <td>0.241276</td>\n",
       "    </tr>\n",
       "    <tr>\n",
       "      <th>2</th>\n",
       "      <td>1</td>\n",
       "      <td>1</td>\n",
       "      <td>0.064819</td>\n",
       "      <td>13.634291</td>\n",
       "      <td>2338.670</td>\n",
       "      <td>1.240000</td>\n",
       "      <td>0.582993</td>\n",
       "      <td>-0.292514</td>\n",
       "      <td>0.363597</td>\n",
       "      <td>0.656111</td>\n",
       "    </tr>\n",
       "    <tr>\n",
       "      <th>3</th>\n",
       "      <td>1</td>\n",
       "      <td>0</td>\n",
       "      <td>107.238326</td>\n",
       "      <td>18.846154</td>\n",
       "      <td>19.820</td>\n",
       "      <td>2.600000</td>\n",
       "      <td>95.086548</td>\n",
       "      <td>0.041334</td>\n",
       "      <td>0.495772</td>\n",
       "      <td>0.454439</td>\n",
       "    </tr>\n",
       "    <tr>\n",
       "      <th>4</th>\n",
       "      <td>0</td>\n",
       "      <td>1</td>\n",
       "      <td>38.344546</td>\n",
       "      <td>40.020000</td>\n",
       "      <td>40.020</td>\n",
       "      <td>6.000000</td>\n",
       "      <td>100.000000</td>\n",
       "      <td>0.200951</td>\n",
       "      <td>0.485378</td>\n",
       "      <td>0.284427</td>\n",
       "    </tr>\n",
       "  </tbody>\n",
       "</table>\n",
       "</div>"
      ],
      "text/plain": [
       "   strategy  inplay         age     stakes  max_stakes     price  \\\n",
       "0         0       1  896.968049   2.429000       2.429  2.428571   \n",
       "1         1       0    0.432858   2.380916     751.490  9.200000   \n",
       "2         1       1    0.064819  13.634291    2338.670  1.240000   \n",
       "3         1       0  107.238326  18.846154      19.820  2.600000   \n",
       "4         0       1   38.344546  40.020000      40.020  6.000000   \n",
       "\n",
       "   pct_max_stake_reqd_overall  fallback_margin  arb_margin  fallback_cost  \n",
       "0                  100.000000         0.058410    0.403999       0.345589  \n",
       "1                    0.316826        -0.176400    0.064876       0.241276  \n",
       "2                    0.582993        -0.292514    0.363597       0.656111  \n",
       "3                   95.086548         0.041334    0.495772       0.454439  \n",
       "4                  100.000000         0.200951    0.485378       0.284427  "
      ]
     },
     "metadata": {},
     "output_type": "display_data"
    },
    {
     "data": {
      "text/html": [
       "<div>\n",
       "<table border=\"1\" class=\"dataframe\">\n",
       "  <thead>\n",
       "    <tr style=\"text-align: right;\">\n",
       "      <th></th>\n",
       "      <th>age_orig</th>\n",
       "      <th>age_ln</th>\n",
       "      <th>age_div1</th>\n",
       "      <th>age_power</th>\n",
       "      <th>per_norm</th>\n",
       "      <th>per_e</th>\n",
       "      <th>bet_type0=asian_handicap</th>\n",
       "      <th>bet_type0=both_teams_to_score</th>\n",
       "      <th>bet_type0=clean_sheet</th>\n",
       "      <th>bet_type0=correct_score</th>\n",
       "    </tr>\n",
       "  </thead>\n",
       "  <tbody>\n",
       "    <tr>\n",
       "      <th>0</th>\n",
       "      <td>896.968049</td>\n",
       "      <td>6.799020</td>\n",
       "      <td>896.968049</td>\n",
       "      <td>6.473034e+11</td>\n",
       "      <td>-0.833980</td>\n",
       "      <td>0.434317</td>\n",
       "      <td>0.0</td>\n",
       "      <td>0.0</td>\n",
       "      <td>0.0</td>\n",
       "      <td>0.0</td>\n",
       "    </tr>\n",
       "    <tr>\n",
       "      <th>1</th>\n",
       "      <td>0.432858</td>\n",
       "      <td>-0.837347</td>\n",
       "      <td>0.432858</td>\n",
       "      <td>3.510589e-02</td>\n",
       "      <td>-1.076556</td>\n",
       "      <td>0.340767</td>\n",
       "      <td>0.0</td>\n",
       "      <td>0.0</td>\n",
       "      <td>0.0</td>\n",
       "      <td>1.0</td>\n",
       "    </tr>\n",
       "    <tr>\n",
       "      <th>2</th>\n",
       "      <td>0.064819</td>\n",
       "      <td>-2.736155</td>\n",
       "      <td>0.064819</td>\n",
       "      <td>1.765273e-05</td>\n",
       "      <td>1.322949</td>\n",
       "      <td>3.754477</td>\n",
       "      <td>0.0</td>\n",
       "      <td>0.0</td>\n",
       "      <td>0.0</td>\n",
       "      <td>0.0</td>\n",
       "    </tr>\n",
       "    <tr>\n",
       "      <th>3</th>\n",
       "      <td>107.238326</td>\n",
       "      <td>4.675054</td>\n",
       "      <td>107.238326</td>\n",
       "      <td>1.322513e+08</td>\n",
       "      <td>-0.341313</td>\n",
       "      <td>0.710836</td>\n",
       "      <td>0.0</td>\n",
       "      <td>0.0</td>\n",
       "      <td>0.0</td>\n",
       "      <td>0.0</td>\n",
       "    </tr>\n",
       "    <tr>\n",
       "      <th>4</th>\n",
       "      <td>38.344546</td>\n",
       "      <td>3.646612</td>\n",
       "      <td>38.344546</td>\n",
       "      <td>2.161794e+06</td>\n",
       "      <td>0.692710</td>\n",
       "      <td>1.999126</td>\n",
       "      <td>0.0</td>\n",
       "      <td>0.0</td>\n",
       "      <td>0.0</td>\n",
       "      <td>0.0</td>\n",
       "    </tr>\n",
       "  </tbody>\n",
       "</table>\n",
       "</div>"
      ],
      "text/plain": [
       "     age_orig    age_ln    age_div1     age_power  per_norm     per_e  \\\n",
       "0  896.968049  6.799020  896.968049  6.473034e+11 -0.833980  0.434317   \n",
       "1    0.432858 -0.837347    0.432858  3.510589e-02 -1.076556  0.340767   \n",
       "2    0.064819 -2.736155    0.064819  1.765273e-05  1.322949  3.754477   \n",
       "3  107.238326  4.675054  107.238326  1.322513e+08 -0.341313  0.710836   \n",
       "4   38.344546  3.646612   38.344546  2.161794e+06  0.692710  1.999126   \n",
       "\n",
       "   bet_type0=asian_handicap  bet_type0=both_teams_to_score  \\\n",
       "0                       0.0                            0.0   \n",
       "1                       0.0                            0.0   \n",
       "2                       0.0                            0.0   \n",
       "3                       0.0                            0.0   \n",
       "4                       0.0                            0.0   \n",
       "\n",
       "   bet_type0=clean_sheet  bet_type0=correct_score  \n",
       "0                    0.0                      0.0  \n",
       "1                    0.0                      1.0  \n",
       "2                    0.0                      0.0  \n",
       "3                    0.0                      0.0  \n",
       "4                    0.0                      0.0  "
      ]
     },
     "metadata": {},
     "output_type": "display_data"
    },
    {
     "data": {
      "text/html": [
       "<div>\n",
       "<table border=\"1\" class=\"dataframe\">\n",
       "  <thead>\n",
       "    <tr style=\"text-align: right;\">\n",
       "      <th></th>\n",
       "      <th>bet_type0=correct_score_other</th>\n",
       "      <th>bet_type0=double_chance</th>\n",
       "      <th>bet_type0=draw_no_bet</th>\n",
       "      <th>bet_type0=euro_handicap</th>\n",
       "      <th>bet_type0=match_odds</th>\n",
       "      <th>bet_type0=match_odds_and_btts</th>\n",
       "      <th>bet_type0=match_odds_and_ou</th>\n",
       "      <th>bet_type0=odd_or_even</th>\n",
       "      <th>bet_type0=over_under</th>\n",
       "      <th>bet_type0=team_over_under</th>\n",
       "    </tr>\n",
       "  </thead>\n",
       "  <tbody>\n",
       "    <tr>\n",
       "      <th>0</th>\n",
       "      <td>0.0</td>\n",
       "      <td>0.0</td>\n",
       "      <td>0.0</td>\n",
       "      <td>0.0</td>\n",
       "      <td>0.0</td>\n",
       "      <td>0.0</td>\n",
       "      <td>0.0</td>\n",
       "      <td>0.0</td>\n",
       "      <td>1.0</td>\n",
       "      <td>0.0</td>\n",
       "    </tr>\n",
       "    <tr>\n",
       "      <th>1</th>\n",
       "      <td>0.0</td>\n",
       "      <td>0.0</td>\n",
       "      <td>0.0</td>\n",
       "      <td>0.0</td>\n",
       "      <td>0.0</td>\n",
       "      <td>0.0</td>\n",
       "      <td>0.0</td>\n",
       "      <td>0.0</td>\n",
       "      <td>0.0</td>\n",
       "      <td>0.0</td>\n",
       "    </tr>\n",
       "    <tr>\n",
       "      <th>2</th>\n",
       "      <td>0.0</td>\n",
       "      <td>0.0</td>\n",
       "      <td>0.0</td>\n",
       "      <td>0.0</td>\n",
       "      <td>1.0</td>\n",
       "      <td>0.0</td>\n",
       "      <td>0.0</td>\n",
       "      <td>0.0</td>\n",
       "      <td>0.0</td>\n",
       "      <td>0.0</td>\n",
       "    </tr>\n",
       "    <tr>\n",
       "      <th>3</th>\n",
       "      <td>0.0</td>\n",
       "      <td>0.0</td>\n",
       "      <td>0.0</td>\n",
       "      <td>0.0</td>\n",
       "      <td>0.0</td>\n",
       "      <td>0.0</td>\n",
       "      <td>0.0</td>\n",
       "      <td>0.0</td>\n",
       "      <td>1.0</td>\n",
       "      <td>0.0</td>\n",
       "    </tr>\n",
       "    <tr>\n",
       "      <th>4</th>\n",
       "      <td>0.0</td>\n",
       "      <td>0.0</td>\n",
       "      <td>0.0</td>\n",
       "      <td>0.0</td>\n",
       "      <td>1.0</td>\n",
       "      <td>0.0</td>\n",
       "      <td>0.0</td>\n",
       "      <td>0.0</td>\n",
       "      <td>0.0</td>\n",
       "      <td>0.0</td>\n",
       "    </tr>\n",
       "  </tbody>\n",
       "</table>\n",
       "</div>"
      ],
      "text/plain": [
       "   bet_type0=correct_score_other  bet_type0=double_chance  \\\n",
       "0                            0.0                      0.0   \n",
       "1                            0.0                      0.0   \n",
       "2                            0.0                      0.0   \n",
       "3                            0.0                      0.0   \n",
       "4                            0.0                      0.0   \n",
       "\n",
       "   bet_type0=draw_no_bet  bet_type0=euro_handicap  bet_type0=match_odds  \\\n",
       "0                    0.0                      0.0                   0.0   \n",
       "1                    0.0                      0.0                   0.0   \n",
       "2                    0.0                      0.0                   1.0   \n",
       "3                    0.0                      0.0                   0.0   \n",
       "4                    0.0                      0.0                   1.0   \n",
       "\n",
       "   bet_type0=match_odds_and_btts  bet_type0=match_odds_and_ou  \\\n",
       "0                            0.0                          0.0   \n",
       "1                            0.0                          0.0   \n",
       "2                            0.0                          0.0   \n",
       "3                            0.0                          0.0   \n",
       "4                            0.0                          0.0   \n",
       "\n",
       "   bet_type0=odd_or_even  bet_type0=over_under  bet_type0=team_over_under  \n",
       "0                    0.0                   1.0                        0.0  \n",
       "1                    0.0                   0.0                        0.0  \n",
       "2                    0.0                   0.0                        0.0  \n",
       "3                    0.0                   1.0                        0.0  \n",
       "4                    0.0                   0.0                        0.0  "
      ]
     },
     "metadata": {},
     "output_type": "display_data"
    },
    {
     "data": {
      "text/html": [
       "<div>\n",
       "<table border=\"1\" class=\"dataframe\">\n",
       "  <thead>\n",
       "    <tr style=\"text-align: right;\">\n",
       "      <th></th>\n",
       "      <th>bet_type0=team_total_goals</th>\n",
       "      <th>bet_type0=team_win_to_nil</th>\n",
       "      <th>bet_type0=total_goals</th>\n",
       "      <th>bet_type0=total_goals_2</th>\n",
       "      <th>bookie=A</th>\n",
       "      <th>bookie=B</th>\n",
       "      <th>bookie=C</th>\n",
       "      <th>bookie=D</th>\n",
       "      <th>bookie=E</th>\n",
       "      <th>bookie=F</th>\n",
       "    </tr>\n",
       "  </thead>\n",
       "  <tbody>\n",
       "    <tr>\n",
       "      <th>0</th>\n",
       "      <td>0.0</td>\n",
       "      <td>0.0</td>\n",
       "      <td>0.0</td>\n",
       "      <td>0.0</td>\n",
       "      <td>0.0</td>\n",
       "      <td>1.0</td>\n",
       "      <td>0.0</td>\n",
       "      <td>0.0</td>\n",
       "      <td>0.0</td>\n",
       "      <td>0.0</td>\n",
       "    </tr>\n",
       "    <tr>\n",
       "      <th>1</th>\n",
       "      <td>0.0</td>\n",
       "      <td>0.0</td>\n",
       "      <td>0.0</td>\n",
       "      <td>0.0</td>\n",
       "      <td>0.0</td>\n",
       "      <td>1.0</td>\n",
       "      <td>0.0</td>\n",
       "      <td>0.0</td>\n",
       "      <td>0.0</td>\n",
       "      <td>0.0</td>\n",
       "    </tr>\n",
       "    <tr>\n",
       "      <th>2</th>\n",
       "      <td>0.0</td>\n",
       "      <td>0.0</td>\n",
       "      <td>0.0</td>\n",
       "      <td>0.0</td>\n",
       "      <td>0.0</td>\n",
       "      <td>1.0</td>\n",
       "      <td>0.0</td>\n",
       "      <td>0.0</td>\n",
       "      <td>0.0</td>\n",
       "      <td>0.0</td>\n",
       "    </tr>\n",
       "    <tr>\n",
       "      <th>3</th>\n",
       "      <td>0.0</td>\n",
       "      <td>0.0</td>\n",
       "      <td>0.0</td>\n",
       "      <td>0.0</td>\n",
       "      <td>0.0</td>\n",
       "      <td>1.0</td>\n",
       "      <td>0.0</td>\n",
       "      <td>0.0</td>\n",
       "      <td>0.0</td>\n",
       "      <td>0.0</td>\n",
       "    </tr>\n",
       "    <tr>\n",
       "      <th>4</th>\n",
       "      <td>0.0</td>\n",
       "      <td>0.0</td>\n",
       "      <td>0.0</td>\n",
       "      <td>0.0</td>\n",
       "      <td>0.0</td>\n",
       "      <td>1.0</td>\n",
       "      <td>0.0</td>\n",
       "      <td>0.0</td>\n",
       "      <td>0.0</td>\n",
       "      <td>0.0</td>\n",
       "    </tr>\n",
       "  </tbody>\n",
       "</table>\n",
       "</div>"
      ],
      "text/plain": [
       "   bet_type0=team_total_goals  bet_type0=team_win_to_nil  \\\n",
       "0                         0.0                        0.0   \n",
       "1                         0.0                        0.0   \n",
       "2                         0.0                        0.0   \n",
       "3                         0.0                        0.0   \n",
       "4                         0.0                        0.0   \n",
       "\n",
       "   bet_type0=total_goals  bet_type0=total_goals_2  bookie=A  bookie=B  \\\n",
       "0                    0.0                      0.0       0.0       1.0   \n",
       "1                    0.0                      0.0       0.0       1.0   \n",
       "2                    0.0                      0.0       0.0       1.0   \n",
       "3                    0.0                      0.0       0.0       1.0   \n",
       "4                    0.0                      0.0       0.0       1.0   \n",
       "\n",
       "   bookie=C  bookie=D  bookie=E  bookie=F  \n",
       "0       0.0       0.0       0.0       0.0  \n",
       "1       0.0       0.0       0.0       0.0  \n",
       "2       0.0       0.0       0.0       0.0  \n",
       "3       0.0       0.0       0.0       0.0  \n",
       "4       0.0       0.0       0.0       0.0  "
      ]
     },
     "metadata": {},
     "output_type": "display_data"
    },
    {
     "data": {
      "text/plain": [
       "Index(['strategy', 'inplay', 'age', 'stakes', 'max_stakes', 'price',\n",
       "       'pct_max_stake_reqd_overall', 'fallback_margin', 'arb_margin',\n",
       "       'fallback_cost', 'age_orig', 'age_ln', 'age_div1', 'age_power',\n",
       "       'per_norm', 'per_e', 'bet_type0=asian_handicap',\n",
       "       'bet_type0=both_teams_to_score', 'bet_type0=clean_sheet',\n",
       "       'bet_type0=correct_score', 'bet_type0=correct_score_other',\n",
       "       'bet_type0=double_chance', 'bet_type0=draw_no_bet',\n",
       "       'bet_type0=euro_handicap', 'bet_type0=match_odds',\n",
       "       'bet_type0=match_odds_and_btts', 'bet_type0=match_odds_and_ou',\n",
       "       'bet_type0=odd_or_even', 'bet_type0=over_under',\n",
       "       'bet_type0=team_over_under', 'bet_type0=team_total_goals',\n",
       "       'bet_type0=team_win_to_nil', 'bet_type0=total_goals',\n",
       "       'bet_type0=total_goals_2', 'bookie=A', 'bookie=B', 'bookie=C',\n",
       "       'bookie=D', 'bookie=E', 'bookie=F'],\n",
       "      dtype='object')"
      ]
     },
     "execution_count": 63,
     "metadata": {},
     "output_type": "execute_result"
    },
    {
     "data": {
      "text/plain": [
       "0   -1\n",
       "1    1\n",
       "2   -1\n",
       "3    1\n",
       "4   -1\n",
       "Name: pct_matched_cat, dtype: int64"
      ]
     },
     "execution_count": 63,
     "metadata": {},
     "output_type": "execute_result"
    }
   ],
   "source": [
    "dftrain_x, dftrain_y = processfile('/Users/david/notebooks/data/training_set.csv')\n",
    "dispdf(dftrain_x, 10)\n",
    "#dftrain_x.head()\n",
    "dftrain_x.columns\n",
    "dftrain_y.head()\n",
    "\n",
    "#dftrain_y.columns"
   ]
  },
  {
   "cell_type": "code",
   "execution_count": 9,
   "metadata": {
    "collapsed": false
   },
   "outputs": [
    {
     "data": {
      "text/html": [
       "<div>\n",
       "<table border=\"1\" class=\"dataframe\">\n",
       "  <thead>\n",
       "    <tr style=\"text-align: right;\">\n",
       "      <th></th>\n",
       "      <th>strategy</th>\n",
       "      <th>inplay</th>\n",
       "      <th>age</th>\n",
       "      <th>stakes</th>\n",
       "      <th>max_stakes</th>\n",
       "      <th>price</th>\n",
       "      <th>pct_max_stake_reqd_overall</th>\n",
       "      <th>fallback_margin</th>\n",
       "      <th>arb_margin</th>\n",
       "      <th>fallback_cost</th>\n",
       "      <th>...</th>\n",
       "      <th>bet_type0=team_total_goals</th>\n",
       "      <th>bet_type0=team_win_to_nil</th>\n",
       "      <th>bet_type0=total_goals</th>\n",
       "      <th>bet_type0=total_goals_2</th>\n",
       "      <th>bookie=A</th>\n",
       "      <th>bookie=B</th>\n",
       "      <th>bookie=C</th>\n",
       "      <th>bookie=D</th>\n",
       "      <th>bookie=E</th>\n",
       "      <th>bookie=F</th>\n",
       "    </tr>\n",
       "  </thead>\n",
       "  <tbody>\n",
       "    <tr>\n",
       "      <th>count</th>\n",
       "      <td>203490.000000</td>\n",
       "      <td>203490.000000</td>\n",
       "      <td>203490.000000</td>\n",
       "      <td>203490.000000</td>\n",
       "      <td>203490.000000</td>\n",
       "      <td>203490.000000</td>\n",
       "      <td>203490.000000</td>\n",
       "      <td>203490.000000</td>\n",
       "      <td>2.034900e+05</td>\n",
       "      <td>203490.000000</td>\n",
       "      <td>...</td>\n",
       "      <td>203490.000000</td>\n",
       "      <td>203490.000000</td>\n",
       "      <td>203490.000000</td>\n",
       "      <td>203490.000000</td>\n",
       "      <td>203490.000000</td>\n",
       "      <td>203490.000000</td>\n",
       "      <td>203490.000000</td>\n",
       "      <td>203490.000000</td>\n",
       "      <td>203490.000000</td>\n",
       "      <td>203490.000000</td>\n",
       "    </tr>\n",
       "    <tr>\n",
       "      <th>mean</th>\n",
       "      <td>0.650867</td>\n",
       "      <td>0.809057</td>\n",
       "      <td>873.898878</td>\n",
       "      <td>27.104012</td>\n",
       "      <td>1598.758216</td>\n",
       "      <td>4.530024</td>\n",
       "      <td>41.351588</td>\n",
       "      <td>-0.041431</td>\n",
       "      <td>5.110810e-01</td>\n",
       "      <td>0.552511</td>\n",
       "      <td>...</td>\n",
       "      <td>0.001430</td>\n",
       "      <td>0.001258</td>\n",
       "      <td>0.002664</td>\n",
       "      <td>0.000029</td>\n",
       "      <td>0.133112</td>\n",
       "      <td>0.541235</td>\n",
       "      <td>0.094191</td>\n",
       "      <td>0.068038</td>\n",
       "      <td>0.039142</td>\n",
       "      <td>0.124281</td>\n",
       "    </tr>\n",
       "    <tr>\n",
       "      <th>std</th>\n",
       "      <td>0.476697</td>\n",
       "      <td>0.393045</td>\n",
       "      <td>7463.111904</td>\n",
       "      <td>51.529143</td>\n",
       "      <td>3599.565801</td>\n",
       "      <td>16.970111</td>\n",
       "      <td>43.466261</td>\n",
       "      <td>0.784173</td>\n",
       "      <td>4.758841e-01</td>\n",
       "      <td>0.840963</td>\n",
       "      <td>...</td>\n",
       "      <td>0.037789</td>\n",
       "      <td>0.035447</td>\n",
       "      <td>0.051541</td>\n",
       "      <td>0.005430</td>\n",
       "      <td>0.339697</td>\n",
       "      <td>0.498298</td>\n",
       "      <td>0.292095</td>\n",
       "      <td>0.251811</td>\n",
       "      <td>0.193933</td>\n",
       "      <td>0.329903</td>\n",
       "    </tr>\n",
       "    <tr>\n",
       "      <th>min</th>\n",
       "      <td>0.000000</td>\n",
       "      <td>0.000000</td>\n",
       "      <td>0.000045</td>\n",
       "      <td>0.003778</td>\n",
       "      <td>0.027000</td>\n",
       "      <td>1.002475</td>\n",
       "      <td>0.001955</td>\n",
       "      <td>-99.990000</td>\n",
       "      <td>2.430111e-16</td>\n",
       "      <td>-2.996986</td>\n",
       "      <td>...</td>\n",
       "      <td>0.000000</td>\n",
       "      <td>0.000000</td>\n",
       "      <td>0.000000</td>\n",
       "      <td>0.000000</td>\n",
       "      <td>0.000000</td>\n",
       "      <td>0.000000</td>\n",
       "      <td>0.000000</td>\n",
       "      <td>0.000000</td>\n",
       "      <td>0.000000</td>\n",
       "      <td>0.000000</td>\n",
       "    </tr>\n",
       "    <tr>\n",
       "      <th>25%</th>\n",
       "      <td>0.000000</td>\n",
       "      <td>1.000000</td>\n",
       "      <td>0.680004</td>\n",
       "      <td>4.079795</td>\n",
       "      <td>17.007900</td>\n",
       "      <td>1.746269</td>\n",
       "      <td>1.514494</td>\n",
       "      <td>-0.264550</td>\n",
       "      <td>1.980198e-01</td>\n",
       "      <td>0.222831</td>\n",
       "      <td>...</td>\n",
       "      <td>0.000000</td>\n",
       "      <td>0.000000</td>\n",
       "      <td>0.000000</td>\n",
       "      <td>0.000000</td>\n",
       "      <td>0.000000</td>\n",
       "      <td>0.000000</td>\n",
       "      <td>0.000000</td>\n",
       "      <td>0.000000</td>\n",
       "      <td>0.000000</td>\n",
       "      <td>0.000000</td>\n",
       "    </tr>\n",
       "    <tr>\n",
       "      <th>50%</th>\n",
       "      <td>1.000000</td>\n",
       "      <td>1.000000</td>\n",
       "      <td>4.867958</td>\n",
       "      <td>11.188307</td>\n",
       "      <td>99.372050</td>\n",
       "      <td>2.120000</td>\n",
       "      <td>16.622931</td>\n",
       "      <td>-0.009348</td>\n",
       "      <td>4.437451e-01</td>\n",
       "      <td>0.374080</td>\n",
       "      <td>...</td>\n",
       "      <td>0.000000</td>\n",
       "      <td>0.000000</td>\n",
       "      <td>0.000000</td>\n",
       "      <td>0.000000</td>\n",
       "      <td>0.000000</td>\n",
       "      <td>1.000000</td>\n",
       "      <td>0.000000</td>\n",
       "      <td>0.000000</td>\n",
       "      <td>0.000000</td>\n",
       "      <td>0.000000</td>\n",
       "    </tr>\n",
       "    <tr>\n",
       "      <th>75%</th>\n",
       "      <td>1.000000</td>\n",
       "      <td>1.000000</td>\n",
       "      <td>48.885055</td>\n",
       "      <td>35.080867</td>\n",
       "      <td>1285.000000</td>\n",
       "      <td>3.400000</td>\n",
       "      <td>100.000000</td>\n",
       "      <td>0.248526</td>\n",
       "      <td>6.618134e-01</td>\n",
       "      <td>0.654160</td>\n",
       "      <td>...</td>\n",
       "      <td>0.000000</td>\n",
       "      <td>0.000000</td>\n",
       "      <td>0.000000</td>\n",
       "      <td>0.000000</td>\n",
       "      <td>0.000000</td>\n",
       "      <td>1.000000</td>\n",
       "      <td>0.000000</td>\n",
       "      <td>0.000000</td>\n",
       "      <td>0.000000</td>\n",
       "      <td>0.000000</td>\n",
       "    </tr>\n",
       "    <tr>\n",
       "      <th>max</th>\n",
       "      <td>1.000000</td>\n",
       "      <td>1.000000</td>\n",
       "      <td>326527.341292</td>\n",
       "      <td>11048.490442</td>\n",
       "      <td>106801.560000</td>\n",
       "      <td>1000.000000</td>\n",
       "      <td>100.000000</td>\n",
       "      <td>4.564315</td>\n",
       "      <td>3.030133e+01</td>\n",
       "      <td>100.898579</td>\n",
       "      <td>...</td>\n",
       "      <td>1.000000</td>\n",
       "      <td>1.000000</td>\n",
       "      <td>1.000000</td>\n",
       "      <td>1.000000</td>\n",
       "      <td>1.000000</td>\n",
       "      <td>1.000000</td>\n",
       "      <td>1.000000</td>\n",
       "      <td>1.000000</td>\n",
       "      <td>1.000000</td>\n",
       "      <td>1.000000</td>\n",
       "    </tr>\n",
       "  </tbody>\n",
       "</table>\n",
       "<p>8 rows × 40 columns</p>\n",
       "</div>"
      ],
      "text/plain": [
       "            strategy         inplay            age         stakes  \\\n",
       "count  203490.000000  203490.000000  203490.000000  203490.000000   \n",
       "mean        0.650867       0.809057     873.898878      27.104012   \n",
       "std         0.476697       0.393045    7463.111904      51.529143   \n",
       "min         0.000000       0.000000       0.000045       0.003778   \n",
       "25%         0.000000       1.000000       0.680004       4.079795   \n",
       "50%         1.000000       1.000000       4.867958      11.188307   \n",
       "75%         1.000000       1.000000      48.885055      35.080867   \n",
       "max         1.000000       1.000000  326527.341292   11048.490442   \n",
       "\n",
       "          max_stakes          price  pct_max_stake_reqd_overall  \\\n",
       "count  203490.000000  203490.000000               203490.000000   \n",
       "mean     1598.758216       4.530024                   41.351588   \n",
       "std      3599.565801      16.970111                   43.466261   \n",
       "min         0.027000       1.002475                    0.001955   \n",
       "25%        17.007900       1.746269                    1.514494   \n",
       "50%        99.372050       2.120000                   16.622931   \n",
       "75%      1285.000000       3.400000                  100.000000   \n",
       "max    106801.560000    1000.000000                  100.000000   \n",
       "\n",
       "       fallback_margin    arb_margin  fallback_cost      ...        \\\n",
       "count    203490.000000  2.034900e+05  203490.000000      ...         \n",
       "mean         -0.041431  5.110810e-01       0.552511      ...         \n",
       "std           0.784173  4.758841e-01       0.840963      ...         \n",
       "min         -99.990000  2.430111e-16      -2.996986      ...         \n",
       "25%          -0.264550  1.980198e-01       0.222831      ...         \n",
       "50%          -0.009348  4.437451e-01       0.374080      ...         \n",
       "75%           0.248526  6.618134e-01       0.654160      ...         \n",
       "max           4.564315  3.030133e+01     100.898579      ...         \n",
       "\n",
       "       bet_type0=team_total_goals  bet_type0=team_win_to_nil  \\\n",
       "count               203490.000000              203490.000000   \n",
       "mean                     0.001430                   0.001258   \n",
       "std                      0.037789                   0.035447   \n",
       "min                      0.000000                   0.000000   \n",
       "25%                      0.000000                   0.000000   \n",
       "50%                      0.000000                   0.000000   \n",
       "75%                      0.000000                   0.000000   \n",
       "max                      1.000000                   1.000000   \n",
       "\n",
       "       bet_type0=total_goals  bet_type0=total_goals_2       bookie=A  \\\n",
       "count          203490.000000            203490.000000  203490.000000   \n",
       "mean                0.002664                 0.000029       0.133112   \n",
       "std                 0.051541                 0.005430       0.339697   \n",
       "min                 0.000000                 0.000000       0.000000   \n",
       "25%                 0.000000                 0.000000       0.000000   \n",
       "50%                 0.000000                 0.000000       0.000000   \n",
       "75%                 0.000000                 0.000000       0.000000   \n",
       "max                 1.000000                 1.000000       1.000000   \n",
       "\n",
       "            bookie=B       bookie=C       bookie=D       bookie=E  \\\n",
       "count  203490.000000  203490.000000  203490.000000  203490.000000   \n",
       "mean        0.541235       0.094191       0.068038       0.039142   \n",
       "std         0.498298       0.292095       0.251811       0.193933   \n",
       "min         0.000000       0.000000       0.000000       0.000000   \n",
       "25%         0.000000       0.000000       0.000000       0.000000   \n",
       "50%         1.000000       0.000000       0.000000       0.000000   \n",
       "75%         1.000000       0.000000       0.000000       0.000000   \n",
       "max         1.000000       1.000000       1.000000       1.000000   \n",
       "\n",
       "            bookie=F  \n",
       "count  203490.000000  \n",
       "mean        0.124281  \n",
       "std         0.329903  \n",
       "min         0.000000  \n",
       "25%         0.000000  \n",
       "50%         0.000000  \n",
       "75%         0.000000  \n",
       "max         1.000000  \n",
       "\n",
       "[8 rows x 40 columns]"
      ]
     },
     "execution_count": 9,
     "metadata": {},
     "output_type": "execute_result"
    }
   ],
   "source": [
    "dftrain_x.describe()"
   ]
  },
  {
   "cell_type": "code",
   "execution_count": 10,
   "metadata": {
    "collapsed": false
   },
   "outputs": [
    {
     "name": "stdout",
     "output_type": "stream",
     "text": [
      "94397\n"
     ]
    },
    {
     "data": {
      "text/html": [
       "<div>\n",
       "<table border=\"1\" class=\"dataframe\">\n",
       "  <thead>\n",
       "    <tr style=\"text-align: right;\">\n",
       "      <th></th>\n",
       "      <th>strategy</th>\n",
       "      <th>inplay</th>\n",
       "      <th>age</th>\n",
       "      <th>stakes</th>\n",
       "      <th>max_stakes</th>\n",
       "      <th>price</th>\n",
       "      <th>pct_max_stake_reqd_overall</th>\n",
       "      <th>fallback_margin</th>\n",
       "      <th>arb_margin</th>\n",
       "      <th>fallback_cost</th>\n",
       "      <th>...</th>\n",
       "      <th>bet_type0=team_total_goals</th>\n",
       "      <th>bet_type0=team_win_to_nil</th>\n",
       "      <th>bet_type0=total_goals</th>\n",
       "      <th>bet_type0=total_goals_2</th>\n",
       "      <th>bookie=A</th>\n",
       "      <th>bookie=B</th>\n",
       "      <th>bookie=C</th>\n",
       "      <th>bookie=D</th>\n",
       "      <th>bookie=E</th>\n",
       "      <th>bookie=F</th>\n",
       "    </tr>\n",
       "  </thead>\n",
       "  <tbody>\n",
       "    <tr>\n",
       "      <th>0</th>\n",
       "      <td>0</td>\n",
       "      <td>1</td>\n",
       "      <td>61.637285</td>\n",
       "      <td>4.330000</td>\n",
       "      <td>4.3300</td>\n",
       "      <td>2.320000</td>\n",
       "      <td>100.000000</td>\n",
       "      <td>0.410490</td>\n",
       "      <td>0.794893</td>\n",
       "      <td>0.384403</td>\n",
       "      <td>...</td>\n",
       "      <td>0.0</td>\n",
       "      <td>0.0</td>\n",
       "      <td>0.0</td>\n",
       "      <td>0.0</td>\n",
       "      <td>0.0</td>\n",
       "      <td>1.0</td>\n",
       "      <td>0.0</td>\n",
       "      <td>0.0</td>\n",
       "      <td>0.0</td>\n",
       "      <td>0.0</td>\n",
       "    </tr>\n",
       "    <tr>\n",
       "      <th>1</th>\n",
       "      <td>1</td>\n",
       "      <td>0</td>\n",
       "      <td>72.134169</td>\n",
       "      <td>28.839624</td>\n",
       "      <td>76.8258</td>\n",
       "      <td>2.219512</td>\n",
       "      <td>37.538982</td>\n",
       "      <td>-0.181804</td>\n",
       "      <td>0.012743</td>\n",
       "      <td>0.194547</td>\n",
       "      <td>...</td>\n",
       "      <td>0.0</td>\n",
       "      <td>0.0</td>\n",
       "      <td>0.0</td>\n",
       "      <td>0.0</td>\n",
       "      <td>0.0</td>\n",
       "      <td>1.0</td>\n",
       "      <td>0.0</td>\n",
       "      <td>0.0</td>\n",
       "      <td>0.0</td>\n",
       "      <td>0.0</td>\n",
       "    </tr>\n",
       "    <tr>\n",
       "      <th>2</th>\n",
       "      <td>1</td>\n",
       "      <td>1</td>\n",
       "      <td>0.298152</td>\n",
       "      <td>8.228528</td>\n",
       "      <td>5062.0000</td>\n",
       "      <td>1.760000</td>\n",
       "      <td>0.162555</td>\n",
       "      <td>-0.408819</td>\n",
       "      <td>0.010379</td>\n",
       "      <td>0.419198</td>\n",
       "      <td>...</td>\n",
       "      <td>0.0</td>\n",
       "      <td>0.0</td>\n",
       "      <td>0.0</td>\n",
       "      <td>0.0</td>\n",
       "      <td>0.0</td>\n",
       "      <td>0.0</td>\n",
       "      <td>0.0</td>\n",
       "      <td>1.0</td>\n",
       "      <td>0.0</td>\n",
       "      <td>0.0</td>\n",
       "    </tr>\n",
       "    <tr>\n",
       "      <th>3</th>\n",
       "      <td>1</td>\n",
       "      <td>1</td>\n",
       "      <td>0.606424</td>\n",
       "      <td>3.123076</td>\n",
       "      <td>9.8700</td>\n",
       "      <td>8.200000</td>\n",
       "      <td>31.642105</td>\n",
       "      <td>-0.185425</td>\n",
       "      <td>0.119250</td>\n",
       "      <td>0.304676</td>\n",
       "      <td>...</td>\n",
       "      <td>0.0</td>\n",
       "      <td>0.0</td>\n",
       "      <td>0.0</td>\n",
       "      <td>0.0</td>\n",
       "      <td>0.0</td>\n",
       "      <td>1.0</td>\n",
       "      <td>0.0</td>\n",
       "      <td>0.0</td>\n",
       "      <td>0.0</td>\n",
       "      <td>0.0</td>\n",
       "    </tr>\n",
       "    <tr>\n",
       "      <th>4</th>\n",
       "      <td>1</td>\n",
       "      <td>1</td>\n",
       "      <td>21.131292</td>\n",
       "      <td>25.121046</td>\n",
       "      <td>4050.0000</td>\n",
       "      <td>1.720000</td>\n",
       "      <td>0.620273</td>\n",
       "      <td>0.092797</td>\n",
       "      <td>0.194175</td>\n",
       "      <td>0.101378</td>\n",
       "      <td>...</td>\n",
       "      <td>0.0</td>\n",
       "      <td>0.0</td>\n",
       "      <td>0.0</td>\n",
       "      <td>0.0</td>\n",
       "      <td>0.0</td>\n",
       "      <td>0.0</td>\n",
       "      <td>0.0</td>\n",
       "      <td>1.0</td>\n",
       "      <td>0.0</td>\n",
       "      <td>0.0</td>\n",
       "    </tr>\n",
       "  </tbody>\n",
       "</table>\n",
       "<p>5 rows × 40 columns</p>\n",
       "</div>"
      ],
      "text/plain": [
       "   strategy  inplay        age     stakes  max_stakes     price  \\\n",
       "0         0       1  61.637285   4.330000      4.3300  2.320000   \n",
       "1         1       0  72.134169  28.839624     76.8258  2.219512   \n",
       "2         1       1   0.298152   8.228528   5062.0000  1.760000   \n",
       "3         1       1   0.606424   3.123076      9.8700  8.200000   \n",
       "4         1       1  21.131292  25.121046   4050.0000  1.720000   \n",
       "\n",
       "   pct_max_stake_reqd_overall  fallback_margin  arb_margin  fallback_cost  \\\n",
       "0                  100.000000         0.410490    0.794893       0.384403   \n",
       "1                   37.538982        -0.181804    0.012743       0.194547   \n",
       "2                    0.162555        -0.408819    0.010379       0.419198   \n",
       "3                   31.642105        -0.185425    0.119250       0.304676   \n",
       "4                    0.620273         0.092797    0.194175       0.101378   \n",
       "\n",
       "     ...     bet_type0=team_total_goals  bet_type0=team_win_to_nil  \\\n",
       "0    ...                            0.0                        0.0   \n",
       "1    ...                            0.0                        0.0   \n",
       "2    ...                            0.0                        0.0   \n",
       "3    ...                            0.0                        0.0   \n",
       "4    ...                            0.0                        0.0   \n",
       "\n",
       "   bet_type0=total_goals  bet_type0=total_goals_2  bookie=A  bookie=B  \\\n",
       "0                    0.0                      0.0       0.0       1.0   \n",
       "1                    0.0                      0.0       0.0       1.0   \n",
       "2                    0.0                      0.0       0.0       0.0   \n",
       "3                    0.0                      0.0       0.0       1.0   \n",
       "4                    0.0                      0.0       0.0       0.0   \n",
       "\n",
       "   bookie=C  bookie=D  bookie=E  bookie=F  \n",
       "0       0.0       0.0       0.0       0.0  \n",
       "1       0.0       0.0       0.0       0.0  \n",
       "2       0.0       1.0       0.0       0.0  \n",
       "3       0.0       0.0       0.0       0.0  \n",
       "4       0.0       1.0       0.0       0.0  \n",
       "\n",
       "[5 rows x 40 columns]"
      ]
     },
     "execution_count": 10,
     "metadata": {},
     "output_type": "execute_result"
    },
    {
     "data": {
      "text/plain": [
       "Index(['strategy', 'inplay', 'age', 'stakes', 'max_stakes', 'price',\n",
       "       'pct_max_stake_reqd_overall', 'fallback_margin', 'arb_margin',\n",
       "       'fallback_cost', 'arb_margin_orig', 'arb_margin_ln', 'arb_margin_div1',\n",
       "       'arb_margin_power', 'per_norm', 'per_e', 'bet_type0=asian_handicap',\n",
       "       'bet_type0=both_teams_to_score', 'bet_type0=clean_sheet',\n",
       "       'bet_type0=correct_score', 'bet_type0=correct_score_other',\n",
       "       'bet_type0=double_chance', 'bet_type0=draw_no_bet',\n",
       "       'bet_type0=euro_handicap', 'bet_type0=match_odds',\n",
       "       'bet_type0=match_odds_and_btts', 'bet_type0=match_odds_and_ou',\n",
       "       'bet_type0=odd_or_even', 'bet_type0=over_under',\n",
       "       'bet_type0=team_over_under', 'bet_type0=team_total_goals',\n",
       "       'bet_type0=team_win_to_nil', 'bet_type0=total_goals',\n",
       "       'bet_type0=total_goals_2', 'bookie=A', 'bookie=B', 'bookie=C',\n",
       "       'bookie=D', 'bookie=E', 'bookie=F'],\n",
       "      dtype='object')"
      ]
     },
     "execution_count": 10,
     "metadata": {},
     "output_type": "execute_result"
    },
    {
     "data": {
      "text/plain": [
       "0    1\n",
       "1    1\n",
       "2    1\n",
       "3   -1\n",
       "4    1\n",
       "Name: pct_matched_cat, dtype: int64"
      ]
     },
     "execution_count": 10,
     "metadata": {},
     "output_type": "execute_result"
    }
   ],
   "source": [
    "dftest_x, dftest_y = processfile('/Users/david/notebooks/data/testing_set.csv')\n",
    "dftest_x.head()\n",
    "dftest_x.columns\n",
    "dftest_y.head()\n",
    "#dftest_y.columns"
   ]
  },
  {
   "cell_type": "code",
   "execution_count": null,
   "metadata": {
    "collapsed": false
   },
   "outputs": [],
   "source": [
    "def mad_based_outlier(points, thresh=3.5):\n",
    "    if len(points.shape) == 1:\n",
    "        points = points[:,None]\n",
    "    median = np.median(points, axis=0)\n",
    "    diff = np.sum((points - median)**2, axis=-1)\n",
    "    diff = np.sqrt(diff)\n",
    "    med_abs_deviation = np.median(diff)\n",
    "\n",
    "    modified_z_score = 0.6745 * diff / med_abs_deviation\n",
    "\n",
    "    return modified_z_score > thresh\n",
    "def plot(x):\n",
    "    fig, axes = plt.subplots(nrows=2)\n",
    "    for ax, func in zip(axes, [mad_based_outlier]):\n",
    "        sns.distplot(x, ax=ax, rug=False, hist=False)\n",
    "        outliers = x[func(x)]\n",
    "        print(\"outliers\", len(outliers))\n",
    "        ax.plot(outliers, np.zeros_like(outliers), 'ro', clip_on=False)\n",
    "\n",
    "    kwargs = dict(y=0.95, x=0.05, ha='left', va='top')\n",
    "    axes[0].set_title('Percentile-based Outliers', **kwargs)\n",
    "    #axes[1].set_title('MAD-based Outliers', **kwargs)\n",
    "    fig.suptitle('Comparing Outlier Tests with n={}'.format(len(x)), size=14)\n",
    "    plt.show()\n",
    "\n",
    "#sns.set_style(\"whitegrid\")\n",
    "#sns.boxplot(dftrain_x[dftrain_x.columns[2]])\n",
    "for i in [10,11]:\n",
    "    print(dftrain_x.columns[i])\n",
    "    plot(dftrain_x[dftrain_x.columns[i]])\n"
   ]
  },
  {
   "cell_type": "markdown",
   "metadata": {},
   "source": [
    "Read in the Data"
   ]
  },
  {
   "cell_type": "code",
   "execution_count": 12,
   "metadata": {
    "code_folding": [],
    "collapsed": false,
    "scrolled": false
   },
   "outputs": [
    {
     "data": {
      "image/png": "[encoded data removed]",
      "text/plain": [
       "<matplotlib.figure.Figure at 0x12577c1d0>"
      ]
     },
     "metadata": {},
     "output_type": "display_data"
    },
    {
     "data": {
      "image/png": "[encoded data removed]",
      "text/plain": [
       "<matplotlib.figure.Figure at 0x1254d07f0>"
      ]
     },
     "metadata": {},
     "output_type": "display_data"
    },
    {
     "data": {
      "image/png": "[encoded data removed]",
      "text/plain": [
       "<matplotlib.figure.Figure at 0x125b36c18>"
      ]
     },
     "metadata": {},
     "output_type": "display_data"
    },
    {
     "data": {
      "image/png": "[encoded data removed]",
      "text/plain": [
       "<matplotlib.figure.Figure at 0x125795ba8>"
      ]
     },
     "metadata": {},
     "output_type": "display_data"
    },
    {
     "data": {
      "image/png": "[encoded data removed]",
      "text/plain": [
       "<matplotlib.figure.Figure at 0x1255af390>"
      ]
     },
     "metadata": {},
     "output_type": "display_data"
    },
    {
     "data": {
      "image/png": "[encoded data removed]",
      "text/plain": [
       "<matplotlib.figure.Figure at 0x12549ecc0>"
      ]
     },
     "metadata": {},
     "output_type": "display_data"
    },
    {
     "data": {
      "image/png": "[encoded data removed]",
      "text/plain": [
       "<matplotlib.figure.Figure at 0x125c657f0>"
      ]
     },
     "metadata": {},
     "output_type": "display_data"
    },
    {
     "data": {
      "image/png": "[encoded data removed]",
      "text/plain": [
       "<matplotlib.figure.Figure at 0x137021cf8>"
      ]
     },
     "metadata": {},
     "output_type": "display_data"
    },
    {
     "data": {
      "image/png": "[encoded data removed]",
      "text/plain": [
       "<matplotlib.figure.Figure at 0x125742898>"
      ]
     },
     "metadata": {},
     "output_type": "display_data"
    },
    {
     "data": {
      "image/png": "[encoded data removed]",
      "text/plain": [
       "<matplotlib.figure.Figure at 0x136615278>"
      ]
     },
     "metadata": {},
     "output_type": "display_data"
    },
    {
     "data": {
      "image/png": "[encoded data removed]",
      "text/plain": [
       "<matplotlib.figure.Figure at 0x136e2bc18>"
      ]
     },
     "metadata": {},
     "output_type": "display_data"
    },
    {
     "data": {
      "image/png": "[encoded data removed]",
      "text/plain": [
       "<matplotlib.figure.Figure at 0x136defeb8>"
      ]
     },
     "metadata": {},
     "output_type": "display_data"
    },
    {
     "data": {
      "image/png": "[encoded data removed]",
      "text/plain": [
       "<matplotlib.figure.Figure at 0x136d931d0>"
      ]
     },
     "metadata": {},
     "output_type": "display_data"
    },
    {
     "data": {
      "image/png": "[encoded data removed]",
      "text/plain": [
       "<matplotlib.figure.Figure at 0x136a74828>"
      ]
     },
     "metadata": {},
     "output_type": "display_data"
    }
   ],
   "source": [
    "def plotcolnumericalquartiles(df, cols, limits=[25, 75]):\n",
    "    \n",
    "    c=df.columns\n",
    "    a = 0\n",
    "    for i in cols:\n",
    "        if(a==0):\n",
    "            figurefullwidth()\n",
    "        subplot(a+1)\n",
    "        \n",
    "        per = np.percentile(df[c[i]], limits)\n",
    "        vals = list(filter(lambda x: x > per[0] and x < per[1], df[c[i]]))\n",
    "        plt.hist(vals, bins=20)\n",
    "        subplottitle(a+1, c[i])\n",
    "        a+=1\n",
    "        if(a==3):\n",
    "            a = 0\n",
    "\n",
    "#examine the numberical categories\n",
    "def plotcolnumerical(df, start=0, end=0):\n",
    "    if(end == 0):\n",
    "        end=len(df.columns)\n",
    "    c=df.columns\n",
    "    a = 0\n",
    "    for i in range(start, end):\n",
    "        if(a==0):\n",
    "            figurefullwidth()\n",
    "        subplot(a+1)\n",
    "        #mx = df[c[i]].max()\n",
    "        #mi = df[c[i]].min()\n",
    "        #b = int(abs(mx-mi)/20)\n",
    "        #if b==0:b=1\n",
    "        #print(mx, mi, b)\n",
    "        \n",
    "        _ = df[c[i]].hist(bins=20)\n",
    "        subplottitle(a+1, c[i])\n",
    "        a+=1\n",
    "        if(a==3):\n",
    "            a = 0\n",
    "\n",
    "\n",
    "limits = [5,95]\n",
    "for i in [2, 10, 11, 12, 13, 14, 15, 16]:\n",
    "    plotcolnumericalquartiles(dftrain_x, [i], limits=limits)\n",
    "\n",
    "plotcolnumerical(dftrain_x, end=16)\n",
    "\n",
    "#df[colnum[2]].plot()\n",
    "\n",
    "\n",
    "\n",
    "#df.boxplot(column='ApplicantIncome', by = 'Education')"
   ]
  },
  {
   "cell_type": "code",
   "execution_count": 13,
   "metadata": {
    "collapsed": false
   },
   "outputs": [],
   "source": [
    "#dftrain_x[dftrain_x[\"age_exp\"].apply(lambda x: np.isnan(x))]\n",
    "#dftrain_x[dftrain_x[\"age_exp\"].apply(lambda x: np.isinf(x))]\n"
   ]
  },
  {
   "cell_type": "code",
   "execution_count": 14,
   "metadata": {
    "code_folding": [
     0
    ],
    "collapsed": false
   },
   "outputs": [],
   "source": [
    "#examine the numberical categories\n",
    "def plotcolnumericalagainst(c):\n",
    "    a = 0\n",
    "    for i in range(len(c)):\n",
    "        for j in range(len(c)):\n",
    "            if (a == 0):\n",
    "                figurefullwidth()\n",
    "            ax = plt.subplot(1, len(c), a + 1)\n",
    "            x = df[c[i]]\n",
    "            y = df[c[j]]\n",
    "            if(x.dtype == \"datetime64[ns]\"):\n",
    "                x = [date.to_datetime() for date in x]\n",
    "            if(y.dtype == \"datetime64[ns]\"):\n",
    "                y =  [date.to_datetime() for date in y]\n",
    "                \n",
    "            #subplot(a+1)\n",
    "            #if(df[c[i]].dtype == datetime)\n",
    "            plt.scatter(x, y, c='b')\n",
    "            #_ = df[c[i]].hist(bins=50)\n",
    "            ax.set_ylabel(c[j])\n",
    "            ax.set_xlabel(c[i])\n",
    "            #subplottitle(a+1, c[i])\n",
    "            a += 1\n",
    "            if (a == len(c) - 1):\n",
    "                a = 0\n",
    "\n",
    "#df.dtypes\n",
    "#import matplotlib.dates as mdates\n",
    "#mdates.strpdate2num('%Y-%m-%d')\n",
    "#df[colnum[1]].astype(DT.datetime).values[0]\n",
    "#df[colnum[1]].astype(DT.datetime).values[0].to_datetime()\n",
    "\n",
    "#[date.to_datetime() for date in df[colnum[1]]]\n",
    "\n",
    "#plotcolnumericalagainst(colnum[1:5])\n",
    "#df.boxplot(column='ApplicantIncome', by = 'Education')"
   ]
  },
  {
   "cell_type": "code",
   "execution_count": 15,
   "metadata": {
    "code_folding": [
     0
    ],
    "collapsed": false,
    "scrolled": false
   },
   "outputs": [],
   "source": [
    "#look at the dist across categories\n",
    "def plotcolcats(c):\n",
    "    a = 0\n",
    "    for i in range(len(c)):\n",
    "        if(a==0):\n",
    "            figurefullwidth()\n",
    "        subplot(a+1)\n",
    "        if(len(df[c[i]].unique())> 50):\n",
    "            print (\"too many cols \",len(df[c[i]].unique()), c[i], i)\n",
    "        else:\n",
    "            _ = df[c[i]].value_counts().plot(kind='bar')\n",
    "        subplottitle(a+1, c[i])\n",
    "        #plt.show()\n",
    "        a+=1\n",
    "        if(a==3):\n",
    "            a = 0\n",
    "#plotcolcats(colcat)"
   ]
  },
  {
   "cell_type": "code",
   "execution_count": 16,
   "metadata": {
    "code_folding": [
     0
    ],
    "collapsed": false
   },
   "outputs": [],
   "source": [
    "#figurefullwidth()\n",
    "#df[colcat[4]].value_counts()[:100].plot(kind='bar')\n",
    "#figurefullwidth()\n",
    "#df[colcat[6]].value_counts().plot(kind='bar')\n",
    "#figurefullwidth()\n",
    "#df[colcat[7]].value_counts()[:100].plot(kind='bar')"
   ]
  },
  {
   "cell_type": "code",
   "execution_count": 17,
   "metadata": {
    "code_folding": [
     0
    ],
    "collapsed": false,
    "scrolled": false
   },
   "outputs": [
    {
     "data": {
      "text/plain": [
       "'figurefullwidth()\\nsubplot(1)\\n_vc = df[colcat[0]].value_counts()\\n#.index.tolist()\\ndf[\"Year\"].values.shape\\n_vc.values.shape\\nplt.plot(df[\"Year\"].values, _vc.values, c=_vc.index)\\n#df[colcat[0]].value_counts().values.tolist()\\n'"
      ]
     },
     "execution_count": 17,
     "metadata": {},
     "output_type": "execute_result"
    }
   ],
   "source": [
    "def plotcolcatsbygroup(s, c):\n",
    "    a = 0\n",
    "    for i in range(len(c)):\n",
    "        #if(a==0):\n",
    "        #    figurefullwidth()\n",
    "        #subplot(a+1)\n",
    "        sizes = df.groupby([s,c[i]]).size().unstack()\n",
    "        l = len(sizes)\n",
    "        #print(sizes, )\n",
    "        if(sizes.shape[1]> 50):\n",
    "            print (\"too many cols \",l, c[i], i)\n",
    "        else:\n",
    "            sizes.plot(kind='bar')\n",
    "        #subplottitle(a+1, c[i])\n",
    "        #plt.show()\n",
    "        a+=1\n",
    "        if(a==3):\n",
    "            a = 0\n",
    "#Now we start to see what is significant\n",
    "#df[\"Year\"] = df[\"DateOfCall\"].map(lambda x: x.year)\n",
    "#colcat\n",
    "#df.pivot(index='Year', columns=colcat[0], values='value')\n",
    "#plotcolcatsbygroup('Year', colcat)\n",
    "\n",
    "#df.groupby(['Year',colcat[0]]).size().unstack()\n",
    "\n",
    "#df.pivot_table(index='Year', columns=colcat[0], aggfunc=len, fill_value=0)\n",
    "\n",
    "#plot cat counts vs numberical\n",
    "'''figurefullwidth()\n",
    "subplot(1)\n",
    "_vc = df[colcat[0]].value_counts()\n",
    "#.index.tolist()\n",
    "df[\"Year\"].values.shape\n",
    "_vc.values.shape\n",
    "plt.plot(df[\"Year\"].values, _vc.values, c=_vc.index)\n",
    "#df[colcat[0]].value_counts().values.tolist()\n",
    "'''"
   ]
  },
  {
   "cell_type": "code",
   "execution_count": 18,
   "metadata": {
    "code_folding": [
     0
    ],
    "collapsed": true
   },
   "outputs": [],
   "source": [
    "#look at the dist across categories\n",
    "def plotcolcats(c):\n",
    "    a = 0\n",
    "    for i in range(10):\n",
    "        if(a==0):\n",
    "            figurefullwidth()\n",
    "        subplot(a+1)\n",
    "        if(len(df[colcat[i]].unique())> 50):\n",
    "            print (\"too many cols \",len(df[colcat[i]].unique()), colcat[i], i)\n",
    "        else:\n",
    "            _ = df[colcat[i]].value_counts().plot(kind='bar')\n",
    "        subplottitle(a+1, c[i])\n",
    "        #plt.show()\n",
    "        a+=1\n",
    "        if(a==3):\n",
    "            a = 0"
   ]
  },
  {
   "cell_type": "code",
   "execution_count": 19,
   "metadata": {
    "collapsed": true
   },
   "outputs": [],
   "source": [
    "def selectcols(df1, cols, split, df2):\n",
    "    t_cols = [df1.columns[i] for i in cols]\n",
    "    test_l = int(df1.shape[0] * split)\n",
    "    #train_l = df1.shape[0] - test_l\n",
    "    print(t_cols, test_l)\n",
    "    x_train = df1[t_cols][:test_l]\n",
    "    x_test = df1[t_cols][test_l:]\n",
    "    y_train = df2[:test_l]\n",
    "    y_test = df2[test_l:]\n",
    "    return x_train, x_test, y_train, y_test"
   ]
  },
  {
   "cell_type": "code",
   "execution_count": null,
   "metadata": {
    "collapsed": false
   },
   "outputs": [],
   "source": []
  },
  {
   "cell_type": "code",
   "execution_count": 54,
   "metadata": {
    "collapsed": true
   },
   "outputs": [],
   "source": [
    "def svc():\n",
    "    sv = SVC(kernel='linear', gamma=0.1, probability=False)\n",
    "    tag = \"SVC\"\n",
    "    param_sv = {\"SVC__C\": [1e-4],\n",
    "                        \"SVC__gamma\": [1]}\n",
    "    return sv, tag, param_sv\n",
    "\n",
    "def rf():\n",
    "    sv = RandomForestClassifier()\n",
    "    tag = \"RF\"\n",
    "    param_rf = {\"RF__max_depth\": [10],\n",
    "              \"RF__max_features\": [\"sqrt\"],\n",
    "              \"RF__min_samples_split\": [1],\n",
    "              \"RF__min_samples_leaf\": [1],\n",
    "              \"RF__bootstrap\": [False],\n",
    "              \"RF__n_estimators\": [51],\n",
    "              #\"criterion\": [\"gini\", \"entropy\"]\n",
    "              \"RF__criterion\": [\"entropy\"]}\n",
    "    #param_rf = {}\n",
    "    return sv, tag, param_rf\n",
    "\n",
    "def sgd():\n",
    "    sv = linear_model.SGDClassifier(loss=\"modified_huber\", penalty=\"l2\")\n",
    "    tag = \"SGD\"\n",
    "    param_sv = {}\n",
    "    return sv, tag, param_sv\n",
    "\n",
    "def getcv():\n",
    "    \n",
    "    #sv, tag, param = svc()\n",
    "    sv, tag, param = rf()\n",
    "    #sv, tag, param = sgd()\n",
    "    \n",
    "    return sv, tag, param\n",
    "    "
   ]
  },
  {
   "cell_type": "code",
   "execution_count": 45,
   "metadata": {
    "collapsed": true
   },
   "outputs": [],
   "source": [
    "def sub_p_svm (x1, y1, x2, y2, k, p, do_plot=False, label=\"\", debug=False):\n",
    "    #normalise the data\n",
    "    print(\"Scaling\")\n",
    "    if False:\n",
    "        scaler = StandardScaler()\n",
    "        x1 = scaler.fit_transform(x1)\n",
    "        x2 = scaler.transform(x2)\n",
    "    if debug:\n",
    "        print(y1[104])\n",
    "    print(\"Constructing Pipeline\")\n",
    "    # create feature union\n",
    "    features = []\n",
    "    #features.append(('pca', PCA(n_components=p)))\n",
    "    features.append(('select_best', SelectKBest(k=k)))\n",
    "    feature_union = FeatureUnion(features)\n",
    "    # create pipeline\n",
    "    estimators = []\n",
    "    estimators.append(('feature_union', feature_union))\n",
    "    sv, tag, param = getcv()\n",
    "        \n",
    "    estimators.append((tag, sv))\n",
    "    model = Pipeline(estimators)\n",
    "   \n",
    "    cv_splits = 2\n",
    "    svm = GridSearchCV(model, cv=cv_splits,\n",
    "                       param_grid=param, verbose=0)\n",
    "        \n",
    "    #print(x1)\n",
    "    #print(y1)\n",
    "    #print(x2)\n",
    "    #print(y2)\n",
    "    #Tracer()()\n",
    "    #print(\"mean\", x1.mean(axis=0), \"std\", x1.std(axis=0))\n",
    "    print(\"Fitting\")\n",
    "    \n",
    "    svm.fit(x1, y1)\n",
    "    #y1_svr = svm.predict(x1)\n",
    "    #y2_svr = svm.predict(x2)\n",
    "    #svm_num = svm.best_estimator_.named_steps[\"SVC\"].n_support_\n",
    "    #if useRF:\n",
    "    #    svm_num = np.array([0])\n",
    "    #print(\"Scoring\")\n",
    "    s_in = svm.score(x1, y1)\n",
    "    s_out = svm.score(x2, y2)\n",
    "    #y3 = np.full(len(y2), -1)\n",
    "    #always do nothing\n",
    "    #res_e_simple = accuracy_score(y2, y3)\n",
    "    #cm = confusion_matrix(y2, y2_svr, labels=[-1, 1])\n",
    "    #cm_simple = confusion_matrix(y3, y2_svr, labels=[-1, 1])\n",
    "    \n",
    "    p_in = svm.predict_proba(x1)\n",
    "    c_in = svm.predict(x1)\n",
    "    p_out = svm.predict_proba(x2)\n",
    "    le_in = log_loss(y1, p_in)\n",
    "    le_out = log_loss(y2, p_out)\n",
    "    p_in_mod =[]\n",
    "    y1_mod = list(y1.values)\n",
    "    for i in range(len(y1_mod)):\n",
    "        #print(\"for\", i, y1_mod[i])\n",
    "        #if y1_mod[i] == -1:\n",
    "            p_in_mod.append(p_in[i, 0])\n",
    "        #else:\n",
    "        #    p_in_mod.append(p_in[i, 1])\n",
    "        \n",
    "    if debug:\n",
    "        print(p_in_mod[:5])\n",
    "    if debug:\n",
    "        print(y1_mod[:5])\n",
    "    r1 = np.array(y1_mod)-np.array(p_in_mod)\n",
    "    r_in = np.power(r1,2)\n",
    "    #r_out = np.power(y2-p_out_mod, 2)\n",
    "    \n",
    "    #le_in = log_loss(y1, svm.best_estimator_.named_steps[tag].predict_proba(x1))\n",
    "    #le_out = log_loss(y2, svm.best_estimator_.named_steps[tag].predict_proba(x2))\n",
    "    \n",
    "    print(k, le_in, le_out)\n",
    "    #(log_loss(y[:train_size], gp_fix.predict_proba(X[:train_size])[:, 1])\n",
    "     \n",
    "    #print(mycm(y2, y2_svr))\n",
    "    #print(cm)\n",
    "    if do_plot:\n",
    "        print(r_in[:20])\n",
    "        #plt.figure()\n",
    "        plt.hist(r_in, bins=20,label=label)\n",
    "        plt.legend()\n",
    "        #plt.show()\n",
    "        \n",
    "    if False:\n",
    "        plt.figure()\n",
    "        plt.clf()\n",
    "        d = {\"-1\": \"blue\", \"1\":\"yellow\"}\n",
    "        c1 = list(map(lambda x : \"yellow\" if x == -1 else \"green\", y1))\n",
    "        patch1 = mpatches.Patch(color='yellow', label='-1 CNG<=0')\n",
    "        patch2 = mpatches.Patch(color='green', label='+1 CNG>0')\n",
    "        plt.legend(handles=[patch1, patch2])\n",
    "        #print(x1[:, 0])\n",
    "        #print(c1)\n",
    "        plt.scatter(x1[:, 0], x1[:, 1], c=c1, zorder=10, cmap=plt.cm.Paired)\n",
    "        #plt.scatter(x2[:, 0], x2[:, 1], s=80, facecolors='none', zorder=10)\n",
    "        plt.scatter(x2[:, 0], x2[:, 1], s=280, c=\"k\", marker='+', zorder=10, lw=2)\n",
    "\n",
    "        #plt.axis('tight')\n",
    "        x_min = x1[:, 0].min()\n",
    "        x_max = x1[:, 0].max()\n",
    "        y_min = x1[:, 1].min()\n",
    "        y_max = x1[:, 1].max()\n",
    "        print(svm.best_estimator_.named_steps[\"SVC\"])\n",
    "        XX, YY = np.mgrid[x_min:x_max:200j, y_min:y_max:200j]\n",
    "        #Z = svm.decision_function(np.c_[XX.ravel(), YY.ravel()])\n",
    "        Z = svm.best_estimator_.named_steps[\"SVC\"].decision_function(np.c_[XX.ravel(), YY.ravel()])\n",
    "\n",
    "        # Put the result into a color plot\n",
    "        Z = Z.reshape(XX.shape)\n",
    "        plt.pcolormesh(XX, YY, Z > 0, cmap=plt.cm.Paired)\n",
    "        plt.contour(XX, YY, Z, colors=['k', 'k', 'k'], linestyles=['--', '-', '--'],\n",
    "                levels=[-.5, 0, .5])\n",
    "\n",
    "        plt.title(\"svm\")#plt.plot(unprep(x1), y1_svr, 'o')\n",
    "        plt.show()\n",
    "        #plt.figure()\n",
    "        #plt.plot(unprep(x2), y2_svr, 'o')\n",
    "        #plt.figure()\n",
    "        #plt.plot(res)\n",
    "        #plt.figure()\n",
    "        #plt.plot(unprep(x1), label =\"X\")\n",
    "        #plt.plot(y1_svr, label =\"y_in\")\n",
    "        #plt.legend(loc=\"best\")\n",
    "        #plt.figure()\n",
    "        #plt.plot(unprep(x2), label =\"X\")\n",
    "        #plt.plot(y2_svr, label =\"y_out\")\n",
    "        #plt.legend(loc=\"best\")\n",
    "    return le_in, le_out, s_in, s_out, p_in_mod, svm, c_in"
   ]
  },
  {
   "cell_type": "code",
   "execution_count": 55,
   "metadata": {
    "collapsed": false,
    "scrolled": false
   },
   "outputs": [
    {
     "name": "stdout",
     "output_type": "stream",
     "text": [
      "arb_margin_orig 0\n",
      "['arb_margin_orig'] 200000\n",
      "['arb_margin_orig'] 200\n",
      "Scaling\n",
      "Constructing Pipeline\n",
      "Fitting\n",
      "all 0.633811570207 0.653630162388\n",
      "arb_margin_ln 0\n",
      "['arb_margin_ln'] 200000\n",
      "['arb_margin_ln'] 200\n",
      "Scaling\n",
      "Constructing Pipeline\n",
      "Fitting\n",
      "all 0.633901974982 0.649192390673\n",
      "(2, 1, 200000)\n",
      "Resuts----------------------\n",
      "Best : arb_margin_orig  by  -9.04047750577e-05\n",
      "arb_margin_orig 0.633811570207\n",
      "arb_margin_ln 0.633901974982\n"
     ]
    },
    {
     "data": {
      "text/plain": [
       "<matplotlib.figure.Figure at 0x137004208>"
      ]
     },
     "execution_count": 55,
     "metadata": {},
     "output_type": "execute_result"
    },
    {
     "data": {
      "text/plain": [
       "(array([  5.00000000e+00,   1.00000000e+01,   9.10000000e+01,\n",
       "          4.89000000e+02,   1.99244000e+05,   1.14000000e+02,\n",
       "          2.10000000e+01,   1.80000000e+01,   7.00000000e+00,\n",
       "          1.00000000e+00]),\n",
       " array([-0.72383646, -0.55190944, -0.37998241, -0.20805539, -0.03612836,\n",
       "         0.13579866,  0.30772569,  0.47965271,  0.65157974,  0.82350676,\n",
       "         0.99543379]),\n",
       " <a list of 10 Patch objects>)"
      ]
     },
     "execution_count": 55,
     "metadata": {},
     "output_type": "execute_result"
    },
    {
     "data": {
      "text/plain": [
       "<matplotlib.figure.Figure at 0x136334860>"
      ]
     },
     "execution_count": 55,
     "metadata": {},
     "output_type": "execute_result"
    },
    {
     "data": {
      "text/plain": [
       "<matplotlib.collections.PathCollection at 0x136c92908>"
      ]
     },
     "execution_count": 55,
     "metadata": {},
     "output_type": "execute_result"
    },
    {
     "data": {
      "text/plain": [
       "<matplotlib.text.Text at 0x11bc854a8>"
      ]
     },
     "execution_count": 55,
     "metadata": {},
     "output_type": "execute_result"
    },
    {
     "data": {
      "text/plain": [
       "<matplotlib.text.Text at 0x136a8e4e0>"
      ]
     },
     "execution_count": 55,
     "metadata": {},
     "output_type": "execute_result"
    },
    {
     "data": {
      "text/plain": [
       "<matplotlib.figure.Figure at 0x11bc65dd8>"
      ]
     },
     "execution_count": 55,
     "metadata": {},
     "output_type": "execute_result"
    },
    {
     "data": {
      "text/plain": [
       "<matplotlib.collections.PathCollection at 0x125866048>"
      ]
     },
     "execution_count": 55,
     "metadata": {},
     "output_type": "execute_result"
    },
    {
     "data": {
      "image/png": "[encoded data removed]",
      "text/plain": [
       "<matplotlib.figure.Figure at 0x137004208>"
      ]
     },
     "metadata": {},
     "output_type": "display_data"
    },
    {
     "data": {
      "image/png": "[encoded data removed]",
      "text/plain": [
       "<matplotlib.figure.Figure at 0x136334860>"
      ]
     },
     "metadata": {},
     "output_type": "display_data"
    },
    {
     "data": {
      "image/png": "[encoded data removed]",
      "text/plain": [
       "<matplotlib.figure.Figure at 0x11bc65dd8>"
      ]
     },
     "metadata": {},
     "output_type": "display_data"
    }
   ],
   "source": [
    "#Start of the fitting for SVM\n",
    "#------------------------------\n",
    "#cols = [2, 3, 5]\n",
    "#t_cols = [df.columns[i] for i in cols]\n",
    "#t_cols\n",
    "#df[t_cols][:345]\n",
    "#df.shape[1]\n",
    "#dftrain_x = dftrain_x[:10000]\n",
    "#dftrain_y = dftrain_y[:10000]\n",
    "\n",
    "picks = list(range(dftrain_x.shape[1]))\n",
    "#picks = [2]\n",
    "#picks = [10]\n",
    "#picks = [11]\n",
    "picks = [13]\n",
    "p_in_ar = []\n",
    "#p_list = [13, 14]\n",
    "#p_list = [2, 10]\n",
    "#p_list = [15, 10]\n",
    "p_list = [10, 11]\n",
    "le_in_ar = []\n",
    "    \n",
    "le_out_ar = []\n",
    "le_in_full = []\n",
    "clf_ar = []\n",
    "c_in_ar = []\n",
    "l1 = 200000\n",
    "l2 = 200\n",
    "for p in p_list:\n",
    "    t_le_in_ar = []\n",
    "    t_le_out_ar = []\n",
    "    t_p_in_ar = []\n",
    "    t_clf = []\n",
    "    t_c_in = []\n",
    "    for i in range(1):\n",
    "        print(dftrain_x.columns[p], i)\n",
    "\n",
    "        x_train, _, y_train, _ = selectcols(dftrain_x[:l1], [p], 1.0, dftrain_y[:l1])\n",
    "        x_test, _, y_test, _ = selectcols(dftest_x[:l2], [p], 1.0, dftest_y[:l2])\n",
    "        #x_train.shape\n",
    "        #x_test.shape\n",
    "        #y_train.shape\n",
    "        #y_test.shape\n",
    "\n",
    "        #print(type(y_train))\n",
    "\n",
    "        #rng = range(5, x_train.shape[1], 2)\n",
    "        #rng = [2]\n",
    "        #for i in rng:\n",
    "        #    print(i)\n",
    "        le_in, le_out, s_in, s_out, p_in, clf , c_in = sub_p_svm(x_train,y_train, x_test, y_test, 'all', 2, do_plot=False, label=dftrain_x.columns[p])\n",
    "        t_le_in_ar.append(le_in)\n",
    "        t_le_out_ar.append(le_out)\n",
    "        t_p_in_ar.append(p_in)\n",
    "        t_clf.append(clf)\n",
    "        t_c_in.append(c_in)\n",
    "\n",
    "        #plt.plot(le_in_ar, '-o',label=\"ll_in\")\n",
    "        #plt.plot(le_out_ar, '-o',label=\"ll_out\")\n",
    "        #plt.legend()\n",
    "\n",
    "        #le_in_ar\n",
    "        #le_out_ar\n",
    "    le_in_full.append(t_le_in_ar)\n",
    "    le_in_ar.append(np.mean(t_le_in_ar))\n",
    "    le_out_ar.append(np.mean(t_le_out_ar))\n",
    "    p_in_ar.append(t_p_in_ar)\n",
    "    clf_ar.append(t_clf)\n",
    "    c_in_ar.append(t_c_in)\n",
    "    \n",
    "print(np.shape(p_in_ar))\n",
    "#print(p_in_ar)\n",
    "p_in_ar = np.mean(p_in_ar, axis=1)\n",
    "\n",
    "print(\"Resuts----------------------\")\n",
    "if(le_in_ar[0] <le_in_ar[1]):\n",
    "    print(\"Best :\", dftrain_x.columns[p_list[0]], \" by \", le_in_ar[0] - le_in_ar[1])\n",
    "else:\n",
    "    print(\"Best :\", dftrain_x.columns[p_list[1]], \" by \", le_in_ar[1] - le_in_ar[0])\n",
    "for i in range(len(p_list)):\n",
    "    print(dftrain_x.columns[p_list[i]], le_in_ar[i])\n",
    "p_comp = np.array(p_in_ar[0])-np.array(p_in_ar[1])\n",
    "plt.figure()\n",
    "plt.hist(p_comp)\n",
    "plt.figure()\n",
    "plt.scatter(p_in_ar[0], p_in_ar[1])\n",
    "plt.xlabel(dftrain_x.columns[p_list[0]])\n",
    "plt.ylabel(dftrain_x.columns[p_list[1]])\n",
    "plt.figure()\n",
    "plt.scatter(p_in_ar[0], p_comp)\n",
    "#plt.figure()\n",
    "#x_1, _, y_1, _ = selectcols(dftrain_x[:l1], [p], 1.0, dftrain_y[:l1])\n",
    "#plt.scatter(x_1, p_in_ar[0])\n",
    "#logloss\n",
    "#target values\n",
    "#0.48\n",
    "\n",
    "#plot_confusion_matrix(cm, [\"-1\", \"1\"])\n",
    "\n",
    "#select best features\n",
    "\n"
   ]
  },
  {
   "cell_type": "code",
   "execution_count": null,
   "metadata": {
    "collapsed": false
   },
   "outputs": [],
   "source": []
  },
  {
   "cell_type": "code",
   "execution_count": 47,
   "metadata": {
    "collapsed": false
   },
   "outputs": [
    {
     "name": "stdout",
     "output_type": "stream",
     "text": [
      "['arb_margin_orig'] 200000\n",
      "['arb_margin_ln'] 200000\n"
     ]
    },
    {
     "data": {
      "text/plain": [
       "<matplotlib.collections.PathCollection at 0x1244611d0>"
      ]
     },
     "execution_count": 47,
     "metadata": {},
     "output_type": "execute_result"
    },
    {
     "data": {
      "text/plain": [
       "<matplotlib.figure.Figure at 0x1254d0588>"
      ]
     },
     "execution_count": 47,
     "metadata": {},
     "output_type": "execute_result"
    },
    {
     "data": {
      "text/plain": [
       "<matplotlib.collections.PathCollection at 0x12ce38828>"
      ]
     },
     "execution_count": 47,
     "metadata": {},
     "output_type": "execute_result"
    },
    {
     "data": {
      "text/plain": [
       "<matplotlib.figure.Figure at 0x12eb0cda0>"
      ]
     },
     "execution_count": 47,
     "metadata": {},
     "output_type": "execute_result"
    },
    {
     "data": {
      "text/plain": [
       "<matplotlib.collections.PathCollection at 0x11bf0c358>"
      ]
     },
     "execution_count": 47,
     "metadata": {},
     "output_type": "execute_result"
    },
    {
     "data": {
      "text/plain": [
       "<matplotlib.figure.Figure at 0x13410a8d0>"
      ]
     },
     "execution_count": 47,
     "metadata": {},
     "output_type": "execute_result"
    },
    {
     "data": {
      "text/plain": [
       "<matplotlib.collections.PathCollection at 0x136db2dd8>"
      ]
     },
     "execution_count": 47,
     "metadata": {},
     "output_type": "execute_result"
    },
    {
     "data": {
      "text/plain": [
       "<matplotlib.figure.Figure at 0x11c3f0080>"
      ]
     },
     "execution_count": 47,
     "metadata": {},
     "output_type": "execute_result"
    },
    {
     "data": {
      "text/plain": [
       "<matplotlib.collections.PathCollection at 0x1241e84e0>"
      ]
     },
     "execution_count": 47,
     "metadata": {},
     "output_type": "execute_result"
    },
    {
     "data": {
      "text/plain": [
       "<matplotlib.figure.Figure at 0x136c86898>"
      ]
     },
     "execution_count": 47,
     "metadata": {},
     "output_type": "execute_result"
    },
    {
     "data": {
      "text/plain": [
       "<matplotlib.collections.PathCollection at 0x125b89cc0>"
      ]
     },
     "execution_count": 47,
     "metadata": {},
     "output_type": "execute_result"
    },
    {
     "data": {
      "text/plain": [
       "<matplotlib.figure.Figure at 0x11acbb8d0>"
      ]
     },
     "execution_count": 47,
     "metadata": {},
     "output_type": "execute_result"
    },
    {
     "data": {
      "text/plain": [
       "(200000, 1)"
      ]
     },
     "execution_count": 47,
     "metadata": {},
     "output_type": "execute_result"
    },
    {
     "data": {
      "text/plain": [
       "(200000, 1)"
      ]
     },
     "execution_count": 47,
     "metadata": {},
     "output_type": "execute_result"
    },
    {
     "data": {
      "text/plain": [
       "array([[-1.31034205],\n",
       "       [-2.80015272],\n",
       "       [-1.3753056 ],\n",
       "       [-1.19741072],\n",
       "       [-1.20820481],\n",
       "       [-1.28463002],\n",
       "       [-1.23459259],\n",
       "       [-1.29318864],\n",
       "       [-3.34301262],\n",
       "       [-1.24300281]])"
      ]
     },
     "execution_count": 47,
     "metadata": {},
     "output_type": "execute_result"
    },
    {
     "data": {
      "text/plain": [
       "<matplotlib.collections.PathCollection at 0x136a8e400>"
      ]
     },
     "execution_count": 47,
     "metadata": {},
     "output_type": "execute_result"
    },
    {
     "data": {
      "image/png": "[encoded data removed]",
      "text/plain": [
       "<matplotlib.figure.Figure at 0x136edc278>"
      ]
     },
     "metadata": {},
     "output_type": "display_data"
    },
    {
     "data": {
      "image/png": "[encoded data removed]",
      "text/plain": [
       "<matplotlib.figure.Figure at 0x1254d0588>"
      ]
     },
     "metadata": {},
     "output_type": "display_data"
    },
    {
     "data": {
      "image/png": "[encoded data removed]",
      "text/plain": [
       "<matplotlib.figure.Figure at 0x12eb0cda0>"
      ]
     },
     "metadata": {},
     "output_type": "display_data"
    },
    {
     "data": {
      "image/png": "[encoded data removed]",
      "text/plain": [
       "<matplotlib.figure.Figure at 0x13410a8d0>"
      ]
     },
     "metadata": {},
     "output_type": "display_data"
    },
    {
     "data": {
      "image/png": "[encoded data removed]",
      "text/plain": [
       "<matplotlib.figure.Figure at 0x11c3f0080>"
      ]
     },
     "metadata": {},
     "output_type": "display_data"
    },
    {
     "data": {
      "image/png": "[encoded data removed]",
      "text/plain": [
       "<matplotlib.figure.Figure at 0x136c86898>"
      ]
     },
     "metadata": {},
     "output_type": "display_data"
    },
    {
     "data": {
      "image/png": "[encoded data removed]",
      "text/plain": [
       "<matplotlib.figure.Figure at 0x11acbb8d0>"
      ]
     },
     "metadata": {},
     "output_type": "display_data"
    }
   ],
   "source": [
    "import treeinterpreter as ti\n",
    "x_1, _, y_1, _ = selectcols(dftrain_x[:l1], [p_list[0]], 1.0, dftrain_y[:l1])\n",
    "x_2, _, y_2, _ = selectcols(dftrain_x[:l1], [p_list[1]], 1.0, dftrain_y[:l1])\n",
    "\n",
    "x_11 = StandardScaler().fit_transform(x_1)\n",
    "ls1 = np.linspace(np.min(x_1)[0], np.max(x_1)[0],num=10)\n",
    "#print(ls1[:30])\n",
    "c1 = clf_ar[0][0].predict(ls1.reshape(ls1.shape[0], 1))\n",
    "#lsr1=ls1.reshape(ls1.shape[0], 1)\n",
    "#prediction, bias, contributions = ti.predict(clf_ar[0][0].best_estimator_.named_steps['RF'],lsr1)\n",
    "#prediction\n",
    "#bias\n",
    "#contributions\n",
    "#for i in range(len(lsr1)):\n",
    "#    print (\"Instance\", i)\n",
    "#    print (\"Bias (trainset mean)\", bias[i])\n",
    "#    print (\"Feature contributions:\")\n",
    "#    for c in sorted(contributions[i], key=lambda x: -abs(x[0])):\n",
    "#        print (i, c)\n",
    "#    print (\"-\"*20) \n",
    "    \n",
    "plt.scatter(ls1, c1)\n",
    "plt.figure()\n",
    "#c_in_ar[0][0]\n",
    "plt.scatter(np.log(x_1), p_in_ar[0], c=c_in_ar[0][0])\n",
    "#plt.scatter(x_1, p_in_ar[0], c=y_1)\n",
    "plt.figure()\n",
    "plt.scatter(x_1, x_11)\n",
    "plt.figure()\n",
    "x_21 = StandardScaler().fit_transform(x_2)\n",
    "ls2 = np.linspace(np.min(x_2)[0], np.max(x_2)[0],num=1000)\n",
    "c2 = clf_ar[1][0].predict(ls2.reshape(ls2.shape[0], 1))\n",
    "plt.scatter(ls2, c2)\n",
    "plt.figure()\n",
    "plt.scatter(x_2, p_in_ar[1], c=c_in_ar[1][0])\n",
    "plt.figure()\n",
    "plt.scatter(x_2, x_21)\n",
    "plt.figure()\n",
    "x_3 = np.array(x_2) - np.array(x_1)\n",
    "np.shape(x_2)\n",
    "np.shape(x_1)\n",
    "x_3[:10]\n",
    "plt.scatter(x_2, x_3)\n"
   ]
  },
  {
   "cell_type": "code",
   "execution_count": 48,
   "metadata": {
    "collapsed": false
   },
   "outputs": [
    {
     "ename": "SyntaxError",
     "evalue": "invalid syntax (<ipython-input-48-33ad9ef4159c>, line 1)",
     "output_type": "error",
     "traceback": [
      "\u001b[0;36m  File \u001b[0;32m\"<ipython-input-48-33ad9ef4159c>\"\u001b[0;36m, line \u001b[0;32m1\u001b[0m\n\u001b[0;31m    import\u001b[0m\n\u001b[0m           ^\u001b[0m\n\u001b[0;31mSyntaxError\u001b[0m\u001b[0;31m:\u001b[0m invalid syntax\n"
     ]
    }
   ],
   "source": [
    "import \n",
    "from treeinterpreter import treeinterpreter"
   ]
  },
  {
   "cell_type": "code",
   "execution_count": null,
   "metadata": {
    "collapsed": false
   },
   "outputs": [],
   "source": [
    "import collections\n",
    "c = collections.Counter(p_in_ar[0])\n",
    "c.most_common(1)[0]\n",
    "x_1, _, y_1, _ = selectcols(dftrain_x[:l1], [p_list[0]], 1.0, dftrain_y[:l1])\n",
    "np.shape(x_1)\n",
    "np.shape(p_in_ar[0])\n",
    "#print(x_1)\n",
    "f1 = []\n",
    "f2 = []\n",
    "f3 = []\n",
    "v = c.most_common(1)[0][0]\n",
    "for i in range(len(p_in_ar[0])):\n",
    "    if math.isclose(p_in_ar[0][i],v,abs_tol=1e-10):\n",
    "        f1.append(i)\n",
    "        f2.append(x_1.iloc[i].values[0])\n",
    "        \n",
    "for i in range(np.shape(x_1)[0]):\n",
    "    if x_1.iloc[i].values[0] >=0 and x_1.iloc[i].values[0] <=1:\n",
    "        #f1.append(i)\n",
    "        f3.append(x_1.iloc[i].values[0])\n",
    "\n",
    "#f2[:20]\n",
    "#f3[:20]\n",
    "#np.shape(f2)\n",
    "#np.shape(f3)\n",
    "plt.scatter(f1[:2000],f2[:2000])"
   ]
  },
  {
   "cell_type": "code",
   "execution_count": null,
   "metadata": {
    "collapsed": false
   },
   "outputs": [],
   "source": [
    "all 0.498154878358 2.20879308212 lin\n",
    "all 0.21245664321 5.55366657705 ln\n",
    "all 0.212230499549 5.61829690965 log10"
   ]
  },
  {
   "cell_type": "code",
   "execution_count": null,
   "metadata": {
    "code_folding": [],
    "collapsed": true
   },
   "outputs": [],
   "source": [
    "def plot_confusion_matrix(cm, classes,\n",
    "                          normalize=True,\n",
    "                          title='Confusion matrix',\n",
    "                          cmap=plt.cm.Blues,\n",
    "                          axis=0):\n",
    "    \"\"\"\n",
    "    This function prints and plots the confusion matrix.\n",
    "    Normalization can be applied by setting `normalize=True`.\n",
    "    \"\"\"\n",
    "    plt.figure()\n",
    "    plt.imshow(cm, interpolation='nearest', cmap=cmap)\n",
    "    plt.title(title)\n",
    "    plt.colorbar()\n",
    "    tick_marks = np.arange(len(classes))\n",
    "    plt.xticks(tick_marks, classes, rotation=45)\n",
    "    plt.yticks(tick_marks, classes)\n",
    "    orig = cm\n",
    "    if normalize:\n",
    "        if axis == 1:\n",
    "            cm = cm.astype('float') / cm.sum(axis=axis)[:, np.newaxis]\n",
    "        else:\n",
    "            cm = cm.astype('float') / cm.sum(axis=axis)\n",
    "        print(\"Normalized confusion matrix\")\n",
    "    else:\n",
    "        print('Confusion matrix, without normalization')\n",
    "\n",
    "    #print(cm)\n",
    "\n",
    "    \n",
    "    for i, j in itertools.product(range(cm.shape[0]), range(cm.shape[1])):\n",
    "        #thresh = cm[i].max() / 2.\n",
    "        #thresh = orig.sum(axis=axis)[i]*0.5\n",
    "        thresh = orig.sum()*0.5\n",
    "        #print(i, j, thresh, orig[i,j])\n",
    "        #col = \"black\"\n",
    "        s = \"{:1.4f}\".format(cm[i,j]) + \"(\"+str(orig[i,j])+\")\"\n",
    "        plt.text(j, i, s,\n",
    "                 horizontalalignment=\"center\",\n",
    "                 color=\"white\" if orig[i, j] > thresh else \"black\")\n",
    "\n",
    "    plt.tight_layout()\n",
    "    plt.ylabel('True label')\n",
    "    plt.xlabel('Predicted label')"
   ]
  },
  {
   "cell_type": "code",
   "execution_count": null,
   "metadata": {
    "collapsed": false
   },
   "outputs": [],
   "source": [
    "5\n",
    "Scaling\n",
    "Constructing Pipeline\n",
    "Fitting\n",
    "all 0.535125276345 0.547795834851"
   ]
  },
  {
   "cell_type": "code",
   "execution_count": null,
   "metadata": {
    "collapsed": true
   },
   "outputs": [],
   "source": []
  }
 ],
 "metadata": {
  "anaconda-cloud": {},
  "kernelspec": {
   "display_name": "Python [conda root]",
   "language": "python",
   "name": "conda-root-py"
  },
  "language_info": {
   "codemirror_mode": {
    "name": "ipython",
    "version": 3
   },
   "file_extension": ".py",
   "mimetype": "text/x-python",
   "name": "python",
   "nbconvert_exporter": "python",
   "pygments_lexer": "ipython3",
   "version": "3.5.2"
  }
 },
 "nbformat": 4,
 "nbformat_minor": 0
}
