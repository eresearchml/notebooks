{
 "cells": [
  {
   "cell_type": "code",
   "execution_count": 1,
   "metadata": {
    "code_folding": [
     0
    ],
    "collapsed": true
   },
   "outputs": [],
   "source": [
    "# Import\n",
    "import numpy as np\n",
    "import matplotlib.pyplot as plt\n",
    "import datetime as DT\n",
    "import pandas as pd\n",
    "import math\n",
    "import scipy\n",
    "from IPython.core.debugger import Tracer\n",
    "from sklearn.feature_extraction import DictVectorizer\n",
    "from sklearn.metrics.classification import log_loss\n",
    "\n",
    "from sklearn import datasets, linear_model\n",
    "from sklearn.model_selection import GridSearchCV, TimeSeriesSplit\n",
    "from sklearn.svm import SVC, SVR\n",
    "from sklearn.metrics import confusion_matrix, accuracy_score\n",
    "from sklearn.preprocessing import StandardScaler\n",
    "from sklearn.ensemble import RandomForestClassifier\n",
    "from sklearn.pipeline import Pipeline, FeatureUnion\n",
    "from sklearn.model_selection import train_test_split\n",
    "#from sklearn.linear_model import LogisticRegression\n",
    "from sklearn.decomposition import PCA\n",
    "from sklearn.feature_selection import SelectKBest\n",
    "\n",
    "%matplotlib inline\n",
    "import seaborn as sns; sns.set()\n",
    "import operator\n",
    "import itertools\n",
    "import matplotlib.patches as mpatches\n",
    "from scipy.stats.stats import pearsonr\n",
    "\n",
    "import warnings\n",
    "warnings.filterwarnings('ignore')\n",
    "#Tracer()()\n",
    "def prep (a):\n",
    "    return a.reshape(a.shape[0], 1)\n",
    "def unprep (a):\n",
    "    return np.squeeze(a)\n",
    "def figurefullwidth():\n",
    "    plt.figure(figsize=(25,5));\n",
    "def subplot(a):\n",
    "    plt.subplot(1,3,a);\n",
    "def subplottitle(a, b):\n",
    "    ax = plt.subplot(1, 3, a)\n",
    "    ax.set_title(b)\n",
    "from IPython.core.interactiveshell import InteractiveShell\n",
    "InteractiveShell.ast_node_interactivity = \"all\""
   ]
  },
  {
   "cell_type": "code",
   "execution_count": 2,
   "metadata": {
    "code_folding": [
     0
    ],
    "collapsed": false
   },
   "outputs": [
    {
     "data": {
      "application/javascript": [
       "IPython.OutputArea.auto_scroll_threshold = 9999;"
      ],
      "text/plain": [
       "<IPython.core.display.Javascript object>"
      ]
     },
     "metadata": {},
     "output_type": "display_data"
    }
   ],
   "source": [
    "%%javascript\n",
    "IPython.OutputArea.auto_scroll_threshold = 9999;"
   ]
  },
  {
   "cell_type": "code",
   "execution_count": 3,
   "metadata": {
    "code_folding": [],
    "collapsed": false,
    "scrolled": true
   },
   "outputs": [
    {
     "data": {
      "text/html": [
       "<style>.container { width:95% !important; }</style>"
      ],
      "text/plain": [
       "<IPython.core.display.HTML object>"
      ]
     },
     "metadata": {},
     "output_type": "display_data"
    }
   ],
   "source": [
    "from IPython.core.display import display, HTML\n",
    "display(HTML(\"<style>.container { width:95% !important; }</style>\"))"
   ]
  },
  {
   "cell_type": "code",
   "execution_count": 4,
   "metadata": {
    "code_folding": [
     0
    ],
    "collapsed": false
   },
   "outputs": [],
   "source": [
    "def encode_onehot(df, cols):\n",
    "    \"\"\"\n",
    "    One-hot encoding is applied to columns specified in a pandas DataFrame.\n",
    "    \n",
    "    Modified from: https://gist.github.com/kljensen/5452382\n",
    "    \n",
    "    Details:\n",
    "    \n",
    "    http://en.wikipedia.org/wiki/One-hot\n",
    "    http://scikit-learn.org/stable/modules/generated/sklearn.preprocessing.OneHotEncoder.html\n",
    "    \n",
    "    @param df pandas DataFrame\n",
    "    @param cols a list of columns to encode\n",
    "    @return a DataFrame with one-hot encoding\n",
    "    \"\"\"\n",
    "    vec = DictVectorizer()\n",
    "    \n",
    "    vec_data = pd.DataFrame(vec.fit_transform(df[cols].to_dict(outtype='records')).toarray())\n",
    "    vec_data.columns = vec.get_feature_names()\n",
    "    vec_data.index = df.index\n",
    "    \n",
    "    df = df.drop(cols, axis=1)\n",
    "    df = df.join(vec_data)\n",
    "    return df\n",
    "\n"
   ]
  },
  {
   "cell_type": "code",
   "execution_count": 11,
   "metadata": {
    "collapsed": true
   },
   "outputs": [],
   "source": [
    "def processfile(csv):\n",
    "    #load data\n",
    "    df = pd.read_csv(csv, header= 0)\n",
    "    del df['order_ref']\n",
    "    df[\"inplay\"] = df[\"inplay\"].astype(int)\n",
    "    df[\"strategy\"] = df[\"strategy\"].apply(lambda x: 0 if x == \"A\" else 1)\n",
    "    #df[\"pct_matched\"].unique()\n",
    "    df[\"pct_matched\"].isnull().sum()\n",
    "\n",
    "    #list of index with nan\n",
    "    nans = df['pct_matched'].index[df['pct_matched'].apply(np.isnan)]\n",
    "    #df.loc[3173]\n",
    "    df = df.drop(df.index[nans])\n",
    "    r = df['bet_type'].apply(lambda x: pd.Series(x.split('|')))\n",
    "    del r[0]\n",
    "    for i in range(0, r.shape[1]):\n",
    "        df[\"bet_type\" + str(i)] = r[i+1]\n",
    "    del df[\"bet_type\"]\n",
    "    df[\"pct_matched_cat\"] = df[\"pct_matched\"].apply(lambda x: 1 if x > 0.5 else -1)\n",
    "    \n",
    "    df = encode_onehot(df, [\"bookie\", \"bet_type0\"])\n",
    "    del df[\"bet_type1\"]\n",
    "    del df[\"bet_type2\"]\n",
    "    del df[\"bet_type3\"]\n",
    "    del df[\"pct_matched\"]\n",
    "    \n",
    "    #dfy = pd.concat(df[\"pct_matched_cat\"])\n",
    "    #dfy = DataFrame()\n",
    "    dfy = df[\"pct_matched_cat\"]\n",
    "    del df[\"pct_matched_cat\"]\n",
    "    #df_y[\"pct_matched_cat\"]\n",
    "    return df, dfy"
   ]
  },
  {
   "cell_type": "code",
   "execution_count": 12,
   "metadata": {
    "collapsed": false
   },
   "outputs": [
    {
     "data": {
      "text/html": [
       "<div>\n",
       "<table border=\"1\" class=\"dataframe\">\n",
       "  <thead>\n",
       "    <tr style=\"text-align: right;\">\n",
       "      <th></th>\n",
       "      <th>strategy</th>\n",
       "      <th>inplay</th>\n",
       "      <th>age</th>\n",
       "      <th>stakes</th>\n",
       "      <th>max_stakes</th>\n",
       "      <th>price</th>\n",
       "      <th>pct_max_stake_reqd_overall</th>\n",
       "      <th>fallback_margin</th>\n",
       "      <th>arb_margin</th>\n",
       "      <th>fallback_cost</th>\n",
       "      <th>...</th>\n",
       "      <th>bet_type0=team_total_goals</th>\n",
       "      <th>bet_type0=team_win_to_nil</th>\n",
       "      <th>bet_type0=total_goals</th>\n",
       "      <th>bet_type0=total_goals_2</th>\n",
       "      <th>bookie=A</th>\n",
       "      <th>bookie=B</th>\n",
       "      <th>bookie=C</th>\n",
       "      <th>bookie=D</th>\n",
       "      <th>bookie=E</th>\n",
       "      <th>bookie=F</th>\n",
       "    </tr>\n",
       "  </thead>\n",
       "  <tbody>\n",
       "    <tr>\n",
       "      <th>0</th>\n",
       "      <td>0</td>\n",
       "      <td>1</td>\n",
       "      <td>896.968049</td>\n",
       "      <td>2.429000</td>\n",
       "      <td>2.429</td>\n",
       "      <td>2.428571</td>\n",
       "      <td>100.000000</td>\n",
       "      <td>0.058410</td>\n",
       "      <td>0.403999</td>\n",
       "      <td>0.345589</td>\n",
       "      <td>...</td>\n",
       "      <td>0.0</td>\n",
       "      <td>0.0</td>\n",
       "      <td>0.0</td>\n",
       "      <td>0.0</td>\n",
       "      <td>0.0</td>\n",
       "      <td>1.0</td>\n",
       "      <td>0.0</td>\n",
       "      <td>0.0</td>\n",
       "      <td>0.0</td>\n",
       "      <td>0.0</td>\n",
       "    </tr>\n",
       "    <tr>\n",
       "      <th>1</th>\n",
       "      <td>1</td>\n",
       "      <td>0</td>\n",
       "      <td>0.432858</td>\n",
       "      <td>2.380916</td>\n",
       "      <td>751.490</td>\n",
       "      <td>9.200000</td>\n",
       "      <td>0.316826</td>\n",
       "      <td>-0.176400</td>\n",
       "      <td>0.064876</td>\n",
       "      <td>0.241276</td>\n",
       "      <td>...</td>\n",
       "      <td>0.0</td>\n",
       "      <td>0.0</td>\n",
       "      <td>0.0</td>\n",
       "      <td>0.0</td>\n",
       "      <td>0.0</td>\n",
       "      <td>1.0</td>\n",
       "      <td>0.0</td>\n",
       "      <td>0.0</td>\n",
       "      <td>0.0</td>\n",
       "      <td>0.0</td>\n",
       "    </tr>\n",
       "    <tr>\n",
       "      <th>2</th>\n",
       "      <td>1</td>\n",
       "      <td>1</td>\n",
       "      <td>0.064819</td>\n",
       "      <td>13.634291</td>\n",
       "      <td>2338.670</td>\n",
       "      <td>1.240000</td>\n",
       "      <td>0.582993</td>\n",
       "      <td>-0.292514</td>\n",
       "      <td>0.363597</td>\n",
       "      <td>0.656111</td>\n",
       "      <td>...</td>\n",
       "      <td>0.0</td>\n",
       "      <td>0.0</td>\n",
       "      <td>0.0</td>\n",
       "      <td>0.0</td>\n",
       "      <td>0.0</td>\n",
       "      <td>1.0</td>\n",
       "      <td>0.0</td>\n",
       "      <td>0.0</td>\n",
       "      <td>0.0</td>\n",
       "      <td>0.0</td>\n",
       "    </tr>\n",
       "    <tr>\n",
       "      <th>3</th>\n",
       "      <td>1</td>\n",
       "      <td>0</td>\n",
       "      <td>107.238326</td>\n",
       "      <td>18.846154</td>\n",
       "      <td>19.820</td>\n",
       "      <td>2.600000</td>\n",
       "      <td>95.086548</td>\n",
       "      <td>0.041334</td>\n",
       "      <td>0.495772</td>\n",
       "      <td>0.454439</td>\n",
       "      <td>...</td>\n",
       "      <td>0.0</td>\n",
       "      <td>0.0</td>\n",
       "      <td>0.0</td>\n",
       "      <td>0.0</td>\n",
       "      <td>0.0</td>\n",
       "      <td>1.0</td>\n",
       "      <td>0.0</td>\n",
       "      <td>0.0</td>\n",
       "      <td>0.0</td>\n",
       "      <td>0.0</td>\n",
       "    </tr>\n",
       "    <tr>\n",
       "      <th>4</th>\n",
       "      <td>0</td>\n",
       "      <td>1</td>\n",
       "      <td>38.344546</td>\n",
       "      <td>40.020000</td>\n",
       "      <td>40.020</td>\n",
       "      <td>6.000000</td>\n",
       "      <td>100.000000</td>\n",
       "      <td>0.200951</td>\n",
       "      <td>0.485378</td>\n",
       "      <td>0.284427</td>\n",
       "      <td>...</td>\n",
       "      <td>0.0</td>\n",
       "      <td>0.0</td>\n",
       "      <td>0.0</td>\n",
       "      <td>0.0</td>\n",
       "      <td>0.0</td>\n",
       "      <td>1.0</td>\n",
       "      <td>0.0</td>\n",
       "      <td>0.0</td>\n",
       "      <td>0.0</td>\n",
       "      <td>0.0</td>\n",
       "    </tr>\n",
       "  </tbody>\n",
       "</table>\n",
       "<p>5 rows × 34 columns</p>\n",
       "</div>"
      ],
      "text/plain": [
       "   strategy  inplay         age     stakes  max_stakes     price  \\\n",
       "0         0       1  896.968049   2.429000       2.429  2.428571   \n",
       "1         1       0    0.432858   2.380916     751.490  9.200000   \n",
       "2         1       1    0.064819  13.634291    2338.670  1.240000   \n",
       "3         1       0  107.238326  18.846154      19.820  2.600000   \n",
       "4         0       1   38.344546  40.020000      40.020  6.000000   \n",
       "\n",
       "   pct_max_stake_reqd_overall  fallback_margin  arb_margin  fallback_cost  \\\n",
       "0                  100.000000         0.058410    0.403999       0.345589   \n",
       "1                    0.316826        -0.176400    0.064876       0.241276   \n",
       "2                    0.582993        -0.292514    0.363597       0.656111   \n",
       "3                   95.086548         0.041334    0.495772       0.454439   \n",
       "4                  100.000000         0.200951    0.485378       0.284427   \n",
       "\n",
       "     ...     bet_type0=team_total_goals  bet_type0=team_win_to_nil  \\\n",
       "0    ...                            0.0                        0.0   \n",
       "1    ...                            0.0                        0.0   \n",
       "2    ...                            0.0                        0.0   \n",
       "3    ...                            0.0                        0.0   \n",
       "4    ...                            0.0                        0.0   \n",
       "\n",
       "   bet_type0=total_goals  bet_type0=total_goals_2  bookie=A  bookie=B  \\\n",
       "0                    0.0                      0.0       0.0       1.0   \n",
       "1                    0.0                      0.0       0.0       1.0   \n",
       "2                    0.0                      0.0       0.0       1.0   \n",
       "3                    0.0                      0.0       0.0       1.0   \n",
       "4                    0.0                      0.0       0.0       1.0   \n",
       "\n",
       "   bookie=C  bookie=D  bookie=E  bookie=F  \n",
       "0       0.0       0.0       0.0       0.0  \n",
       "1       0.0       0.0       0.0       0.0  \n",
       "2       0.0       0.0       0.0       0.0  \n",
       "3       0.0       0.0       0.0       0.0  \n",
       "4       0.0       0.0       0.0       0.0  \n",
       "\n",
       "[5 rows x 34 columns]"
      ]
     },
     "execution_count": 12,
     "metadata": {},
     "output_type": "execute_result"
    },
    {
     "data": {
      "text/plain": [
       "Index(['strategy', 'inplay', 'age', 'stakes', 'max_stakes', 'price',\n",
       "       'pct_max_stake_reqd_overall', 'fallback_margin', 'arb_margin',\n",
       "       'fallback_cost', 'bet_type0=asian_handicap',\n",
       "       'bet_type0=both_teams_to_score', 'bet_type0=clean_sheet',\n",
       "       'bet_type0=correct_score', 'bet_type0=correct_score_other',\n",
       "       'bet_type0=double_chance', 'bet_type0=draw_no_bet',\n",
       "       'bet_type0=euro_handicap', 'bet_type0=match_odds',\n",
       "       'bet_type0=match_odds_and_btts', 'bet_type0=match_odds_and_ou',\n",
       "       'bet_type0=odd_or_even', 'bet_type0=over_under',\n",
       "       'bet_type0=team_over_under', 'bet_type0=team_total_goals',\n",
       "       'bet_type0=team_win_to_nil', 'bet_type0=total_goals',\n",
       "       'bet_type0=total_goals_2', 'bookie=A', 'bookie=B', 'bookie=C',\n",
       "       'bookie=D', 'bookie=E', 'bookie=F'],\n",
       "      dtype='object')"
      ]
     },
     "execution_count": 12,
     "metadata": {},
     "output_type": "execute_result"
    },
    {
     "data": {
      "text/plain": [
       "0   -1\n",
       "1    1\n",
       "2   -1\n",
       "3    1\n",
       "4   -1\n",
       "Name: pct_matched_cat, dtype: int64"
      ]
     },
     "execution_count": 12,
     "metadata": {},
     "output_type": "execute_result"
    },
    {
     "ename": "AttributeError",
     "evalue": "'Series' object has no attribute 'columns'",
     "output_type": "error",
     "traceback": [
      "\u001b[0;31m---------------------------------------------------------------------------\u001b[0m",
      "\u001b[0;31mAttributeError\u001b[0m                            Traceback (most recent call last)",
      "\u001b[0;32m<ipython-input-12-aa6d91b9f292>\u001b[0m in \u001b[0;36m<module>\u001b[0;34m()\u001b[0m\n\u001b[1;32m      3\u001b[0m \u001b[0mdftrain_x\u001b[0m\u001b[0;34m.\u001b[0m\u001b[0mcolumns\u001b[0m\u001b[0;34m\u001b[0m\u001b[0m\n\u001b[1;32m      4\u001b[0m \u001b[0mdftrain_y\u001b[0m\u001b[0;34m.\u001b[0m\u001b[0mhead\u001b[0m\u001b[0;34m(\u001b[0m\u001b[0;34m)\u001b[0m\u001b[0;34m\u001b[0m\u001b[0m\n\u001b[0;32m----> 5\u001b[0;31m \u001b[0mdftrain_y\u001b[0m\u001b[0;34m.\u001b[0m\u001b[0mcolumns\u001b[0m\u001b[0;34m\u001b[0m\u001b[0m\n\u001b[0m",
      "\u001b[0;32m/Users/david/anaconda/lib/python3.5/site-packages/pandas/core/generic.py\u001b[0m in \u001b[0;36m__getattr__\u001b[0;34m(self, name)\u001b[0m\n\u001b[1;32m   2666\u001b[0m         if (name in self._internal_names_set or name in self._metadata or\n\u001b[1;32m   2667\u001b[0m                 name in self._accessors):\n\u001b[0;32m-> 2668\u001b[0;31m             \u001b[0;32mreturn\u001b[0m \u001b[0mobject\u001b[0m\u001b[0;34m.\u001b[0m\u001b[0m__getattribute__\u001b[0m\u001b[0;34m(\u001b[0m\u001b[0mself\u001b[0m\u001b[0;34m,\u001b[0m \u001b[0mname\u001b[0m\u001b[0;34m)\u001b[0m\u001b[0;34m\u001b[0m\u001b[0m\n\u001b[0m\u001b[1;32m   2669\u001b[0m         \u001b[0;32melse\u001b[0m\u001b[0;34m:\u001b[0m\u001b[0;34m\u001b[0m\u001b[0m\n\u001b[1;32m   2670\u001b[0m             \u001b[0;32mif\u001b[0m \u001b[0mname\u001b[0m \u001b[0;32min\u001b[0m \u001b[0mself\u001b[0m\u001b[0;34m.\u001b[0m\u001b[0m_info_axis\u001b[0m\u001b[0;34m:\u001b[0m\u001b[0;34m\u001b[0m\u001b[0m\n",
      "\u001b[0;31mAttributeError\u001b[0m: 'Series' object has no attribute 'columns'"
     ]
    }
   ],
   "source": [
    "dftrain_x, dftrain_y = processfile('/Users/david/notebooks/data/training_set.csv')\n",
    "dftrain_x.head()\n",
    "dftrain_x.columns\n",
    "dftrain_y.head()\n",
    "#dftrain_y.columns"
   ]
  },
  {
   "cell_type": "code",
   "execution_count": 13,
   "metadata": {
    "collapsed": false
   },
   "outputs": [
    {
     "data": {
      "text/html": [
       "<div>\n",
       "<table border=\"1\" class=\"dataframe\">\n",
       "  <thead>\n",
       "    <tr style=\"text-align: right;\">\n",
       "      <th></th>\n",
       "      <th>strategy</th>\n",
       "      <th>inplay</th>\n",
       "      <th>age</th>\n",
       "      <th>stakes</th>\n",
       "      <th>max_stakes</th>\n",
       "      <th>price</th>\n",
       "      <th>pct_max_stake_reqd_overall</th>\n",
       "      <th>fallback_margin</th>\n",
       "      <th>arb_margin</th>\n",
       "      <th>fallback_cost</th>\n",
       "      <th>...</th>\n",
       "      <th>bet_type0=team_total_goals</th>\n",
       "      <th>bet_type0=team_win_to_nil</th>\n",
       "      <th>bet_type0=total_goals</th>\n",
       "      <th>bet_type0=total_goals_2</th>\n",
       "      <th>bookie=A</th>\n",
       "      <th>bookie=B</th>\n",
       "      <th>bookie=C</th>\n",
       "      <th>bookie=D</th>\n",
       "      <th>bookie=E</th>\n",
       "      <th>bookie=F</th>\n",
       "    </tr>\n",
       "  </thead>\n",
       "  <tbody>\n",
       "    <tr>\n",
       "      <th>0</th>\n",
       "      <td>0</td>\n",
       "      <td>1</td>\n",
       "      <td>61.637285</td>\n",
       "      <td>4.330000</td>\n",
       "      <td>4.3300</td>\n",
       "      <td>2.320000</td>\n",
       "      <td>100.000000</td>\n",
       "      <td>0.410490</td>\n",
       "      <td>0.794893</td>\n",
       "      <td>0.384403</td>\n",
       "      <td>...</td>\n",
       "      <td>0.0</td>\n",
       "      <td>0.0</td>\n",
       "      <td>0.0</td>\n",
       "      <td>0.0</td>\n",
       "      <td>0.0</td>\n",
       "      <td>1.0</td>\n",
       "      <td>0.0</td>\n",
       "      <td>0.0</td>\n",
       "      <td>0.0</td>\n",
       "      <td>0.0</td>\n",
       "    </tr>\n",
       "    <tr>\n",
       "      <th>1</th>\n",
       "      <td>1</td>\n",
       "      <td>0</td>\n",
       "      <td>72.134169</td>\n",
       "      <td>28.839624</td>\n",
       "      <td>76.8258</td>\n",
       "      <td>2.219512</td>\n",
       "      <td>37.538982</td>\n",
       "      <td>-0.181804</td>\n",
       "      <td>0.012743</td>\n",
       "      <td>0.194547</td>\n",
       "      <td>...</td>\n",
       "      <td>0.0</td>\n",
       "      <td>0.0</td>\n",
       "      <td>0.0</td>\n",
       "      <td>0.0</td>\n",
       "      <td>0.0</td>\n",
       "      <td>1.0</td>\n",
       "      <td>0.0</td>\n",
       "      <td>0.0</td>\n",
       "      <td>0.0</td>\n",
       "      <td>0.0</td>\n",
       "    </tr>\n",
       "    <tr>\n",
       "      <th>2</th>\n",
       "      <td>1</td>\n",
       "      <td>1</td>\n",
       "      <td>0.298152</td>\n",
       "      <td>8.228528</td>\n",
       "      <td>5062.0000</td>\n",
       "      <td>1.760000</td>\n",
       "      <td>0.162555</td>\n",
       "      <td>-0.408819</td>\n",
       "      <td>0.010379</td>\n",
       "      <td>0.419198</td>\n",
       "      <td>...</td>\n",
       "      <td>0.0</td>\n",
       "      <td>0.0</td>\n",
       "      <td>0.0</td>\n",
       "      <td>0.0</td>\n",
       "      <td>0.0</td>\n",
       "      <td>0.0</td>\n",
       "      <td>0.0</td>\n",
       "      <td>1.0</td>\n",
       "      <td>0.0</td>\n",
       "      <td>0.0</td>\n",
       "    </tr>\n",
       "    <tr>\n",
       "      <th>3</th>\n",
       "      <td>1</td>\n",
       "      <td>1</td>\n",
       "      <td>0.606424</td>\n",
       "      <td>3.123076</td>\n",
       "      <td>9.8700</td>\n",
       "      <td>8.200000</td>\n",
       "      <td>31.642105</td>\n",
       "      <td>-0.185425</td>\n",
       "      <td>0.119250</td>\n",
       "      <td>0.304676</td>\n",
       "      <td>...</td>\n",
       "      <td>0.0</td>\n",
       "      <td>0.0</td>\n",
       "      <td>0.0</td>\n",
       "      <td>0.0</td>\n",
       "      <td>0.0</td>\n",
       "      <td>1.0</td>\n",
       "      <td>0.0</td>\n",
       "      <td>0.0</td>\n",
       "      <td>0.0</td>\n",
       "      <td>0.0</td>\n",
       "    </tr>\n",
       "    <tr>\n",
       "      <th>4</th>\n",
       "      <td>1</td>\n",
       "      <td>1</td>\n",
       "      <td>21.131292</td>\n",
       "      <td>25.121046</td>\n",
       "      <td>4050.0000</td>\n",
       "      <td>1.720000</td>\n",
       "      <td>0.620273</td>\n",
       "      <td>0.092797</td>\n",
       "      <td>0.194175</td>\n",
       "      <td>0.101378</td>\n",
       "      <td>...</td>\n",
       "      <td>0.0</td>\n",
       "      <td>0.0</td>\n",
       "      <td>0.0</td>\n",
       "      <td>0.0</td>\n",
       "      <td>0.0</td>\n",
       "      <td>0.0</td>\n",
       "      <td>0.0</td>\n",
       "      <td>1.0</td>\n",
       "      <td>0.0</td>\n",
       "      <td>0.0</td>\n",
       "    </tr>\n",
       "  </tbody>\n",
       "</table>\n",
       "<p>5 rows × 34 columns</p>\n",
       "</div>"
      ],
      "text/plain": [
       "   strategy  inplay        age     stakes  max_stakes     price  \\\n",
       "0         0       1  61.637285   4.330000      4.3300  2.320000   \n",
       "1         1       0  72.134169  28.839624     76.8258  2.219512   \n",
       "2         1       1   0.298152   8.228528   5062.0000  1.760000   \n",
       "3         1       1   0.606424   3.123076      9.8700  8.200000   \n",
       "4         1       1  21.131292  25.121046   4050.0000  1.720000   \n",
       "\n",
       "   pct_max_stake_reqd_overall  fallback_margin  arb_margin  fallback_cost  \\\n",
       "0                  100.000000         0.410490    0.794893       0.384403   \n",
       "1                   37.538982        -0.181804    0.012743       0.194547   \n",
       "2                    0.162555        -0.408819    0.010379       0.419198   \n",
       "3                   31.642105        -0.185425    0.119250       0.304676   \n",
       "4                    0.620273         0.092797    0.194175       0.101378   \n",
       "\n",
       "     ...     bet_type0=team_total_goals  bet_type0=team_win_to_nil  \\\n",
       "0    ...                            0.0                        0.0   \n",
       "1    ...                            0.0                        0.0   \n",
       "2    ...                            0.0                        0.0   \n",
       "3    ...                            0.0                        0.0   \n",
       "4    ...                            0.0                        0.0   \n",
       "\n",
       "   bet_type0=total_goals  bet_type0=total_goals_2  bookie=A  bookie=B  \\\n",
       "0                    0.0                      0.0       0.0       1.0   \n",
       "1                    0.0                      0.0       0.0       1.0   \n",
       "2                    0.0                      0.0       0.0       0.0   \n",
       "3                    0.0                      0.0       0.0       1.0   \n",
       "4                    0.0                      0.0       0.0       0.0   \n",
       "\n",
       "   bookie=C  bookie=D  bookie=E  bookie=F  \n",
       "0       0.0       0.0       0.0       0.0  \n",
       "1       0.0       0.0       0.0       0.0  \n",
       "2       0.0       1.0       0.0       0.0  \n",
       "3       0.0       0.0       0.0       0.0  \n",
       "4       0.0       1.0       0.0       0.0  \n",
       "\n",
       "[5 rows x 34 columns]"
      ]
     },
     "execution_count": 13,
     "metadata": {},
     "output_type": "execute_result"
    },
    {
     "data": {
      "text/plain": [
       "Index(['strategy', 'inplay', 'age', 'stakes', 'max_stakes', 'price',\n",
       "       'pct_max_stake_reqd_overall', 'fallback_margin', 'arb_margin',\n",
       "       'fallback_cost', 'bet_type0=asian_handicap',\n",
       "       'bet_type0=both_teams_to_score', 'bet_type0=clean_sheet',\n",
       "       'bet_type0=correct_score', 'bet_type0=correct_score_other',\n",
       "       'bet_type0=double_chance', 'bet_type0=draw_no_bet',\n",
       "       'bet_type0=euro_handicap', 'bet_type0=match_odds',\n",
       "       'bet_type0=match_odds_and_btts', 'bet_type0=match_odds_and_ou',\n",
       "       'bet_type0=odd_or_even', 'bet_type0=over_under',\n",
       "       'bet_type0=team_over_under', 'bet_type0=team_total_goals',\n",
       "       'bet_type0=team_win_to_nil', 'bet_type0=total_goals',\n",
       "       'bet_type0=total_goals_2', 'bookie=A', 'bookie=B', 'bookie=C',\n",
       "       'bookie=D', 'bookie=E', 'bookie=F'],\n",
       "      dtype='object')"
      ]
     },
     "execution_count": 13,
     "metadata": {},
     "output_type": "execute_result"
    },
    {
     "data": {
      "text/plain": [
       "0    1\n",
       "1    1\n",
       "2    1\n",
       "3   -1\n",
       "4    1\n",
       "Name: pct_matched_cat, dtype: int64"
      ]
     },
     "execution_count": 13,
     "metadata": {},
     "output_type": "execute_result"
    }
   ],
   "source": [
    "dftest_x, dftest_y = processfile('/Users/david/notebooks/data/testing_set.csv')\n",
    "dftest_x.head()\n",
    "dftest_x.columns\n",
    "dftest_y.head()\n",
    "#dftest_y.columns"
   ]
  },
  {
   "cell_type": "markdown",
   "metadata": {},
   "source": [
    "Read in the Data"
   ]
  },
  {
   "cell_type": "code",
   "execution_count": null,
   "metadata": {
    "code_folding": [],
    "collapsed": false
   },
   "outputs": [],
   "source": [
    "#load data\n",
    "df = pd.read_csv('/Users/david/notebooks/data/training_set.csv', header= 0)\n",
    "#df[\"DateOfCall\"] = pd.to_datetime(df[\"DateOfCall\"]+ ' ' + df['TimeOfCall'], infer_datetime_format=True)\n",
    "#a=np.datetime64('2002-06-28').astype(datetime)\n",
    "del df['order_ref']\n",
    "#df = df.drop(df3.columns[3], axis=1)\n",
    "#df = df.drop(df3.columns[6], axis=1)\n",
    "df.shape\n",
    "df[\"inplay\"] = df[\"inplay\"].astype(int)\n",
    "df[\"strategy\"] = df[\"strategy\"].apply(lambda x: 0 if x == \"A\" else 1)\n",
    "df.head()\n"
   ]
  },
  {
   "cell_type": "code",
   "execution_count": null,
   "metadata": {
    "collapsed": false
   },
   "outputs": [],
   "source": [
    "#df[\"pct_matched\"].unique()\n",
    "df[\"pct_matched\"].isnull().sum()\n",
    "\n",
    "#list of index with nan\n",
    "nans = df['pct_matched'].index[df['pct_matched'].apply(np.isnan)]\n",
    "nans\n",
    "#df.loc[3173]\n",
    "df = df.drop(df.index[nans])"
   ]
  },
  {
   "cell_type": "code",
   "execution_count": null,
   "metadata": {
    "collapsed": false
   },
   "outputs": [],
   "source": [
    "df.shape\n",
    "df.columns\n",
    "#describe the data\n",
    "df.describe()\n",
    "df.describe(include = ['O'])\n",
    "df.dtypes"
   ]
  },
  {
   "cell_type": "code",
   "execution_count": null,
   "metadata": {
    "collapsed": false
   },
   "outputs": [],
   "source": [
    "#separate the numberical and categorical clolumns\n",
    "colnum = []\n",
    "colcat = []\n",
    "for col in df:\n",
    "    if(df[col].dtype == object):\n",
    "        colcat.append(col)\n",
    "    else:\n",
    "        colnum.append(col)\n",
    "len(colnum)\n",
    "len(colcat)"
   ]
  },
  {
   "cell_type": "code",
   "execution_count": null,
   "metadata": {
    "code_folding": [
     0
    ],
    "collapsed": false
   },
   "outputs": [],
   "source": [
    "#seaborn functions\n",
    "#---------------------\n",
    "#df.plot(kind=\"scatter\", x=colnum[2], y=colnum[3])\n",
    "#sns.jointplot(x=colnum[2], y=colnum[3], data=df, size=5)\n",
    "#sns.FacetGrid(iris, hue=\"Species\", size=5) \\\n",
    "#   .map(plt.scatter, \"SepalLengthCm\", \"SepalWidthCm\") \\\n",
    "#   .add_legend()\n",
    "#sns.FacetGrid(iris, hue=\"Species\", size=6) \\\n",
    "#   .map(sns.kdeplot, \"PetalLengthCm\") \\\n",
    "#   .add_legend()\n",
    "#sns.pairplot(iris.drop(\"Id\", axis=1), hue=\"Species\", size=3,diag_kind=\"kde\")"
   ]
  },
  {
   "cell_type": "code",
   "execution_count": null,
   "metadata": {
    "code_folding": [],
    "collapsed": false,
    "scrolled": false
   },
   "outputs": [],
   "source": [
    "#examine the numberical categories\n",
    "def plotcolnumerical(c):\n",
    "    a = 0\n",
    "    for i in range(len(c)):\n",
    "        if(a==0):\n",
    "            figurefullwidth()\n",
    "        subplot(a+1)\n",
    "        _ = df[c[i]].hist(bins=50)\n",
    "        subplottitle(a+1, c[i])\n",
    "        a+=1\n",
    "        if(a==3):\n",
    "            a = 0\n",
    "            \n",
    "#plotcolnumerical(colnum)\n",
    "\n",
    "df[colnum[2]].plot()\n",
    "\n",
    "\n",
    "\n",
    "#df.boxplot(column='ApplicantIncome', by = 'Education')"
   ]
  },
  {
   "cell_type": "code",
   "execution_count": null,
   "metadata": {
    "code_folding": [],
    "collapsed": false
   },
   "outputs": [],
   "source": [
    "#examine the numberical categories\n",
    "def plotcolnumericalagainst(c):\n",
    "    a = 0\n",
    "    for i in range(len(c)):\n",
    "        for j in range(len(c)):\n",
    "            if (a == 0):\n",
    "                figurefullwidth()\n",
    "            ax = plt.subplot(1, len(c), a + 1)\n",
    "            x = df[c[i]]\n",
    "            y = df[c[j]]\n",
    "            if(x.dtype == \"datetime64[ns]\"):\n",
    "                x = [date.to_datetime() for date in x]\n",
    "            if(y.dtype == \"datetime64[ns]\"):\n",
    "                y =  [date.to_datetime() for date in y]\n",
    "                \n",
    "            #subplot(a+1)\n",
    "            #if(df[c[i]].dtype == datetime)\n",
    "            plt.scatter(x, y, c='b')\n",
    "            #_ = df[c[i]].hist(bins=50)\n",
    "            ax.set_ylabel(c[j])\n",
    "            ax.set_xlabel(c[i])\n",
    "            #subplottitle(a+1, c[i])\n",
    "            a += 1\n",
    "            if (a == len(c) - 1):\n",
    "                a = 0\n",
    "\n",
    "#df.dtypes\n",
    "#import matplotlib.dates as mdates\n",
    "#mdates.strpdate2num('%Y-%m-%d')\n",
    "#df[colnum[1]].astype(DT.datetime).values[0]\n",
    "#df[colnum[1]].astype(DT.datetime).values[0].to_datetime()\n",
    "\n",
    "#[date.to_datetime() for date in df[colnum[1]]]\n",
    "\n",
    "#plotcolnumericalagainst(colnum[1:5])\n",
    "#df.boxplot(column='ApplicantIncome', by = 'Education')"
   ]
  },
  {
   "cell_type": "code",
   "execution_count": null,
   "metadata": {
    "code_folding": [],
    "collapsed": false,
    "scrolled": false
   },
   "outputs": [],
   "source": [
    "#df.loc[:, df.dtypes == object].unique()\n",
    "#df.loc[:, df.dtypes == object]\n",
    "\n",
    "d = {}\n",
    "d_vals = {}\n",
    "for col in df:\n",
    "    if(df[col].dtype == object):\n",
    "        d[col] = df[col].unique()\n",
    "        print(col, len(d[col]))\n",
    "        d_vals[col] = df[col].value_counts()\n",
    "#d\n",
    "#d_vals"
   ]
  },
  {
   "cell_type": "code",
   "execution_count": null,
   "metadata": {
    "collapsed": false,
    "scrolled": true
   },
   "outputs": [],
   "source": [
    "r = df['bet_type'].apply(lambda x: pd.Series(x.split('|')))\n",
    "#foo = lambda x: pd.Series([i for i in reversed(x.split('|'))])\n",
    "#rev = df[\"bet_type\"].apply(foo)\n",
    "#rev\n"
   ]
  },
  {
   "cell_type": "code",
   "execution_count": null,
   "metadata": {
    "collapsed": false
   },
   "outputs": [],
   "source": [
    "r.head()"
   ]
  },
  {
   "cell_type": "code",
   "execution_count": null,
   "metadata": {
    "collapsed": false
   },
   "outputs": [],
   "source": [
    "del r[0]\n",
    "#r.rename(columns={0:'bet_type0',1:'bet_type1',2:'bet_type2', 3:'bet_type3'},inplace=True)\n",
    "r.shape\n",
    "for i in range(0, r.shape[1]):\n",
    "    df[\"bet_type\" + str(i)] = r[i+1]\n",
    "del df[\"bet_type\"]\n",
    "df.head()"
   ]
  },
  {
   "cell_type": "code",
   "execution_count": null,
   "metadata": {
    "collapsed": false
   },
   "outputs": [],
   "source": [
    "df[\"pct_matched_cat\"] = df[\"pct_matched\"].apply(lambda x: 1 if x > 0.5 else -1)\n",
    "df.head()\n",
    "df.columns"
   ]
  },
  {
   "cell_type": "code",
   "execution_count": null,
   "metadata": {
    "collapsed": false,
    "scrolled": true
   },
   "outputs": [],
   "source": [
    "#df = encode_onehot(df, [\"bookie\", \"bet_type0\", \"bet_type1\",\"bet_type2\"])\n",
    "#df = encode_onehot(df, [\"bet_type0\"])\n",
    "#df = encode_onehot(df, [\"bookie\"])\n",
    "\n",
    "df = encode_onehot(df, [\"bookie\", \"bet_type0\"])\n",
    "df.head()\n",
    "df.columns\n"
   ]
  },
  {
   "cell_type": "code",
   "execution_count": null,
   "metadata": {
    "collapsed": false
   },
   "outputs": [],
   "source": [
    "del df[\"bet_type1\"]\n",
    "del df[\"bet_type2\"]\n",
    "del df[\"bet_type3\"]\n",
    "del df[\"pct_matched\"]\n",
    "df_y[\"pct_matched_cat\"] = df[\"pct_matched_cat\"]\n",
    "del df[\"pct_matched_cat\"]\n",
    "df.head()\n",
    "df.dtypes\n",
    "df_y.head()\n",
    "df_y[\"pct_matched_cat\"]"
   ]
  },
  {
   "cell_type": "code",
   "execution_count": null,
   "metadata": {
    "collapsed": false
   },
   "outputs": [],
   "source": [
    "df.dtypes\n",
    "df.shape"
   ]
  },
  {
   "cell_type": "code",
   "execution_count": null,
   "metadata": {
    "code_folding": [
     0
    ],
    "collapsed": false,
    "scrolled": false
   },
   "outputs": [],
   "source": [
    "#look at the dist across categories\n",
    "def plotcolcats(c):\n",
    "    a = 0\n",
    "    for i in range(len(c)):\n",
    "        if(a==0):\n",
    "            figurefullwidth()\n",
    "        subplot(a+1)\n",
    "        if(len(df[c[i]].unique())> 50):\n",
    "            print (\"too many cols \",len(df[c[i]].unique()), c[i], i)\n",
    "        else:\n",
    "            _ = df[c[i]].value_counts().plot(kind='bar')\n",
    "        subplottitle(a+1, c[i])\n",
    "        #plt.show()\n",
    "        a+=1\n",
    "        if(a==3):\n",
    "            a = 0\n",
    "#plotcolcats(colcat)"
   ]
  },
  {
   "cell_type": "code",
   "execution_count": null,
   "metadata": {
    "code_folding": [
     0
    ],
    "collapsed": false
   },
   "outputs": [],
   "source": [
    "#figurefullwidth()\n",
    "#df[colcat[4]].value_counts()[:100].plot(kind='bar')\n",
    "#figurefullwidth()\n",
    "#df[colcat[6]].value_counts().plot(kind='bar')\n",
    "#figurefullwidth()\n",
    "#df[colcat[7]].value_counts()[:100].plot(kind='bar')"
   ]
  },
  {
   "cell_type": "code",
   "execution_count": null,
   "metadata": {
    "code_folding": [
     0
    ],
    "collapsed": false,
    "scrolled": false
   },
   "outputs": [],
   "source": [
    "def plotcolcatsbygroup(s, c):\n",
    "    a = 0\n",
    "    for i in range(len(c)):\n",
    "        #if(a==0):\n",
    "        #    figurefullwidth()\n",
    "        #subplot(a+1)\n",
    "        sizes = df.groupby([s,c[i]]).size().unstack()\n",
    "        l = len(sizes)\n",
    "        #print(sizes, )\n",
    "        if(sizes.shape[1]> 50):\n",
    "            print (\"too many cols \",l, c[i], i)\n",
    "        else:\n",
    "            sizes.plot(kind='bar')\n",
    "        #subplottitle(a+1, c[i])\n",
    "        #plt.show()\n",
    "        a+=1\n",
    "        if(a==3):\n",
    "            a = 0\n",
    "#Now we start to see what is significant\n",
    "#df[\"Year\"] = df[\"DateOfCall\"].map(lambda x: x.year)\n",
    "#colcat\n",
    "#df.pivot(index='Year', columns=colcat[0], values='value')\n",
    "#plotcolcatsbygroup('Year', colcat)\n",
    "\n",
    "#df.groupby(['Year',colcat[0]]).size().unstack()\n",
    "\n",
    "#df.pivot_table(index='Year', columns=colcat[0], aggfunc=len, fill_value=0)\n",
    "\n",
    "#plot cat counts vs numberical\n",
    "'''figurefullwidth()\n",
    "subplot(1)\n",
    "_vc = df[colcat[0]].value_counts()\n",
    "#.index.tolist()\n",
    "df[\"Year\"].values.shape\n",
    "_vc.values.shape\n",
    "plt.plot(df[\"Year\"].values, _vc.values, c=_vc.index)\n",
    "#df[colcat[0]].value_counts().values.tolist()\n",
    "'''"
   ]
  },
  {
   "cell_type": "code",
   "execution_count": null,
   "metadata": {
    "code_folding": [
     0
    ],
    "collapsed": true
   },
   "outputs": [],
   "source": [
    "#look at the dist across categories\n",
    "def plotcolcats(c):\n",
    "    a = 0\n",
    "    for i in range(10):\n",
    "        if(a==0):\n",
    "            figurefullwidth()\n",
    "        subplot(a+1)\n",
    "        if(len(df[colcat[i]].unique())> 50):\n",
    "            print (\"too many cols \",len(df[colcat[i]].unique()), colcat[i], i)\n",
    "        else:\n",
    "            _ = df[colcat[i]].value_counts().plot(kind='bar')\n",
    "        subplottitle(a+1, c[i])\n",
    "        #plt.show()\n",
    "        a+=1\n",
    "        if(a==3):\n",
    "            a = 0"
   ]
  },
  {
   "cell_type": "code",
   "execution_count": 14,
   "metadata": {
    "collapsed": true
   },
   "outputs": [],
   "source": [
    "def selectcols(df1, cols, split, df2):\n",
    "    t_cols = [df1.columns[i] for i in cols]\n",
    "    test_l = int(df1.shape[0] * split)\n",
    "    #train_l = df1.shape[0] - test_l\n",
    "    print(t_cols, test_l)\n",
    "    x_train = df1[t_cols][:test_l]\n",
    "    x_test = df1[t_cols][test_l:]\n",
    "    y_train = df2[:test_l]\n",
    "    y_test = df2[test_l:]\n",
    "    return x_train, x_test, y_train, y_test"
   ]
  },
  {
   "cell_type": "code",
   "execution_count": 15,
   "metadata": {
    "collapsed": false
   },
   "outputs": [
    {
     "ename": "NameError",
     "evalue": "name 'df' is not defined",
     "output_type": "error",
     "traceback": [
      "\u001b[0;31m---------------------------------------------------------------------------\u001b[0m",
      "\u001b[0;31mNameError\u001b[0m                                 Traceback (most recent call last)",
      "\u001b[0;32m<ipython-input-15-49c57132b67f>\u001b[0m in \u001b[0;36m<module>\u001b[0;34m()\u001b[0m\n\u001b[1;32m      5\u001b[0m \u001b[0;31m#t_cols\u001b[0m\u001b[0;34m\u001b[0m\u001b[0;34m\u001b[0m\u001b[0m\n\u001b[1;32m      6\u001b[0m \u001b[0;31m#df[t_cols][:345]\u001b[0m\u001b[0;34m\u001b[0m\u001b[0;34m\u001b[0m\u001b[0m\n\u001b[0;32m----> 7\u001b[0;31m \u001b[0mdf\u001b[0m\u001b[0;34m.\u001b[0m\u001b[0mshape\u001b[0m\u001b[0;34m[\u001b[0m\u001b[0;36m1\u001b[0m\u001b[0;34m]\u001b[0m\u001b[0;34m\u001b[0m\u001b[0m\n\u001b[0m\u001b[1;32m      8\u001b[0m \u001b[0mpicks\u001b[0m \u001b[0;34m=\u001b[0m \u001b[0mlist\u001b[0m\u001b[0;34m(\u001b[0m\u001b[0mrange\u001b[0m\u001b[0;34m(\u001b[0m\u001b[0mdf\u001b[0m\u001b[0;34m.\u001b[0m\u001b[0mshape\u001b[0m\u001b[0;34m[\u001b[0m\u001b[0;36m1\u001b[0m\u001b[0;34m]\u001b[0m\u001b[0;34m)\u001b[0m\u001b[0;34m)\u001b[0m\u001b[0;34m\u001b[0m\u001b[0m\n\u001b[1;32m      9\u001b[0m \u001b[0;31m#picks\u001b[0m\u001b[0;34m\u001b[0m\u001b[0;34m\u001b[0m\u001b[0m\n",
      "\u001b[0;31mNameError\u001b[0m: name 'df' is not defined"
     ]
    }
   ],
   "source": [
    "#Start of the fitting for SVM\n",
    "#------------------------------\n",
    "#cols = [2, 3, 5]\n",
    "#t_cols = [df.columns[i] for i in cols]\n",
    "#t_cols\n",
    "#df[t_cols][:345]\n",
    "df.shape[1]\n",
    "picks = list(range(df.shape[1]))\n",
    "#picks\n",
    "x_train, x_test, y_train, y_test = selectcols(dftrain_x, picks, 0.8, dftrain_y)\n",
    "x_train.shape\n",
    "x_test.shape\n",
    "y_train.shape\n",
    "y_test.shape"
   ]
  },
  {
   "cell_type": "code",
   "execution_count": null,
   "metadata": {
    "collapsed": true
   },
   "outputs": [],
   "source": [
    "def sub_p_svm (x1, y1, x2, y2, k, do_plot=False):\n",
    "    #normalise the data\n",
    "    scaler = StandardScaler()\n",
    "    x1 = scaler.fit_transform(x1)\n",
    "    x2 = scaler.transform(x2)\n",
    "    \n",
    "    # create feature union\n",
    "    features = []\n",
    "    features.append(('pca', PCA(n_components=k)))\n",
    "    #features.append(('select_best', SelectKBest(k='all')))\n",
    "    feature_union = FeatureUnion(features)\n",
    "    # create pipeline\n",
    "    estimators = []\n",
    "    estimators.append(('feature_union', feature_union))\n",
    "    #sv = SVC(kernel='rbf', gamma=0.1, probability=True)\n",
    "    sv = SVC(kernel='linear', gamma=0.1, probability=True)\n",
    "    tag = \"SVC\"\n",
    "    useRF = True\n",
    "    if useRF:\n",
    "        sv = RandomForestClassifier()\n",
    "        tag = \"RF\"\n",
    "        #sv = linear_model.LogisticRegression()\n",
    "        #tag = \"logistic\"\n",
    "        \n",
    "    estimators.append((tag, sv))\n",
    "    model = Pipeline(estimators)\n",
    "    # evaluate pipeline\n",
    "    #num_folds = 10\n",
    "    #num_instances = len(X)\n",
    "    #seed = 7\n",
    "    #kfold = KFold(n=num_instances, n_folds=num_folds, random_state=seed)\n",
    "    #results = cross_val_score(model, X, Y, cv=kfold)\n",
    "    \n",
    "        #sv = RandomForestClassifier()\n",
    "    #param_sv = {\"C\": [1e0, 1e1, 1e2, 1e3],\n",
    "    #                    \"gamma\": np.logspace(-2, 2, 5)}\n",
    "    param_sv = {\"SVC__C\": [1e0, 1e1, 1e2, 1e3],\n",
    "                        \"SVC__gamma\": np.logspace(-2, 2, 5)}\n",
    "    \n",
    "    param_lr = {\n",
    "        #\"logistic__n_components\": [20, 40, 64],\n",
    "                    \"logistic__C\" : np.logspace(-4, 4, 3)}\n",
    "    param_rf = {\"RF__max_depth\": [3, 10],\n",
    "              \"RF__max_features\": [1, 3],\n",
    "              \"RF__min_samples_split\": [1, 3],\n",
    "              \"RF__min_samples_leaf\": [1, 3],\n",
    "              \"RF__bootstrap\": [True, False],\n",
    "              #\"criterion\": [\"gini\", \"entropy\"]\n",
    "              \"RF__criterion\": [\"entropy\"]\n",
    "               }\n",
    "    #tcv = TimeSeriesSplit(n_splits=4)\n",
    "    cv_splits = 2\n",
    "    svm = GridSearchCV(model, cv=cv_splits,\n",
    "                       param_grid=param_sv)\n",
    "    if useRF:\n",
    "        svm = GridSearchCV(model, cv=cv_splits,\n",
    "                       param_grid=param_rf)\n",
    "        \n",
    "    #print(x1)\n",
    "    #print(y1)\n",
    "    #print(x2)\n",
    "    #print(y2)\n",
    "    #Tracer()()\n",
    "    #print(\"mean\", x1.mean(axis=0), \"std\", x1.std(axis=0))\n",
    "\n",
    "    svm.fit(x1, y1)\n",
    "    #y1_svr = svm.predict(x1)\n",
    "    #y2_svr = svm.predict(x2)\n",
    "    #svm_num = svm.best_estimator_.named_steps[\"SVC\"].n_support_\n",
    "    #if useRF:\n",
    "    #    svm_num = np.array([0])\n",
    "    s_in = svm.score(x1, y1)\n",
    "    s_out = svm.score(x2, y2)\n",
    "    #y3 = np.full(len(y2), -1)\n",
    "    #always do nothing\n",
    "    #res_e_simple = accuracy_score(y2, y3)\n",
    "    #cm = confusion_matrix(y2, y2_svr, labels=[-1, 1])\n",
    "    #cm_simple = confusion_matrix(y3, y2_svr, labels=[-1, 1])\n",
    "    \n",
    "    le_in = log_loss(y1, svm.best_estimator_.named_steps[tag].predict_proba(x1))\n",
    "    le_out = log_loss(y2, svm.best_estimator_.named_steps[tag].predict_proba(x2))\n",
    "    \n",
    "    print(k, le_in, le_out, s_in, s_out)\n",
    "    #(log_loss(y[:train_size], gp_fix.predict_proba(X[:train_size])[:, 1])\n",
    "     \n",
    "    #print(mycm(y2, y2_svr))\n",
    "    #print(cm)\n",
    "    \n",
    "    if do_plot:\n",
    "        plt.figure()\n",
    "        plt.clf()\n",
    "        d = {\"-1\": \"blue\", \"1\":\"yellow\"}\n",
    "        c1 = list(map(lambda x : \"yellow\" if x == -1 else \"green\", y1))\n",
    "        patch1 = mpatches.Patch(color='yellow', label='-1 CNG<=0')\n",
    "        patch2 = mpatches.Patch(color='green', label='+1 CNG>0')\n",
    "        plt.legend(handles=[patch1, patch2])\n",
    "        #print(x1[:, 0])\n",
    "        #print(c1)\n",
    "        plt.scatter(x1[:, 0], x1[:, 1], c=c1, zorder=10, cmap=plt.cm.Paired)\n",
    "        #plt.scatter(x2[:, 0], x2[:, 1], s=80, facecolors='none', zorder=10)\n",
    "        plt.scatter(x2[:, 0], x2[:, 1], s=280, c=\"k\", marker='+', zorder=10, lw=2)\n",
    "\n",
    "        #plt.axis('tight')\n",
    "        x_min = x1[:, 0].min()\n",
    "        x_max = x1[:, 0].max()\n",
    "        y_min = x1[:, 1].min()\n",
    "        y_max = x1[:, 1].max()\n",
    "        print(svm.best_estimator_.named_steps[\"SVC\"])\n",
    "        XX, YY = np.mgrid[x_min:x_max:200j, y_min:y_max:200j]\n",
    "        #Z = svm.decision_function(np.c_[XX.ravel(), YY.ravel()])\n",
    "        Z = svm.best_estimator_.named_steps[\"SVC\"].decision_function(np.c_[XX.ravel(), YY.ravel()])\n",
    "\n",
    "        # Put the result into a color plot\n",
    "        Z = Z.reshape(XX.shape)\n",
    "        plt.pcolormesh(XX, YY, Z > 0, cmap=plt.cm.Paired)\n",
    "        plt.contour(XX, YY, Z, colors=['k', 'k', 'k'], linestyles=['--', '-', '--'],\n",
    "                levels=[-.5, 0, .5])\n",
    "\n",
    "        plt.title(\"svm\")#plt.plot(unprep(x1), y1_svr, 'o')\n",
    "        plt.show()\n",
    "        #plt.figure()\n",
    "        #plt.plot(unprep(x2), y2_svr, 'o')\n",
    "        #plt.figure()\n",
    "        #plt.plot(res)\n",
    "        #plt.figure()\n",
    "        #plt.plot(unprep(x1), label =\"X\")\n",
    "        #plt.plot(y1_svr, label =\"y_in\")\n",
    "        #plt.legend(loc=\"best\")\n",
    "        #plt.figure()\n",
    "        #plt.plot(unprep(x2), label =\"X\")\n",
    "        #plt.plot(y2_svr, label =\"y_out\")\n",
    "        #plt.legend(loc=\"best\")\n",
    "    return le_in, le_out, s_in, s_out"
   ]
  },
  {
   "cell_type": "code",
   "execution_count": null,
   "metadata": {
    "collapsed": false
   },
   "outputs": [],
   "source": [
    "#for i in range(2, df.shape[1]):\n",
    "#    print(i)\n",
    "le_in, le_out, s_in, s_out = sub_p_svm(x_train,y_train,x_test, y_test, 5, do_plot=False)\n",
    "\n",
    "#logloss\n",
    "#target values\n",
    "#0.48\n",
    "\n",
    "#plot_confusion_matrix(cm, [\"-1\", \"1\"])\n",
    "\n",
    "#select best features\n",
    "\n"
   ]
  },
  {
   "cell_type": "code",
   "execution_count": null,
   "metadata": {
    "code_folding": [
     0
    ],
    "collapsed": true
   },
   "outputs": [],
   "source": [
    "def plot_confusion_matrix(cm, classes,\n",
    "                          normalize=True,\n",
    "                          title='Confusion matrix',\n",
    "                          cmap=plt.cm.Blues,\n",
    "                          axis=0):\n",
    "    \"\"\"\n",
    "    This function prints and plots the confusion matrix.\n",
    "    Normalization can be applied by setting `normalize=True`.\n",
    "    \"\"\"\n",
    "    plt.figure()\n",
    "    plt.imshow(cm, interpolation='nearest', cmap=cmap)\n",
    "    plt.title(title)\n",
    "    plt.colorbar()\n",
    "    tick_marks = np.arange(len(classes))\n",
    "    plt.xticks(tick_marks, classes, rotation=45)\n",
    "    plt.yticks(tick_marks, classes)\n",
    "    orig = cm\n",
    "    if normalize:\n",
    "        if axis == 1:\n",
    "            cm = cm.astype('float') / cm.sum(axis=axis)[:, np.newaxis]\n",
    "        else:\n",
    "            cm = cm.astype('float') / cm.sum(axis=axis)\n",
    "        print(\"Normalized confusion matrix\")\n",
    "    else:\n",
    "        print('Confusion matrix, without normalization')\n",
    "\n",
    "    #print(cm)\n",
    "\n",
    "    \n",
    "    for i, j in itertools.product(range(cm.shape[0]), range(cm.shape[1])):\n",
    "        #thresh = cm[i].max() / 2.\n",
    "        #thresh = orig.sum(axis=axis)[i]*0.5\n",
    "        thresh = orig.sum()*0.5\n",
    "        #print(i, j, thresh, orig[i,j])\n",
    "        #col = \"black\"\n",
    "        s = \"{:1.4f}\".format(cm[i,j]) + \"(\"+str(orig[i,j])+\")\"\n",
    "        plt.text(j, i, s,\n",
    "                 horizontalalignment=\"center\",\n",
    "                 color=\"white\" if orig[i, j] > thresh else \"black\")\n",
    "\n",
    "    plt.tight_layout()\n",
    "    plt.ylabel('True label')\n",
    "    plt.xlabel('Predicted label')"
   ]
  },
  {
   "cell_type": "code",
   "execution_count": null,
   "metadata": {
    "collapsed": true
   },
   "outputs": [],
   "source": []
  }
 ],
 "metadata": {
  "anaconda-cloud": {},
  "kernelspec": {
   "display_name": "Python [Root]",
   "language": "python",
   "name": "Python [Root]"
  },
  "language_info": {
   "codemirror_mode": {
    "name": "ipython",
    "version": 3
   },
   "file_extension": ".py",
   "mimetype": "text/x-python",
   "name": "python",
   "nbconvert_exporter": "python",
   "pygments_lexer": "ipython3",
   "version": "3.5.2"
  }
 },
 "nbformat": 4,
 "nbformat_minor": 0
}
