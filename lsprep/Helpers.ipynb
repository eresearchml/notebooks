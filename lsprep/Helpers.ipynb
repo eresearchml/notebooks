{
 "cells": [
  {
   "cell_type": "code",
   "execution_count": 26,
   "metadata": {
    "collapsed": false
   },
   "outputs": [],
   "source": [
    "def fun2(a):\n",
    "    import pdb; pdb.set_trace()  # debugging starts here\n",
    "    while a < 10:\n",
    "        a = a + 1\n",
    "    #pdb.set_trace()\n",
    "    a = 100\n",
    "    b = 20\n",
    "    pdb.set_trace() \n",
    "    return a\n",
    "\n",
    "def fun1(a):\n",
    "    return fun2(a)"
   ]
  },
  {
   "cell_type": "code",
   "execution_count": null,
   "metadata": {
    "collapsed": false
   },
   "outputs": [
    {
     "name": "stdout",
     "output_type": "stream",
     "text": [
      "> <ipython-input-26-4d34c8883b67>(3)fun2()\n",
      "-> while a < 10:\n",
      "(Pdb) pp locals()\n",
      "{'a': 3,\n",
      " 'pdb': <module 'pdb' from '/Users/david/anaconda/lib/python3.5/pdb.py'>}\n",
      "(Pdb) n\n",
      "> <ipython-input-26-4d34c8883b67>(4)fun2()\n",
      "-> a = a + 1\n",
      "(Pdb) n\n",
      "> <ipython-input-26-4d34c8883b67>(3)fun2()\n",
      "-> while a < 10:\n",
      "(Pdb) n\n",
      "> <ipython-input-26-4d34c8883b67>(4)fun2()\n",
      "-> a = a + 1\n",
      "(Pdb) \n",
      "> <ipython-input-26-4d34c8883b67>(3)fun2()\n",
      "-> while a < 10:\n",
      "(Pdb) \n",
      "> <ipython-input-26-4d34c8883b67>(4)fun2()\n",
      "-> a = a + 1\n",
      "(Pdb) \n",
      "> <ipython-input-26-4d34c8883b67>(3)fun2()\n",
      "-> while a < 10:\n",
      "(Pdb) pp locals()\n",
      "{'a': 6,\n",
      " 'pdb': <module 'pdb' from '/Users/david/anaconda/lib/python3.5/pdb.py'>}\n",
      "(Pdb) c\n",
      "> <ipython-input-26-4d34c8883b67>(9)fun2()\n",
      "-> return a\n",
      "(Pdb) pp locals()\n",
      "{'a': 100,\n",
      " 'b': 20,\n",
      " 'pdb': <module 'pdb' from '/Users/david/anaconda/lib/python3.5/pdb.py'>}\n"
     ]
    }
   ],
   "source": [
    "fun1(3)\n"
   ]
  },
  {
   "cell_type": "code",
   "execution_count": null,
   "metadata": {
    "collapsed": true
   },
   "outputs": [],
   "source": []
  },
  {
   "cell_type": "code",
   "execution_count": null,
   "metadata": {
    "collapsed": true
   },
   "outputs": [],
   "source": []
  }
 ],
 "metadata": {
  "anaconda-cloud": {},
  "kernelspec": {
   "display_name": "Python [Root]",
   "language": "python",
   "name": "Python [Root]"
  },
  "language_info": {
   "codemirror_mode": {
    "name": "ipython",
    "version": 3
   },
   "file_extension": ".py",
   "mimetype": "text/x-python",
   "name": "python",
   "nbconvert_exporter": "python",
   "pygments_lexer": "ipython3",
   "version": "3.5.2"
  }
 },
 "nbformat": 4,
 "nbformat_minor": 0
}
