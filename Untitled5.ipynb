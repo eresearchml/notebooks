{
 "cells": [
  {
   "cell_type": "code",
   "execution_count": 1,
   "metadata": {
    "collapsed": false
   },
   "outputs": [
    {
     "data": {
      "text/plain": [
       "['',\n",
       " '/Users/david/anaconda/lib/python35.zip',\n",
       " '/Users/david/anaconda/lib/python3.5',\n",
       " '/Users/david/anaconda/lib/python3.5/plat-darwin',\n",
       " '/Users/david/anaconda/lib/python3.5/lib-dynload',\n",
       " '/Users/david/anaconda/lib/python3.5/site-packages',\n",
       " '/Users/david/anaconda/lib/python3.5/site-packages/Sphinx-1.4.1-py3.5.egg',\n",
       " '/Users/david/anaconda/lib/python3.5/site-packages/aeosa',\n",
       " '/Users/david/anaconda/lib/python3.5/site-packages/setuptools-23.0.0-py3.5.egg',\n",
       " '/Users/david/anaconda/lib/python3.5/site-packages/IPython/extensions',\n",
       " '/Users/david/.ipython']"
      ]
     },
     "execution_count": 1,
     "metadata": {},
     "output_type": "execute_result"
    }
   ],
   "source": [
    "import sys\n",
    "sys.path"
   ]
  }
 ],
 "metadata": {
  "kernelspec": {
   "display_name": "Python [Root]",
   "language": "python",
   "name": "Python [Root]"
  },
  "language_info": {
   "codemirror_mode": {
    "name": "ipython",
    "version": 3
   },
   "file_extension": ".py",
   "mimetype": "text/x-python",
   "name": "python",
   "nbconvert_exporter": "python",
   "pygments_lexer": "ipython3",
   "version": "3.5.2"
  }
 },
 "nbformat": 4,
 "nbformat_minor": 0
}
