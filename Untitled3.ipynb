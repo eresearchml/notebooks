{
 "cells": [
  {
   "cell_type": "code",
   "execution_count": 1,
   "metadata": {
    "collapsed": false
   },
   "outputs": [
    {
     "data": {
      "text/plain": [
       "False"
      ]
     },
     "execution_count": 1,
     "metadata": {},
     "output_type": "execute_result"
    }
   ],
   "source": [
    "from notebook.nbextensions import check_nbextension\n",
    "check_nbextension('codefolding', user=True)\n",
    "check_nbextension('codefolding/main.js', user=True)\n"
   ]
  },
  {
   "cell_type": "code",
   "execution_count": null,
   "metadata": {
    "collapsed": true
   },
   "outputs": [],
   "source": []
  },
  {
   "cell_type": "code",
   "execution_count": 2,
   "metadata": {
    "collapsed": false
   },
   "outputs": [
    {
     "data": {
      "text/html": [
       "<table border=\"1\"> <tr><th>section</th> <th>require path</th> <th>enabled?</th></tr><tr><td>notebook</td><td>nb_conda/main</td><td>True</td></tr>\n",
       "<tr><td>notebook</td><td>nbpresent/js/nbpresent.min</td><td>True</td></tr>\n",
       "<tr><td>notebook</td><td>nbextensions_configurator/config_menu/main</td><td>True</td></tr>\n",
       "<tr><td>notebook</td><td>nb_anacondacloud/main</td><td>True</td></tr>\n",
       "<tr><td>tree</td><td>nb_conda/tree</td><td>True</td></tr>\n",
       "<tr><td>tree</td><td>nbextensions_configurator/tree_tab/main</td><td>True</td></tr>\n",
       "</table>"
      ],
      "text/plain": [
       "<IPython.core.display.HTML object>"
      ]
     },
     "execution_count": 2,
     "metadata": {},
     "output_type": "execute_result"
    }
   ],
   "source": [
    "import os\n",
    "\n",
    "from IPython.display import HTML\n",
    "from notebook.services.config import ConfigManager\n",
    "\n",
    "table = (\n",
    "    '<table border=\"1\"> <tr>'\n",
    "    '<th>section</th> <th>require path</th> <th>enabled?</th>'\n",
    "    '</tr>{}</table>')\n",
    "table_rows = ''\n",
    "cm = ConfigManager()\n",
    "for section in ['common', 'notebook', 'tree', 'edit', 'terminal']:\n",
    "    for req, enabled in cm.get(section).get('load_extensions', {}).items():\n",
    "        table_rows += '<tr><td>{}</td><td>{}</td><td>{}</td></tr>\\n'.format(\n",
    "            section, req, enabled)\n",
    "HTML(table.format(table_rows))"
   ]
  },
  {
   "cell_type": "code",
   "execution_count": null,
   "metadata": {
    "collapsed": true
   },
   "outputs": [],
   "source": []
  }
 ],
 "metadata": {
  "kernelspec": {
   "display_name": "Python [Root]",
   "language": "python",
   "name": "Python [Root]"
  },
  "language_info": {
   "codemirror_mode": {
    "name": "ipython",
    "version": 3
   },
   "file_extension": ".py",
   "mimetype": "text/x-python",
   "name": "python",
   "nbconvert_exporter": "python",
   "pygments_lexer": "ipython3",
   "version": "3.5.2"
  }
 },
 "nbformat": 4,
 "nbformat_minor": 0
}
