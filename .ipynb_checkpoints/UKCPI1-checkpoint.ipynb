{
 "cells": [
  {
   "cell_type": "code",
   "execution_count": 1,
   "metadata": {
    "collapsed": false
   },
   "outputs": [],
   "source": [
    "# Import\n",
    "%reset -f\n",
    "import numpy as np\n",
    "import matplotlib.pyplot as plt\n",
    "import datetime as DT\n",
    "import pandas as pd\n",
    "import math\n",
    "import scipy\n",
    "from IPython.core.debugger import Tracer\n",
    "from sklearn.feature_extraction import DictVectorizer\n",
    "from sklearn.metrics.classification import log_loss\n",
    "\n",
    "from sklearn import datasets, linear_model\n",
    "from sklearn.model_selection import GridSearchCV, TimeSeriesSplit\n",
    "from sklearn.svm import SVC, SVR\n",
    "from sklearn.metrics import confusion_matrix, accuracy_score\n",
    "from sklearn.preprocessing import StandardScaler\n",
    "from sklearn.ensemble import RandomForestClassifier\n",
    "from sklearn.pipeline import Pipeline, FeatureUnion\n",
    "from sklearn.model_selection import train_test_split\n",
    "#from sklearn.linear_model import LogisticRegression\n",
    "from sklearn.decomposition import PCA\n",
    "from sklearn.feature_selection import SelectKBest\n",
    "\n",
    "%matplotlib inline\n",
    "import seaborn as sns; sns.set()\n",
    "import operator\n",
    "import itertools\n",
    "import matplotlib.patches as mpatches\n",
    "from scipy.stats.stats import pearsonr\n",
    "import utils as ut\n",
    "\n",
    "import warnings\n",
    "warnings.filterwarnings('ignore')\n",
    "#Tracer()()\n",
    "\n",
    "from IPython.core.interactiveshell import InteractiveShell\n",
    "InteractiveShell.ast_node_interactivity = \"all\""
   ]
  },
  {
   "cell_type": "code",
   "execution_count": 2,
   "metadata": {
    "code_folding": [],
    "collapsed": false
   },
   "outputs": [
    {
     "data": {
      "application/javascript": [
       "IPython.OutputArea.auto_scroll_threshold = 5000;"
      ],
      "text/plain": [
       "<IPython.core.display.Javascript object>"
      ]
     },
     "metadata": {},
     "output_type": "display_data"
    }
   ],
   "source": [
    "%%javascript\n",
    "IPython.OutputArea.auto_scroll_threshold = 5000;"
   ]
  },
  {
   "cell_type": "code",
   "execution_count": 3,
   "metadata": {
    "code_folding": [
     0
    ],
    "collapsed": false
   },
   "outputs": [
    {
     "data": {
      "text/html": [
       "<style>.container { width:95% !important; }</style>"
      ],
      "text/plain": [
       "<IPython.core.display.HTML object>"
      ]
     },
     "metadata": {},
     "output_type": "display_data"
    }
   ],
   "source": [
    "#Display full width\n",
    "from IPython.core.display import display, HTML\n",
    "display(HTML(\"<style>.container { width:95% !important; }</style>\"))"
   ]
  },
  {
   "cell_type": "code",
   "execution_count": 4,
   "metadata": {
    "collapsed": true
   },
   "outputs": [],
   "source": [
    "def processfile(csv):\n",
    "    #load data\n",
    "    df = pd.read_csv(csv, header= 0)\n",
    "    #l df[\"pct_matched_cat\"]\n",
    "    #df_y[\"pct_matched_cat\"]\n",
    "    return df"
   ]
  },
  {
   "cell_type": "code",
   "execution_count": 56,
   "metadata": {
    "collapsed": false,
    "scrolled": false
   },
   "outputs": [
    {
     "data": {
      "text/plain": [
       "<matplotlib.axes._subplots.AxesSubplot at 0x178b95908>"
      ]
     },
     "execution_count": 56,
     "metadata": {},
     "output_type": "execute_result"
    },
    {
     "data": {
      "image/png": "[encoded data removed]",
      "text/plain": [
       "<matplotlib.figure.Figure at 0x1592afe48>"
      ]
     },
     "metadata": {},
     "output_type": "display_data"
    }
   ],
   "source": [
    "df= processfile('/Users/david/notebooks/data/ukcpi.csv')\n",
    "#ut.dispdf(df, 10, num=10, cols=10)\n",
    "df = df[[df.columns[27],df.columns[0]]]\n",
    "df = df[493:].reset_index(drop=True)\n",
    "df[\"cpi\"] = df[df.columns[0]].apply(lambda x: float(x))\n",
    "del df[df.columns[0]]\n",
    "df[\"date\"] = pd.to_datetime(df[\"Title\"], infer_datetime_format=True)\n",
    "del df[\"Title\"]\n",
    "\n",
    "#ut.printfull(df)\n",
    "df.plot()"
   ]
  },
  {
   "cell_type": "code",
   "execution_count": 71,
   "metadata": {
    "collapsed": false
   },
   "outputs": [
    {
     "data": {
      "text/plain": [
       "{'boxes': [<matplotlib.lines.Line2D at 0x122e79208>,\n",
       "  <matplotlib.lines.Line2D at 0x16982f0b8>,\n",
       "  <matplotlib.lines.Line2D at 0x16983f6a0>,\n",
       "  <matplotlib.lines.Line2D at 0x1648c7c88>,\n",
       "  <matplotlib.lines.Line2D at 0x123871c88>,\n",
       "  <matplotlib.lines.Line2D at 0x128ed6c18>,\n",
       "  <matplotlib.lines.Line2D at 0x164cabcf8>,\n",
       "  <matplotlib.lines.Line2D at 0x1399f77f0>,\n",
       "  <matplotlib.lines.Line2D at 0x139a172e8>,\n",
       "  <matplotlib.lines.Line2D at 0x139a2dda0>,\n",
       "  <matplotlib.lines.Line2D at 0x1238c1898>,\n",
       "  <matplotlib.lines.Line2D at 0x1238bb390>],\n",
       " 'caps': [<matplotlib.lines.Line2D at 0x164b659b0>,\n",
       "  <matplotlib.lines.Line2D at 0x169d55048>,\n",
       "  <matplotlib.lines.Line2D at 0x1698378d0>,\n",
       "  <matplotlib.lines.Line2D at 0x169837f98>,\n",
       "  <matplotlib.lines.Line2D at 0x16984bd68>,\n",
       "  <matplotlib.lines.Line2D at 0x123876208>,\n",
       "  <matplotlib.lines.Line2D at 0x169d5de48>,\n",
       "  <matplotlib.lines.Line2D at 0x122f9b898>,\n",
       "  <matplotlib.lines.Line2D at 0x122f84358>,\n",
       "  <matplotlib.lines.Line2D at 0x164c7ea58>,\n",
       "  <matplotlib.lines.Line2D at 0x16982d1d0>,\n",
       "  <matplotlib.lines.Line2D at 0x164b61208>,\n",
       "  <matplotlib.lines.Line2D at 0x164caad30>,\n",
       "  <matplotlib.lines.Line2D at 0x164caae80>,\n",
       "  <matplotlib.lines.Line2D at 0x139a1d828>,\n",
       "  <matplotlib.lines.Line2D at 0x139a1df98>,\n",
       "  <matplotlib.lines.Line2D at 0x139a0dbe0>,\n",
       "  <matplotlib.lines.Line2D at 0x1399f0b70>,\n",
       "  <matplotlib.lines.Line2D at 0x1238a3dd8>,\n",
       "  <matplotlib.lines.Line2D at 0x1238a3f28>,\n",
       "  <matplotlib.lines.Line2D at 0x1238a58d0>,\n",
       "  <matplotlib.lines.Line2D at 0x1238a5a20>,\n",
       "  <matplotlib.lines.Line2D at 0x1238c2c88>,\n",
       "  <matplotlib.lines.Line2D at 0x1238bfc18>],\n",
       " 'fliers': [<matplotlib.lines.Line2D at 0x169828128>,\n",
       "  <matplotlib.lines.Line2D at 0x122bb6278>,\n",
       "  <matplotlib.lines.Line2D at 0x122f927f0>,\n",
       "  <matplotlib.lines.Line2D at 0x12385c8d0>,\n",
       "  <matplotlib.lines.Line2D at 0x164b5fb38>,\n",
       "  <matplotlib.lines.Line2D at 0x164cabba8>,\n",
       "  <matplotlib.lines.Line2D at 0x164ca4f60>,\n",
       "  <matplotlib.lines.Line2D at 0x1399f2a58>,\n",
       "  <matplotlib.lines.Line2D at 0x139a2dc50>,\n",
       "  <matplotlib.lines.Line2D at 0x1238c1748>,\n",
       "  <matplotlib.lines.Line2D at 0x12389fb00>,\n",
       "  <matplotlib.lines.Line2D at 0x161f4ccf8>],\n",
       " 'means': [],\n",
       " 'medians': [<matplotlib.lines.Line2D at 0x169d3ed68>,\n",
       "  <matplotlib.lines.Line2D at 0x169839e48>,\n",
       "  <matplotlib.lines.Line2D at 0x122fad4e0>,\n",
       "  <matplotlib.lines.Line2D at 0x12c2878d0>,\n",
       "  <matplotlib.lines.Line2D at 0x164b5f2e8>,\n",
       "  <matplotlib.lines.Line2D at 0x164b3bc18>,\n",
       "  <matplotlib.lines.Line2D at 0x164ca4710>,\n",
       "  <matplotlib.lines.Line2D at 0x1399f2208>,\n",
       "  <matplotlib.lines.Line2D at 0x1399f0cc0>,\n",
       "  <matplotlib.lines.Line2D at 0x1238ba7b8>,\n",
       "  <matplotlib.lines.Line2D at 0x12389f2b0>,\n",
       "  <matplotlib.lines.Line2D at 0x1238bfd68>],\n",
       " 'whiskers': [<matplotlib.lines.Line2D at 0x122bba940>,\n",
       "  <matplotlib.lines.Line2D at 0x16db91550>,\n",
       "  <matplotlib.lines.Line2D at 0x16982f128>,\n",
       "  <matplotlib.lines.Line2D at 0x169832198>,\n",
       "  <matplotlib.lines.Line2D at 0x16983f5f8>,\n",
       "  <matplotlib.lines.Line2D at 0x16984bc50>,\n",
       "  <matplotlib.lines.Line2D at 0x123863d68>,\n",
       "  <matplotlib.lines.Line2D at 0x159299c50>,\n",
       "  <matplotlib.lines.Line2D at 0x1238711d0>,\n",
       "  <matplotlib.lines.Line2D at 0x164c93dd8>,\n",
       "  <matplotlib.lines.Line2D at 0x128ed6240>,\n",
       "  <matplotlib.lines.Line2D at 0x164b6a9b0>,\n",
       "  <matplotlib.lines.Line2D at 0x164cacc50>,\n",
       "  <matplotlib.lines.Line2D at 0x164cacda0>,\n",
       "  <matplotlib.lines.Line2D at 0x1399f7f98>,\n",
       "  <matplotlib.lines.Line2D at 0x139a0ef98>,\n",
       "  <matplotlib.lines.Line2D at 0x139a17a90>,\n",
       "  <matplotlib.lines.Line2D at 0x139a0da90>,\n",
       "  <matplotlib.lines.Line2D at 0x139a29cf8>,\n",
       "  <matplotlib.lines.Line2D at 0x139a29e48>,\n",
       "  <matplotlib.lines.Line2D at 0x1238ca7f0>,\n",
       "  <matplotlib.lines.Line2D at 0x1238caf60>,\n",
       "  <matplotlib.lines.Line2D at 0x1238bbba8>,\n",
       "  <matplotlib.lines.Line2D at 0x1238c2b38>]}"
      ]
     },
     "execution_count": 71,
     "metadata": {},
     "output_type": "execute_result"
    },
    {
     "data": {
      "image/png": "[encoded data removed]",
      "text/plain": [
       "<matplotlib.figure.Figure at 0x164ba0208>"
      ]
     },
     "metadata": {},
     "output_type": "display_data"
    }
   ],
   "source": [
    "#df[\"cpi\"]\n",
    "df[\"mom\"] = df[\"cpi\"] - df[\"cpi\"].shift(1)\n",
    "df[\"month\"] = df[\"date\"].apply(lambda x: x.month)\n",
    "df = df.dropna()\n",
    "d_ar =[]\n",
    "i_ar =[]\n",
    "data_ar =[]\n",
    "min_ar =[]\n",
    "for i, d in df.groupby([\"month\"]):\n",
    "    i_ar.append(i)\n",
    "    d_ar.append(d[\"mom\"].mean())\n",
    "    data_ar.append(d[\"mom\"].values)\n",
    "    min_ar.append(d[\"mom\"].min())\n",
    "plt.boxplot(data_ar)\n"
   ]
  },
  {
   "cell_type": "code",
   "execution_count": 67,
   "metadata": {
    "collapsed": false,
    "scrolled": false
   },
   "outputs": [
    {
     "data": {
      "text/plain": [
       "[1, 2, 3, 4, 5, 6, 7, 8, 9, 10, 11, 12]"
      ]
     },
     "execution_count": 67,
     "metadata": {},
     "output_type": "execute_result"
    },
    {
     "data": {
      "text/plain": [
       "[cpi      76.275000\n",
       " mom      -0.371429\n",
       " month     1.000000\n",
       " dtype: float64, cpi      76.610714\n",
       " mom       0.335714\n",
       " month     2.000000\n",
       " dtype: float64, cpi      76.875000\n",
       " mom       0.264286\n",
       " month     3.000000\n",
       " dtype: float64, cpi      77.360714\n",
       " mom       0.485714\n",
       " month     4.000000\n",
       " dtype: float64, cpi      77.617857\n",
       " mom       0.257143\n",
       " month     5.000000\n",
       " dtype: float64, cpi      77.689286\n",
       " mom       0.071429\n",
       " month     6.000000\n",
       " dtype: float64, cpi      77.489286\n",
       " mom      -0.200000\n",
       " month     7.000000\n",
       " dtype: float64, cpi      76.837931\n",
       " mom       0.306897\n",
       " month     8.000000\n",
       " dtype: float64, cpi      77.103448\n",
       " mom       0.265517\n",
       " month     9.000000\n",
       " dtype: float64, cpi      77.200000\n",
       " mom       0.096552\n",
       " month    10.000000\n",
       " dtype: float64, cpi      77.268966\n",
       " mom       0.068966\n",
       " month    11.000000\n",
       " dtype: float64, cpi      76.646429\n",
       " mom       0.239286\n",
       " month    12.000000\n",
       " dtype: float64]"
      ]
     },
     "execution_count": 67,
     "metadata": {},
     "output_type": "execute_result"
    }
   ],
   "source": [
    "i_ar\n",
    "d_ar"
   ]
  }
 ],
 "metadata": {
  "anaconda-cloud": {},
  "kernelspec": {
   "display_name": "Python [Root]",
   "language": "python",
   "name": "Python [Root]"
  },
  "language_info": {
   "codemirror_mode": {
    "name": "ipython",
    "version": 3
   },
   "file_extension": ".py",
   "mimetype": "text/x-python",
   "name": "python",
   "nbconvert_exporter": "python",
   "pygments_lexer": "ipython3",
   "version": "3.5.2"
  }
 },
 "nbformat": 4,
 "nbformat_minor": 0
}
