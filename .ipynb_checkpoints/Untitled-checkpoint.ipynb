{
 "cells": [
  {
   "cell_type": "code",
   "execution_count": 32,
   "metadata": {
    "collapsed": false
   },
   "outputs": [
    {
     "ename": "TypeError",
     "evalue": "'Index' object is not callable",
     "output_type": "error",
     "traceback": [
      "\u001b[0;31m---------------------------------------------------------------------------\u001b[0m",
      "\u001b[0;31mTypeError\u001b[0m                                 Traceback (most recent call last)",
      "\u001b[0;32m<ipython-input-32-7ce6f52e5abe>\u001b[0m in \u001b[0;36m<module>\u001b[0;34m()\u001b[0m\n\u001b[1;32m      8\u001b[0m \u001b[0mgf\u001b[0m\u001b[0;34m.\u001b[0m\u001b[0mhead\u001b[0m\u001b[0;34m(\u001b[0m\u001b[0;34m)\u001b[0m\u001b[0;34m\u001b[0m\u001b[0m\n\u001b[1;32m      9\u001b[0m \u001b[0mmf\u001b[0m\u001b[0;34m.\u001b[0m\u001b[0mhead\u001b[0m\u001b[0;34m(\u001b[0m\u001b[0;34m)\u001b[0m\u001b[0;34m\u001b[0m\u001b[0m\n\u001b[0;32m---> 10\u001b[0;31m \u001b[0mpd\u001b[0m\u001b[0;34m.\u001b[0m\u001b[0mto_numeric\u001b[0m\u001b[0;34m(\u001b[0m\u001b[0mmf\u001b[0m\u001b[0;34m.\u001b[0m\u001b[0mcolumns\u001b[0m\u001b[0;34m(\u001b[0m\u001b[0;34m)\u001b[0m\u001b[0;34m,\u001b[0m \u001b[0merrors\u001b[0m\u001b[0;34m=\u001b[0m\u001b[0;34m\"coerce\"\u001b[0m\u001b[0;34m)\u001b[0m\u001b[0;34m\u001b[0m\u001b[0m\n\u001b[0m",
      "\u001b[0;31mTypeError\u001b[0m: 'Index' object is not callable"
     ]
    }
   ],
   "source": [
    "import pandas as pd\n",
    "matchinfofilename = \"/Users/David/Documents/MatchInfo.csv\"\n",
    "goalinfofilename = \"/Users/David/Documents/GoalInfoShort.csv\"\n",
    "gf = pd.read_csv(goalinfofilename)\n",
    "gf = gf.drop([\"Home_Away\"], axis=1)\n",
    "gf = gf.dropna()\n",
    "mf = pd.read_csv(matchinfofilename)\n",
    "gf.head()\n",
    "mf.head()\n",
    "pd.to_numeric(mf.columns(), errors=\"coerce\")"
   ]
  },
  {
   "cell_type": "code",
   "execution_count": 41,
   "metadata": {
    "collapsed": false
   },
   "outputs": [],
   "source": [
    "\n",
    "mf = mf.loc[(mf[\"AwayGoalsFullTime\"] >= 0) & (mf[\"HomeGoalsFullTime\"] >=0)]"
   ]
  },
  {
   "cell_type": "code",
   "execution_count": 36,
   "metadata": {
    "collapsed": false
   },
   "outputs": [
    {
     "data": {
      "text/plain": [
       "dtype('int64')"
      ]
     },
     "execution_count": 36,
     "metadata": {},
     "output_type": "execute_result"
    }
   ],
   "source": [
    "mf[\"AwayGoalsFullTime\"].dtype"
   ]
  },
  {
   "cell_type": "code",
   "execution_count": 2,
   "metadata": {
    "collapsed": true
   },
   "outputs": [],
   "source": [
    "%matplotlib inline\n",
    "import matplotlib.pyplot as plt"
   ]
  },
  {
   "cell_type": "code",
   "execution_count": 3,
   "metadata": {
    "collapsed": false
   },
   "outputs": [
    {
     "data": {
      "text/html": [
       "<div>\n",
       "<table border=\"1\" class=\"dataframe\">\n",
       "  <thead>\n",
       "    <tr style=\"text-align: right;\">\n",
       "      <th></th>\n",
       "      <th>MatchID</th>\n",
       "      <th>MatchScore</th>\n",
       "    </tr>\n",
       "    <tr>\n",
       "      <th>GoalMinute</th>\n",
       "      <th></th>\n",
       "      <th></th>\n",
       "    </tr>\n",
       "  </thead>\n",
       "  <tbody>\n",
       "    <tr>\n",
       "      <th>1</th>\n",
       "      <td>1420</td>\n",
       "      <td>1420</td>\n",
       "    </tr>\n",
       "    <tr>\n",
       "      <th>10</th>\n",
       "      <td>2776</td>\n",
       "      <td>2776</td>\n",
       "    </tr>\n",
       "    <tr>\n",
       "      <th>11</th>\n",
       "      <td>2685</td>\n",
       "      <td>2685</td>\n",
       "    </tr>\n",
       "    <tr>\n",
       "      <th>12</th>\n",
       "      <td>2767</td>\n",
       "      <td>2767</td>\n",
       "    </tr>\n",
       "    <tr>\n",
       "      <th>13</th>\n",
       "      <td>2735</td>\n",
       "      <td>2735</td>\n",
       "    </tr>\n",
       "  </tbody>\n",
       "</table>\n",
       "</div>"
      ],
      "text/plain": [
       "            MatchID  MatchScore\n",
       "GoalMinute                     \n",
       "1              1420        1420\n",
       "10             2776        2776\n",
       "11             2685        2685\n",
       "12             2767        2767\n",
       "13             2735        2735"
      ]
     },
     "execution_count": 3,
     "metadata": {},
     "output_type": "execute_result"
    }
   ],
   "source": [
    "less_than_ninety = gf.loc[pd.to_numeric(gf[\"GoalMinute\"], errors=\"coerce\") < 90]\n",
    "gf4 = less_than_ninety.groupby([\"GoalMinute\"]).count()\n",
    "gf4.head()"
   ]
  },
  {
   "cell_type": "code",
   "execution_count": 4,
   "metadata": {
    "collapsed": false
   },
   "outputs": [
    {
     "data": {
      "text/html": [
       "<div>\n",
       "<table border=\"1\" class=\"dataframe\">\n",
       "  <thead>\n",
       "    <tr style=\"text-align: right;\">\n",
       "      <th></th>\n",
       "      <th>MatchID</th>\n",
       "      <th>GoalMinute</th>\n",
       "    </tr>\n",
       "    <tr>\n",
       "      <th>MatchScore</th>\n",
       "      <th></th>\n",
       "      <th></th>\n",
       "    </tr>\n",
       "  </thead>\n",
       "  <tbody>\n",
       "    <tr>\n",
       "      <th>1 - 0</th>\n",
       "      <td>0.191915</td>\n",
       "      <td>0.191915</td>\n",
       "    </tr>\n",
       "    <tr>\n",
       "      <th>0 - 1</th>\n",
       "      <td>0.142318</td>\n",
       "      <td>0.142318</td>\n",
       "    </tr>\n",
       "    <tr>\n",
       "      <th>1 - 1</th>\n",
       "      <td>0.123911</td>\n",
       "      <td>0.123911</td>\n",
       "    </tr>\n",
       "    <tr>\n",
       "      <th>2 - 0</th>\n",
       "      <td>0.090831</td>\n",
       "      <td>0.090831</td>\n",
       "    </tr>\n",
       "    <tr>\n",
       "      <th>2 - 1</th>\n",
       "      <td>0.071364</td>\n",
       "      <td>0.071364</td>\n",
       "    </tr>\n",
       "  </tbody>\n",
       "</table>\n",
       "</div>"
      ],
      "text/plain": [
       "             MatchID  GoalMinute\n",
       "MatchScore                      \n",
       "1 - 0       0.191915    0.191915\n",
       "0 - 1       0.142318    0.142318\n",
       "1 - 1       0.123911    0.123911\n",
       "2 - 0       0.090831    0.090831\n",
       "2 - 1       0.071364    0.071364"
      ]
     },
     "execution_count": 4,
     "metadata": {},
     "output_type": "execute_result"
    }
   ],
   "source": [
    "gf4 = gf.groupby([\"MatchScore\"]).count()\n",
    "gf4 = gf4.sort_values([\"MatchID\"], ascending = [0])\n",
    "gf4.head()\n",
    "gf4[\"MatchID\"]\n",
    "gf5 = gf4 / gf4[\"MatchID\"].sum()\n",
    "gf5.head()"
   ]
  },
  {
   "cell_type": "code",
   "execution_count": 53,
   "metadata": {
    "collapsed": false
   },
   "outputs": [
    {
     "data": {
      "text/plain": [
       "HomeGoalsFullTime  AwayGoalsFullTime\n",
       "0                  0                    7.345449e-02\n",
       "                   1                    6.976955e-02\n",
       "                   2                    4.334561e-02\n",
       "                   3                    2.428503e-02\n",
       "                   4                    9.872982e-03\n",
       "                   5                    4.573600e-03\n",
       "                   6                    2.054862e-03\n",
       "                   7                    1.138839e-03\n",
       "                   8                    6.515099e-04\n",
       "                   9                    3.700576e-04\n",
       "                   10                   2.189073e-04\n",
       "                   11                   1.485443e-04\n",
       "                   12                   1.016356e-04\n",
       "                   13                   7.362062e-05\n",
       "                   14                   4.951476e-05\n",
       "                   15                   3.387852e-05\n",
       "                   16                   2.736342e-05\n",
       "                   17                   1.889379e-05\n",
       "                   18                   1.433322e-05\n",
       "                   19                   1.628775e-05\n",
       "                   20                   5.212080e-06\n",
       "                   21                   6.515099e-06\n",
       "                   22                   1.954530e-06\n",
       "                   23                   2.606040e-06\n",
       "                   24                   3.257550e-06\n",
       "                   27                   1.954530e-06\n",
       "                   28                   6.515099e-07\n",
       "                   29                   1.303020e-06\n",
       "                   30                   6.515099e-07\n",
       "                   31                   1.303020e-06\n",
       "                                            ...     \n",
       "16                 0                    3.909060e-05\n",
       "                   1                    9.772649e-06\n",
       "                   2                    1.303020e-06\n",
       "17                 0                    2.866644e-05\n",
       "                   1                    5.863589e-06\n",
       "                   2                    6.515099e-07\n",
       "18                 0                    2.149983e-05\n",
       "                   1                    4.560570e-06\n",
       "                   2                    6.515099e-07\n",
       "19                 0                    2.084832e-05\n",
       "                   1                    6.515099e-07\n",
       "                   3                    6.515099e-07\n",
       "                   5                    6.515099e-07\n",
       "20                 0                    7.818119e-06\n",
       "                   1                    3.257550e-06\n",
       "21                 0                    1.368171e-05\n",
       "22                 0                    5.863589e-06\n",
       "                   1                    6.515099e-07\n",
       "23                 0                    6.515099e-06\n",
       "                   1                    1.303020e-06\n",
       "24                 0                    5.863589e-06\n",
       "25                 0                    3.909060e-06\n",
       "26                 0                    7.166609e-06\n",
       "27                 0                    1.303020e-06\n",
       "28                 0                    1.954530e-06\n",
       "29                 0                    3.909060e-06\n",
       "30                 0                    6.515099e-07\n",
       "31                 0                    3.257550e-06\n",
       "32                 0                    6.515099e-07\n",
       "33                 0                    1.303020e-06\n",
       "Name: MatchID, dtype: float64"
      ]
     },
     "execution_count": 53,
     "metadata": {},
     "output_type": "execute_result"
    }
   ],
   "source": [
    "#nillnill = mf[(mf['AwayGoalsFullTime'] == 0)]\n",
    "\n",
    "hg = mf.groupby([\"HomeGoalsFullTime\", \"AwayGoalsFullTime\"]).count()\n",
    "hg = hg[\"MatchID\"]\n",
    "hg = hg / hg.sum()\n",
    "hg\n",
    "#nillnill = mf[(mf['AwayGoalsFullTime'] == 0) & (mf['HomeGoalsFullTime'] == 0)]\n",
    "#nn_prob = nillnill.count()/mf.count()\n",
    "\n",
    "\n",
    "#nn_prob"
   ]
  },
  {
   "cell_type": "code",
   "execution_count": 59,
   "metadata": {
    "collapsed": false
   },
   "outputs": [
    {
     "data": {
      "text/plain": [
       "<matplotlib.axes._subplots.AxesSubplot at 0x131484518>"
      ]
     },
     "execution_count": 59,
     "metadata": {},
     "output_type": "execute_result"
    },
    {
     "data": {
      "image/png": "[encoded data removed]",
      "text/plain": [
       "<matplotlib.figure.Figure at 0x1314849e8>"
      ]
     },
     "metadata": {},
     "output_type": "display_data"
    }
   ],
   "source": [
    "fig = plt.figure(figsize=(18,5), dpi=1600)\n",
    "alpha_level = 0.65\n",
    "\n",
    "\n",
    "#ax1=fig.add_subplot(141)\n",
    "#gf6 = gf5.loc[gf5[\"MatchID\"] > 0.01]\n",
    "#gf6.plot(kind='bar', label='female, highclass', color='#FA2479', alpha=alpha_level)\n",
    "\n",
    "gf7 = hg.loc[hg > 0.01]\n",
    "gf7.plot(kind='bar', label='goals', color='#FA0479', alpha=alpha_level)\n",
    "\n",
    "#female_highclass = df.Survived[df.Sex == 'female'][df.Pclass != 3].value_counts()\n",
    "#female_highclass.plot(kind='bar', label='female, highclass', color='#FA2479', alpha=alpha_level)\n",
    "#ax1.set_xticklabels([\"Survived\", \"Died\"], rotation=0)\n",
    "#ax1.set_xlim(-1, len(female_highclass))\n",
    "#plt.title(\"Who Survived? with respect to Gender and Class\"); plt.legend(loc='best')"
   ]
  }
 ],
 "metadata": {
  "kernelspec": {
   "display_name": "Python [Root]",
   "language": "python",
   "name": "Python [Root]"
  },
  "language_info": {
   "codemirror_mode": {
    "name": "ipython",
    "version": 3
   },
   "file_extension": ".py",
   "mimetype": "text/x-python",
   "name": "python",
   "nbconvert_exporter": "python",
   "pygments_lexer": "ipython3",
   "version": "3.5.2"
  }
 },
 "nbformat": 4,
 "nbformat_minor": 0
}
