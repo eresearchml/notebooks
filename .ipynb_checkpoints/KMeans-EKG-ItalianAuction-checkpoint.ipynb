{
 "cells": [
  {
   "cell_type": "code",
   "execution_count": null,
   "metadata": {
    "collapsed": true
   },
   "outputs": [],
   "source": [
    "from __future__ import print_function\n",
    "import numpy as np\n",
    "from sklearn.cluster import KMeans\n",
    "import matplotlib.pyplot as plt\n",
    "import ekg_data\n",
    "import learn_utils\n",
    "\n",
    "WINDOW_LEN = 32\n",
    "\n",
    "def get_windowed_segments(data, window):\n",
    "    \"\"\"\n",
    "    Populate a list of all segments seen in the input data.  Apply a window to\n",
    "    each segment so that they can be added together even if slightly\n",
    "    overlapping, enabling later reconstruction.\n",
    "    \"\"\"\n",
    "    step = 2\n",
    "    windowed_segments = []\n",
    "    segments = learn_utils.sliding_chunker(\n",
    "        data,\n",
    "        window_len=len(window),\n",
    "        slide_len=step\n",
    "    )\n",
    "    for segment in segments:\n",
    "        segment *= window\n",
    "        windowed_segments.append(segment)\n",
    "    return windowed_segments\n",
    "\n",
    "def main():\n",
    "    \"\"\"\n",
    "    Main function.\n",
    "    \"\"\"\n",
    "    n_samples = 8192\n",
    "    print(\"Reading data...\")\n",
    "    data = ekg_data.read_ekg_data('a02.dat')[0:n_samples]\n",
    "\n",
    "    window_rads = np.linspace(0, np.pi, WINDOW_LEN)\n",
    "    window = np.sin(window_rads)**2\n",
    "    print(\"Windowing data...\")\n",
    "    windowed_segments = get_windowed_segments(data, window)\n",
    "\n",
    "    print(\"Clustering...\")\n",
    "    clusterer = KMeans(n_clusters=150)\n",
    "    clusterer.fit(windowed_segments)\n",
    "\n",
    "    print(\"Reconstructing...\")\n",
    "    reconstruction = learn_utils.reconstruct(data, window, clusterer)\n",
    "    error = reconstruction - data\n",
    "    print(\"Maximum reconstruction error is %.1f\" % max(error))\n",
    "\n",
    "    plt.figure()\n",
    "    n_plot_samples = 300\n",
    "    plt.plot(data[0:n_plot_samples], label=\"Original EKG\")\n",
    "    plt.plot(reconstruction[0:n_plot_samples], label=\"Reconstructed EKG\")\n",
    "    plt.plot(error[0:n_plot_samples], label=\"Reconstruction error\")\n",
    "    plt.legend()\n",
    "    plt.show()\n",
    "\n",
    "main()"
   ]
  }
 ],
 "metadata": {
  "kernelspec": {
   "display_name": "Python [Root]",
   "language": "python",
   "name": "Python [Root]"
  },
  "language_info": {
   "codemirror_mode": {
    "name": "ipython",
    "version": 3
   },
   "file_extension": ".py",
   "mimetype": "text/x-python",
   "name": "python",
   "nbconvert_exporter": "python",
   "pygments_lexer": "ipython3",
   "version": "3.5.2"
  }
 },
 "nbformat": 4,
 "nbformat_minor": 0
}
