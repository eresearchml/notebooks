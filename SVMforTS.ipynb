{
 "cells": [
  {
   "cell_type": "code",
   "execution_count": 23,
   "metadata": {
    "collapsed": false
   },
   "outputs": [],
   "source": [
    "# Multilayer Perceptron to Predict International Airline Passengers (t+1, given t)\n",
    "import numpy as np\n",
    "import matplotlib.pyplot as plt\n",
    "import pandas as pd\n",
    "import math\n",
    "import scipy\n",
    "from IPython.core.debugger import Tracer\n",
    "from sklearn import datasets, linear_model\n",
    "#from keras.models import Sequential\n",
    "#from keras.layers import Dense\n",
    "from sklearn.model_selection import GridSearchCV, TimeSeriesSplit\n",
    "from sklearn.feature_selection import RFE\n",
    "from sklearn.svm import SVC, SVR\n",
    "from sklearn.metrics import confusion_matrix, accuracy_score\n",
    "from sklearn.preprocessing import StandardScaler\n",
    "from sklearn.ensemble import RandomForestClassifier\n",
    "%matplotlib inline\n",
    "import seaborn as sns; sns.set()\n",
    "import operator\n",
    "import itertools\n",
    "import matplotlib.patches as mpatches\n",
    "from scipy.stats.stats import pearsonr\n",
    "\n",
    "import warnings\n",
    "warnings.filterwarnings('ignore')\n",
    "#Tracer()()\n",
    "def prep (a):\n",
    "    return a.reshape(a.shape[0], 1)\n",
    "def unprep (a):\n",
    "    return np.squeeze(a)"
   ]
  },
  {
   "cell_type": "code",
   "execution_count": 2,
   "metadata": {
    "collapsed": false
   },
   "outputs": [
    {
     "data": {
      "application/javascript": [
       "IPython.OutputArea.auto_scroll_threshold = 9999;"
      ],
      "text/plain": [
       "<IPython.core.display.Javascript object>"
      ]
     },
     "metadata": {},
     "output_type": "display_data"
    }
   ],
   "source": [
    "%%javascript\n",
    "IPython.OutputArea.auto_scroll_threshold = 9999;"
   ]
  },
  {
   "cell_type": "code",
   "execution_count": 3,
   "metadata": {
    "collapsed": false
   },
   "outputs": [
    {
     "data": {
      "text/html": [
       "<style>.container { width:95% !important; }</style>"
      ],
      "text/plain": [
       "<IPython.core.display.HTML object>"
      ]
     },
     "metadata": {},
     "output_type": "display_data"
    }
   ],
   "source": [
    "#from IPython.core.display import HTML\n",
    "#HTML(\"<style> div.code_cell{width: 75%;float: left;}\"\n",
    "#    +\"div.text_cell{width: 25%;float: right;}\"\n",
    "#    +\"div.text_cell div.prompt {display: none;}</style>\")\n",
    "from IPython.core.display import display, HTML\n",
    "display(HTML(\"<style>.container { width:95% !important; }</style>\"))\n"
   ]
  },
  {
   "cell_type": "code",
   "execution_count": 4,
   "metadata": {
    "collapsed": false
   },
   "outputs": [
    {
     "data": {
      "text/html": [
       "<div>\n",
       "<table border=\"1\" class=\"dataframe\">\n",
       "  <thead>\n",
       "    <tr style=\"text-align: right;\">\n",
       "      <th></th>\n",
       "      <th>Date</th>\n",
       "      <th>OPEN</th>\n",
       "      <th>VOLUME</th>\n",
       "      <th>Date.1</th>\n",
       "      <th>OPEN.1</th>\n",
       "      <th>VOLUME.1</th>\n",
       "      <th>Date.2</th>\n",
       "      <th>OPEN.2</th>\n",
       "      <th>VOLUME.2</th>\n",
       "    </tr>\n",
       "  </thead>\n",
       "  <tbody>\n",
       "    <tr>\n",
       "      <th>0</th>\n",
       "      <td>2016-09-01 09:00:00</td>\n",
       "      <td>130.671875</td>\n",
       "      <td>871</td>\n",
       "      <td>2016-09-01 09:00:00</td>\n",
       "      <td>131.13</td>\n",
       "      <td>799.0</td>\n",
       "      <td>2016-09-01 09:00:00</td>\n",
       "      <td>164.40</td>\n",
       "      <td>80.0</td>\n",
       "    </tr>\n",
       "    <tr>\n",
       "      <th>1</th>\n",
       "      <td>2016-09-01 09:01:00</td>\n",
       "      <td>130.656250</td>\n",
       "      <td>14</td>\n",
       "      <td>2016-09-01 09:01:00</td>\n",
       "      <td>131.09</td>\n",
       "      <td>400.0</td>\n",
       "      <td>2016-09-01 09:01:00</td>\n",
       "      <td>164.36</td>\n",
       "      <td>14.0</td>\n",
       "    </tr>\n",
       "    <tr>\n",
       "      <th>2</th>\n",
       "      <td>2016-09-01 09:02:00</td>\n",
       "      <td>130.656250</td>\n",
       "      <td>103</td>\n",
       "      <td>2016-09-01 09:02:00</td>\n",
       "      <td>131.08</td>\n",
       "      <td>608.0</td>\n",
       "      <td>2016-09-01 09:02:00</td>\n",
       "      <td>164.36</td>\n",
       "      <td>11.0</td>\n",
       "    </tr>\n",
       "    <tr>\n",
       "      <th>3</th>\n",
       "      <td>2016-09-01 09:03:00</td>\n",
       "      <td>130.656250</td>\n",
       "      <td>395</td>\n",
       "      <td>2016-09-01 09:03:00</td>\n",
       "      <td>131.04</td>\n",
       "      <td>564.0</td>\n",
       "      <td>2016-09-01 09:03:00</td>\n",
       "      <td>164.35</td>\n",
       "      <td>63.0</td>\n",
       "    </tr>\n",
       "    <tr>\n",
       "      <th>4</th>\n",
       "      <td>2016-09-01 09:04:00</td>\n",
       "      <td>130.656250</td>\n",
       "      <td>186</td>\n",
       "      <td>2016-09-01 09:04:00</td>\n",
       "      <td>131.08</td>\n",
       "      <td>211.0</td>\n",
       "      <td>2016-09-01 09:04:00</td>\n",
       "      <td>164.37</td>\n",
       "      <td>17.0</td>\n",
       "    </tr>\n",
       "  </tbody>\n",
       "</table>\n",
       "</div>"
      ],
      "text/plain": [
       "                 Date        OPEN  VOLUME              Date.1  OPEN.1  \\\n",
       "0 2016-09-01 09:00:00  130.671875     871 2016-09-01 09:00:00  131.13   \n",
       "1 2016-09-01 09:01:00  130.656250      14 2016-09-01 09:01:00  131.09   \n",
       "2 2016-09-01 09:02:00  130.656250     103 2016-09-01 09:02:00  131.08   \n",
       "3 2016-09-01 09:03:00  130.656250     395 2016-09-01 09:03:00  131.04   \n",
       "4 2016-09-01 09:04:00  130.656250     186 2016-09-01 09:04:00  131.08   \n",
       "\n",
       "   VOLUME.1              Date.2  OPEN.2  VOLUME.2  \n",
       "0     799.0 2016-09-01 09:00:00  164.40      80.0  \n",
       "1     400.0 2016-09-01 09:01:00  164.36      14.0  \n",
       "2     608.0 2016-09-01 09:02:00  164.36      11.0  \n",
       "3     564.0 2016-09-01 09:03:00  164.35      63.0  \n",
       "4     211.0 2016-09-01 09:04:00  164.37      17.0  "
      ]
     },
     "execution_count": 4,
     "metadata": {},
     "output_type": "execute_result"
    }
   ],
   "source": [
    "df3 = pd.read_csv('/Users/david/notebooks/data/futs1.csv', header=3)\n",
    "df3[\"Date\"] = pd.to_datetime(df3[\"Date\"], infer_datetime_format=True)\n",
    "df3[\"Date.1\"] = pd.to_datetime(df3[\"Date.1\"], infer_datetime_format=True)\n",
    "df3[\"Date.2\"] = pd.to_datetime(df3[\"Date.2\"], infer_datetime_format=True)\n",
    "df3 = df3.drop(df3.columns[3], axis=1)\n",
    "df3 = df3.drop(df3.columns[6], axis=1)\n",
    "df3.head()"
   ]
  },
  {
   "cell_type": "code",
   "execution_count": 5,
   "metadata": {
    "collapsed": false
   },
   "outputs": [
    {
     "name": "stdout",
     "output_type": "stream",
     "text": [
      "                 Date       OPEN  VOLUME              Date.1  OPEN.1  \\\n",
      "1 2016-09-01 09:01:00  130.65625      14 2016-09-01 09:01:00  131.09   \n",
      "2 2016-09-01 09:02:00  130.65625     103 2016-09-01 09:02:00  131.08   \n",
      "3 2016-09-01 09:03:00  130.65625     395 2016-09-01 09:03:00  131.04   \n",
      "4 2016-09-01 09:04:00  130.65625     186 2016-09-01 09:04:00  131.08   \n",
      "5 2016-09-01 09:05:00  130.65625    3108 2016-09-01 09:05:00  131.11   \n",
      "\n",
      "   VOLUME.1              Date.2  OPEN.2  VOLUME.2  CHG  PREVVOLUME  NXTUP  \\\n",
      "1     400.0 2016-09-01 09:01:00  164.36      14.0  NaN       871.0     -1   \n",
      "2     608.0 2016-09-01 09:02:00  164.36      11.0  0.0        14.0     -1   \n",
      "3     564.0 2016-09-01 09:03:00  164.35      63.0  0.0       103.0     -1   \n",
      "4     211.0 2016-09-01 09:04:00  164.37      17.0  0.0       395.0     -1   \n",
      "5     566.0 2016-09-01 09:05:00  164.38      60.0  0.0       186.0     -1   \n",
      "\n",
      "   LNVOLUME  LNVOLUME.1  LNVOLUME.2  CHG.1  CHG.2  \n",
      "1  2.639057    5.991465    2.639057    NaN    NaN  \n",
      "2  4.634729    6.410175    2.397895  -0.01   0.00  \n",
      "3  5.978886    6.335054    4.143135  -0.04  -0.01  \n",
      "4  5.225747    5.351858    2.833213   0.04   0.02  \n",
      "5  8.041735    6.338594    4.094345   0.03   0.01  \n"
     ]
    },
    {
     "data": {
      "text/html": [
       "<div>\n",
       "<table border=\"1\" class=\"dataframe\">\n",
       "  <thead>\n",
       "    <tr style=\"text-align: right;\">\n",
       "      <th></th>\n",
       "      <th>Date</th>\n",
       "      <th>OPEN</th>\n",
       "      <th>VOLUME</th>\n",
       "      <th>Date.1</th>\n",
       "      <th>OPEN.1</th>\n",
       "      <th>VOLUME.1</th>\n",
       "      <th>Date.2</th>\n",
       "      <th>OPEN.2</th>\n",
       "      <th>VOLUME.2</th>\n",
       "      <th>CHG</th>\n",
       "      <th>PREVVOLUME</th>\n",
       "      <th>LNVOLUME</th>\n",
       "      <th>LNVOLUME.1</th>\n",
       "      <th>LNVOLUME.2</th>\n",
       "      <th>CHG.1</th>\n",
       "      <th>CHG.2</th>\n",
       "    </tr>\n",
       "    <tr>\n",
       "      <th>NXTUP</th>\n",
       "      <th></th>\n",
       "      <th></th>\n",
       "      <th></th>\n",
       "      <th></th>\n",
       "      <th></th>\n",
       "      <th></th>\n",
       "      <th></th>\n",
       "      <th></th>\n",
       "      <th></th>\n",
       "      <th></th>\n",
       "      <th></th>\n",
       "      <th></th>\n",
       "      <th></th>\n",
       "      <th></th>\n",
       "      <th></th>\n",
       "      <th></th>\n",
       "    </tr>\n",
       "  </thead>\n",
       "  <tbody>\n",
       "    <tr>\n",
       "      <th>-1</th>\n",
       "      <td>21572</td>\n",
       "      <td>21572</td>\n",
       "      <td>21572</td>\n",
       "      <td>21572</td>\n",
       "      <td>21572</td>\n",
       "      <td>21572</td>\n",
       "      <td>21572</td>\n",
       "      <td>21572</td>\n",
       "      <td>21572</td>\n",
       "      <td>21571</td>\n",
       "      <td>21572</td>\n",
       "      <td>21572</td>\n",
       "      <td>21572</td>\n",
       "      <td>21572</td>\n",
       "      <td>21571</td>\n",
       "      <td>21571</td>\n",
       "    </tr>\n",
       "    <tr>\n",
       "      <th>1</th>\n",
       "      <td>6246</td>\n",
       "      <td>6246</td>\n",
       "      <td>6246</td>\n",
       "      <td>6246</td>\n",
       "      <td>6246</td>\n",
       "      <td>6246</td>\n",
       "      <td>6246</td>\n",
       "      <td>6246</td>\n",
       "      <td>6246</td>\n",
       "      <td>6246</td>\n",
       "      <td>6246</td>\n",
       "      <td>6246</td>\n",
       "      <td>6246</td>\n",
       "      <td>6246</td>\n",
       "      <td>6246</td>\n",
       "      <td>6246</td>\n",
       "    </tr>\n",
       "  </tbody>\n",
       "</table>\n",
       "</div>"
      ],
      "text/plain": [
       "        Date   OPEN  VOLUME  Date.1  OPEN.1  VOLUME.1  Date.2  OPEN.2  \\\n",
       "NXTUP                                                                   \n",
       "-1     21572  21572   21572   21572   21572     21572   21572   21572   \n",
       " 1      6246   6246    6246    6246    6246      6246    6246    6246   \n",
       "\n",
       "       VOLUME.2    CHG  PREVVOLUME  LNVOLUME  LNVOLUME.1  LNVOLUME.2  CHG.1  \\\n",
       "NXTUP                                                                         \n",
       "-1        21572  21571       21572     21572       21572       21572  21571   \n",
       " 1         6246   6246        6246      6246        6246        6246   6246   \n",
       "\n",
       "       CHG.2  \n",
       "NXTUP         \n",
       "-1     21571  \n",
       " 1      6246  "
      ]
     },
     "execution_count": 5,
     "metadata": {},
     "output_type": "execute_result"
    }
   ],
   "source": [
    "df2 = df3.copy()\n",
    "df2[\"CHG\"] = df2[\"OPEN\"] - df2[\"OPEN\"].shift(1)\n",
    "df2[\"PREVVOLUME\"] = df2[\"VOLUME\"].shift(1)\n",
    "df2[\"NXTUP\"] = df2[\"CHG\"].apply(lambda x: int(1) if x > 0 else int(-1))\n",
    "df2 = df2.dropna()\n",
    "df2[\"LNVOLUME\"] = np.log(df2[\"VOLUME\"])\n",
    "df2[\"LNVOLUME.1\"] = np.log(df2[\"VOLUME.1\"])\n",
    "df2[\"LNVOLUME.2\"] = np.log(df2[\"VOLUME.2\"])\n",
    "df2[\"CHG\"] = df2[\"OPEN\"] - df2[\"OPEN\"].shift(1)\n",
    "df2[\"CHG.1\"] = df2[\"OPEN.1\"] - df2[\"OPEN.1\"].shift(1)\n",
    "df2[\"CHG.2\"] = df2[\"OPEN.2\"] - df2[\"OPEN.2\"].shift(1)\n",
    "#df.loc[3:]\n",
    "#df.head()\n",
    "#print(df.head())\n",
    "print(df2.head())\n",
    "#print(df2[\"NXTUP\"].describe())\n",
    "df2.groupby('NXTUP').count()"
   ]
  },
  {
   "cell_type": "code",
   "execution_count": 6,
   "metadata": {
    "collapsed": true
   },
   "outputs": [],
   "source": [
    "def calc_e (x, y):\n",
    "    #Predictor comparison\n",
    "    res = x - y\n",
    "    res_e = np.sqrt(np.mean(res**2))\n",
    "    #print(res_e)\n",
    "    return res_e, res"
   ]
  },
  {
   "cell_type": "code",
   "execution_count": 7,
   "metadata": {
    "collapsed": true
   },
   "outputs": [],
   "source": [
    "def calc_score (x, y):\n",
    "    #Predictor comparison\n",
    "    res = x - y\n",
    "    res_e = np.sqrt(np.mean(res**2))\n",
    "    #print(res_e)\n",
    "    return res_e, res"
   ]
  },
  {
   "cell_type": "code",
   "execution_count": 8,
   "metadata": {
    "collapsed": false
   },
   "outputs": [],
   "source": [
    "def dumb_p (x1, y1):\n",
    "    res_e_simple, res_simple = calc_e(unprep(x1), unprep(y1))\n",
    "    return res_e_simple, res_simple"
   ]
  },
  {
   "cell_type": "code",
   "execution_count": 9,
   "metadata": {
    "collapsed": false
   },
   "outputs": [],
   "source": [
    "def prob_move(p, start, end):\n",
    "    d = dict()\n",
    "    x1 = p[start:end,:1]\n",
    "    #print(x1)\n",
    "    for i in range(0, end-start):\n",
    "        #just the simple ts\n",
    "        c1 = x1[i-1] - x1[i]\n",
    "        if c1[0] not in d:\n",
    "            d[c1[0]] = 0\n",
    "        d[c1[0]] +=1\n",
    "    s = sum(d.values())\n",
    "    for k in d.keys():\n",
    "        d[k] = d[k]/s\n",
    "    #print(d)\n",
    "    #print(sum(d.values()))\n",
    "    r = sumproduct(d.keys(), d.values())\n",
    "    return r, d"
   ]
  },
  {
   "cell_type": "code",
   "execution_count": 10,
   "metadata": {
    "collapsed": true
   },
   "outputs": [],
   "source": [
    "def sumproduct(A, B):\n",
    "    return sum([i*j for i,j in zip(A,B)])"
   ]
  },
  {
   "cell_type": "code",
   "execution_count": 11,
   "metadata": {
    "collapsed": false
   },
   "outputs": [],
   "source": [
    "def maxkey(stats):\n",
    "    return max(stats, key=lambda key: stats[key])"
   ]
  },
  {
   "cell_type": "code",
   "execution_count": 12,
   "metadata": {
    "collapsed": false
   },
   "outputs": [],
   "source": [
    "def plot_confusion_matrix(cm, classes,\n",
    "                          normalize=True,\n",
    "                          title='Confusion matrix',\n",
    "                          cmap=plt.cm.Blues,\n",
    "                          axis=0):\n",
    "    \"\"\"\n",
    "    This function prints and plots the confusion matrix.\n",
    "    Normalization can be applied by setting `normalize=True`.\n",
    "    \"\"\"\n",
    "    plt.figure()\n",
    "    plt.imshow(cm, interpolation='nearest', cmap=cmap)\n",
    "    plt.title(title)\n",
    "    plt.colorbar()\n",
    "    tick_marks = np.arange(len(classes))\n",
    "    plt.xticks(tick_marks, classes, rotation=45)\n",
    "    plt.yticks(tick_marks, classes)\n",
    "    orig = cm\n",
    "    if normalize:\n",
    "        if axis == 1:\n",
    "            cm = cm.astype('float') / cm.sum(axis=axis)[:, np.newaxis]\n",
    "        else:\n",
    "            cm = cm.astype('float') / cm.sum(axis=axis)\n",
    "        print(\"Normalized confusion matrix\")\n",
    "    else:\n",
    "        print('Confusion matrix, without normalization')\n",
    "\n",
    "    print(cm)\n",
    "\n",
    "    \n",
    "    for i, j in itertools.product(range(cm.shape[0]), range(cm.shape[1])):\n",
    "        #thresh = cm[i].max() / 2.\n",
    "        #thresh = orig.sum(axis=axis)[i]*0.5\n",
    "        thresh = orig.sum()*0.5\n",
    "        print(i, j, thresh, orig[i,j])\n",
    "        #col = \"black\"\n",
    "        s = \"{:1.4f}\".format(cm[i,j]) + \"(\"+str(orig[i,j])+\")\"\n",
    "        plt.text(j, i, s,\n",
    "                 horizontalalignment=\"center\",\n",
    "                 color=\"white\" if orig[i, j] > thresh else \"black\")\n",
    "\n",
    "    plt.tight_layout()\n",
    "    plt.ylabel('True label')\n",
    "    plt.xlabel('Predicted label')"
   ]
  },
  {
   "cell_type": "code",
   "execution_count": 22,
   "metadata": {
    "collapsed": true
   },
   "outputs": [],
   "source": [
    "class GridSeachWithCoef(GridSearchCV):\n",
    "    @property\n",
    "    def coef_(self):\n",
    "        return self.best_estimator_.coef_"
   ]
  },
  {
   "cell_type": "code",
   "execution_count": 24,
   "metadata": {
    "collapsed": false
   },
   "outputs": [],
   "source": [
    "def sub_p_svm (x1, y1, x2, y2, do_plot=False):\n",
    "    #normalise the data\n",
    "    scaler = StandardScaler()\n",
    "    x1 = scaler.fit_transform(x1)\n",
    "    x2 = scaler.transform(x2)\n",
    "    sv = SVC(kernel='rbf', gamma=0.1)\n",
    "    useRF = False\n",
    "    if useRF:\n",
    "        sv = RandomForestClassifier()\n",
    "    param_sv = {\"C\": [1e0, 1e1, 1e2, 1e3],\n",
    "                        \"gamma\": np.logspace(-2, 2, 5)}\n",
    "    param_rf = {\"max_depth\": [3, None],\n",
    "              \"max_features\": [1, 3],\n",
    "              \"min_samples_split\": [1, 3, 10],\n",
    "              \"min_samples_leaf\": [1, 3, 10],\n",
    "              \"bootstrap\": [True, False],\n",
    "              #\"criterion\": [\"gini\", \"entropy\"]\n",
    "              \"criterion\": [\"entropy\"]\n",
    "               }\n",
    "    \n",
    "    #svc = SVC(kernel=\"linear\", C=1)\n",
    "    \n",
    "    #rfe = RFE(estimator=svc, n_features_to_select=1, step=1)\n",
    "    #rfe.fit(X, y)\n",
    "    #ranking = rfe.ranking_.reshape(digits.images[0].shape)\n",
    "\n",
    "    # Plot pixel ranking\n",
    "    #plt.matshow(ranking, cmap=plt.cm.Blues)\n",
    "    #plt.colorbar()\n",
    "    #plt.title(\"Ranking of pixels with RFE\")\n",
    "    #plt.show()\n",
    "    tcv = TimeSeriesSplit(n_splits=4)\n",
    "    svm = GridSearchCV(sv, cv=tcv,\n",
    "                       param_grid=param_sv)\n",
    "    \n",
    "    \n",
    "    if useRF:\n",
    "        svm = GridSearchCV(sv, cv=tcv,\n",
    "                       param_grid=param_rf)\n",
    "        \n",
    "    #print(x1)\n",
    "    #print(y1)\n",
    "    #print(x2)\n",
    "    #print(y2)\n",
    "    #Tracer()()\n",
    "    #print(\"mean\", x1.mean(axis=0), \"std\", x1.std(axis=0))\n",
    "\n",
    "    svm.fit(x1, y1)\n",
    "    y1_svr = svm.predict(x1)\n",
    "    y2_svr = svm.predict(x2)\n",
    "    svm_num = svm.best_estimator_.n_support_\n",
    "    if useRF:\n",
    "        svm_num = np.array([0])\n",
    "    res_e_in = svm.score(x1, y1)\n",
    "    res_e = svm.score(x2, y2)\n",
    "    y3 = np.full(len(y2), -1)\n",
    "    #always do nothing\n",
    "    res_e_simple = accuracy_score(y2, y3)\n",
    "    cm = confusion_matrix(y2, y2_svr, labels=[-1, 1])\n",
    "    cm_simple = confusion_matrix(y3, y2_svr, labels=[-1, 1])\n",
    "   \n",
    "    #print(mycm(y2, y2_svr))\n",
    "    #print(cm)\n",
    "    \n",
    "    if do_plot:\n",
    "        plt.figure()\n",
    "        plt.clf()\n",
    "        d = {\"-1\": \"blue\", \"1\":\"yellow\"}\n",
    "        c1 = list(map(lambda x : \"yellow\" if x == -1 else \"green\", y1))\n",
    "        patch1 = mpatches.Patch(color='yellow', label='-1 CNG<=0')\n",
    "        patch2 = mpatches.Patch(color='green', label='+1 CNG>0')\n",
    "        plt.legend(handles=[patch1, patch2])\n",
    "        #print(x1[:, 0])\n",
    "        #print(c1)\n",
    "        plt.scatter(x1[:, 0], x1[:, 1], c=c1, zorder=10, cmap=plt.cm.Paired)\n",
    "        #plt.scatter(x2[:, 0], x2[:, 1], s=80, facecolors='none', zorder=10)\n",
    "        plt.scatter(x2[:, 0], x2[:, 1], s=280, c=\"k\", marker='+', zorder=10, lw=2)\n",
    "\n",
    "        #plt.axis('tight')\n",
    "        x_min = x1[:, 0].min()\n",
    "        x_max = x1[:, 0].max()\n",
    "        y_min = x1[:, 1].min()\n",
    "        y_max = x1[:, 1].max()\n",
    "\n",
    "        XX, YY = np.mgrid[x_min:x_max:200j, y_min:y_max:200j]\n",
    "        Z = svm.decision_function(np.c_[XX.ravel(), YY.ravel()])\n",
    "\n",
    "        # Put the result into a color plot\n",
    "        Z = Z.reshape(XX.shape)\n",
    "        plt.pcolormesh(XX, YY, Z > 0, cmap=plt.cm.Paired)\n",
    "        plt.contour(XX, YY, Z, colors=['k', 'k', 'k'], linestyles=['--', '-', '--'],\n",
    "                levels=[-.5, 0, .5])\n",
    "\n",
    "        plt.title(\"svm\")#plt.plot(unprep(x1), y1_svr, 'o')\n",
    "        plt.show()\n",
    "        #plt.figure()\n",
    "        #plt.plot(unprep(x2), y2_svr, 'o')\n",
    "        #plt.figure()\n",
    "        #plt.plot(res)\n",
    "        #plt.figure()\n",
    "        #plt.plot(unprep(x1), label =\"X\")\n",
    "        #plt.plot(y1_svr, label =\"y_in\")\n",
    "        #plt.legend(loc=\"best\")\n",
    "        #plt.figure()\n",
    "        #plt.plot(unprep(x2), label =\"X\")\n",
    "        #plt.plot(y2_svr, label =\"y_out\")\n",
    "        #plt.legend(loc=\"best\")\n",
    "    return res_e_in, res_e, res_e_simple, cm, cm_simple, svm_num.mean()"
   ]
  },
  {
   "cell_type": "code",
   "execution_count": 14,
   "metadata": {
    "collapsed": true
   },
   "outputs": [],
   "source": [
    "def mycm(actual, predict):\n",
    "    return pd.crosstab(actual, predict, rownames=['Actual'], colnames=['Predicted'], margins=True)"
   ]
  },
  {
   "cell_type": "code",
   "execution_count": 15,
   "metadata": {
    "collapsed": false
   },
   "outputs": [
    {
     "name": "stdout",
     "output_type": "stream",
     "text": [
      "(5000, 12) (5000,)\n"
     ]
    },
    {
     "data": {
      "text/plain": [
       "array([[ 5.97888576,  6.33505425,  4.14313473, ...,  0.        ,\n",
       "        -0.01      ,  0.        ],\n",
       "       [ 5.22574667,  5.35185813,  2.83321334, ...,  0.        ,\n",
       "        -0.04      , -0.01      ],\n",
       "       [ 8.04173471,  6.33859408,  4.09434456, ...,  0.        ,\n",
       "         0.04      ,  0.02      ],\n",
       "       ..., \n",
       "       [ 7.78280726,  6.06378521,  7.58273849, ...,  0.015625  ,\n",
       "        -0.02      , -0.03      ],\n",
       "       [ 6.79122146,  5.03043792,  7.55642797, ..., -0.015625  ,\n",
       "         0.01      , -0.01      ],\n",
       "       [ 5.14166356,  4.8598124 ,  7.19818358, ...,  0.        ,\n",
       "        -0.01      ,  0.        ]])"
      ]
     },
     "execution_count": 15,
     "metadata": {},
     "output_type": "execute_result"
    }
   ],
   "source": [
    "#--------------------------\n",
    "# prep the daa\n",
    "#--------------------------\n",
    "\n",
    "size = 5000\n",
    "#w1 = prep(df2[\"OPEN\"].shift(0).values[0:size])\n",
    "fnum = 2\n",
    "#labels = [\"OPEN\", \"NXTUP\",\"VOLUME\",\"CHG\"]\n",
    "cols = [\"LNVOLUME\",\"LNVOLUME.1\",\"LNVOLUME.2\",\"CHG\",\"CHG.1\",\"CHG.2\"]\n",
    "X = np.transpose([df2[label].shift(i).values[fnum:size+fnum]  for i in range(fnum) for label in cols])\n",
    "y = df2[\"NXTUP\"].shift(-1).values[fnum:size+fnum]\n",
    "print(np.shape(X), np.shape(y))\n",
    "X\n",
    "#print(X[4])\n",
    "#print(X)\n",
    "#print(y)\n",
    "#print(np.shape(np.transpose(X)))\n",
    "#y = prep(df2[\"OPEN\"].shift(-1).values[0:size])\n",
    "#print(np.shape(d))\n",
    "#for i in range(np.shape(d)[0]):\n",
    "#    plt.plot(d[i])\n",
    "#    print(d[i])"
   ]
  },
  {
   "cell_type": "code",
   "execution_count": 16,
   "metadata": {
    "collapsed": false
   },
   "outputs": [],
   "source": [
    "#np.array([1, 1, 2, 2])\n",
    "#df2[\"NXTUP\"].shift(-1).values[fnum:size+fnum]"
   ]
  },
  {
   "cell_type": "code",
   "execution_count": 27,
   "metadata": {
    "collapsed": false
   },
   "outputs": [
    {
     "name": "stdout",
     "output_type": "stream",
     "text": [
      "500, 510, 520, 530, 540, 550, 560, 570, 580, 590, 600, 610, 620, 630, 640, 650, 660, 670, 680, 690, 700, 710, 720, 730, 740, 750, 760, 770, 780, 790, 800, 810, 820, 830, 840, 850, 860, 870, 880, 890, 900, 910, 920, 930, 940, 950, 960, 970, 980, 990, 1000, 1010, 1020, 1030, 1040, 1050, 1060, 1070, 1080, 1090, 1100, 1110, 1120, 1130, 1140, 1150, 1160, 1170, 1180, 1190, 1200, 1210, 1220, 1230, 1240, 1250, 1260, 1270, 1280, 1290, 1300, 1310, 1320, 1330, 1340, 1350, 1360, 1370, 1380, 1390, 1400, 1410, 1420, 1430, 1440, 1450, 1460, 1470, 1480, 1490, 1500, 1510, 1520, 1530, 1540, 1550, 1560, 1570, 1580, 1590, 1600, 1610, 1620, 1630, 1640, 1650, 1660, 1670, 1680, 1690, 1700, 1710, 1720, 1730, 1740, 1750, 1760, 1770, 1780, 1790, 1800, 1810, 1820, 1830, 1840, 1850, 1860, 1870, 1880, 1890, 1900, 1910, 1920, 1930, 1940, 1950, 1960, 1970, 1980, 1990, 2000, 2010, 2020, 2030, 2040, 2050, 2060, 2070, 2080, 2090, 2100, 2110, 2120, 2130, 2140, 2150, 2160, 2170, 2180, 2190, 2200, 2210, 2220, 2230, 2240, 2250, 2260, 2270, 2280, 2290, 2300, 2310, 2320, 2330, 2340, 2350, 2360, 2370, 2380, 2390, 2400, 2410, 2420, 2430, 2440, 2450, 2460, 2470, 2480, 2490, Normalized confusion matrix\n",
      "[[ 0.79   nan]\n",
      " [ 0.21   nan]]\n",
      "0 0 1000.0 1580\n",
      "0 1 1000.0 0\n",
      "1 0 1000.0 420\n",
      "1 1 1000.0 0\n",
      "Normalized confusion matrix\n",
      "[[  1.  nan]\n",
      " [  0.  nan]]\n",
      "0 0 1000.0 2000\n",
      "0 1 1000.0 0\n",
      "1 0 1000.0 0\n",
      "1 1 1000.0 0\n"
     ]
    },
    {
     "data": {
      "text/plain": [
       "[<matplotlib.lines.Line2D at 0x11f28dda0>]"
      ]
     },
     "execution_count": 27,
     "metadata": {},
     "output_type": "execute_result"
    },
    {
     "data": {
      "image/png": "[encoded data removed]",
      "text/plain": [
       "<matplotlib.figure.Figure at 0x10b264b70>"
      ]
     },
     "metadata": {},
     "output_type": "display_data"
    },
    {
     "data": {
      "text/plain": [
       "<matplotlib.figure.Figure at 0x11c66fe80>"
      ]
     },
     "metadata": {},
     "output_type": "display_data"
    },
    {
     "data": {
      "image/png": "[encoded data removed]",
      "text/plain": [
       "<matplotlib.figure.Figure at 0x11c68bb38>"
      ]
     },
     "metadata": {},
     "output_type": "display_data"
    },
    {
     "data": {
      "image/png": "[encoded data removed]",
      "text/plain": [
       "<matplotlib.figure.Figure at 0x11c66ca20>"
      ]
     },
     "metadata": {},
     "output_type": "display_data"
    },
    {
     "data": {
      "image/png": "[encoded data removed]",
      "text/plain": [
       "<matplotlib.figure.Figure at 0x11c6ff2b0>"
      ]
     },
     "metadata": {},
     "output_type": "display_data"
    }
   ],
   "source": [
    "#----------------------------------------\n",
    "# Main Work\n",
    "#----------------------------------------\n",
    "step = 10\n",
    "train_len = 500\n",
    "test_len = step\n",
    "\n",
    "#last val as pred for next val\n",
    "#s1, res_s = dumb_p(X[:train_len, 0], y[:train_len])\n",
    "#s2, res_s = dumb_p(X[train_len:, 0], y[train_len:])\n",
    "#Tracer()()\n",
    "#f = 1\n",
    "start_train = 0\n",
    "end_train = start_train + train_len\n",
    "e_out_ar = []\n",
    "e_in_ar =[]\n",
    "e_simple_ar = []\n",
    "\n",
    "b1_ar = []\n",
    "cm_ar = []\n",
    "cm_simple_ar = []\n",
    "svm_num_ar = []\n",
    "it = 0\n",
    "max = 200\n",
    "while end_train < len(X):\n",
    "    if it >= max:\n",
    "        break\n",
    "    end_train = np.min([start_train + train_len, len(X)])\n",
    "    end_test = end_train + test_len\n",
    "    l1 = len(X) - end_train\n",
    "    if l1 ==0:\n",
    "        break\n",
    "    #do stuff\n",
    "    for f in [fnum*len(cols)]:\n",
    "        #print(X[start_train:end_train,:f].shape)\n",
    "    \n",
    "        e_in, e_out, e_simple, cm, cm_simple, svm_num = sub_p_svm(X[start_train:end_train,:f], y[start_train:end_train], \n",
    "                            X[end_train:end_test,:f], y[end_train:end_test], do_plot=False)\n",
    "        e_in_ar.append(e_in)\n",
    "        e_out_ar.append(e_out)\n",
    "        e_simple_ar.append(e_simple)\n",
    "        cm_ar.append(cm)\n",
    "        cm_simple_ar.append(cm_simple)\n",
    "        svm_num_ar.append(svm_num)\n",
    "    #s3, res_s = dumb_p(X[start_train:end_train, 0], y[start_train:end_train])\n",
    "    #s4, res_s = dumb_p(X[end_train:end_test, 0], y[end_train:end_test])\n",
    "    #s3_ar.append(s3)\n",
    "    #s4_ar.append(s4)\n",
    "    #s3_ar.append(0.5)\n",
    "    #s4_ar.append(0.5)\n",
    "    \n",
    "    #b_dict = prob_move(X, start_train, end_train)\n",
    "    print (end_train, end=\", \")\n",
    "    #print(e_in, e_out)\n",
    "    start_train += step\n",
    "    it += 1\n",
    "    \n",
    "plt.figure()\n",
    "plt.plot(e_out_ar, label='eout_'+str(f))\n",
    "plt.plot(e_simple_ar, label=\"simp_out\", color = 'g')\n",
    "plt.legend(loc='best')\n",
    "\n",
    "plt.figure()\n",
    "#print(cm_ar)\n",
    "#print([cm_ar[i][0,0] for i in range(len(cm_ar))])\n",
    "up_right = np.array([cm_ar[i][1,1] for i in range(len(cm_ar))])\n",
    "up_wrong = np.array([cm_ar[i][0,1] for i in range(len(cm_ar))])\n",
    "#up_per = np.nan_to_num(up_right / (up_right + up_wrong))\n",
    "up_per = up_right / (up_right + up_wrong)\n",
    "\n",
    "tot = [np.sum([cm_ar[i][y,x] for i in range(len(cm_ar))]) for y in range(2) for x in range(2)]\n",
    "tot1 = np.array(tot).reshape(2, 2)\n",
    "tot_simple = [np.sum([cm_simple_ar[i][y,x] for i in range(len(cm_simple_ar))]) for x in range(2) for y in range(2)]\n",
    "tot1_simple = np.array(tot_simple).reshape(2, 2)\n",
    "labels = ['CHG<=0','CHG>0']\n",
    "#print(tot)\n",
    "plot_confusion_matrix(tot1, labels, normalize=True, title =\"CM SVM\")\n",
    "plot_confusion_matrix(tot1_simple, labels, normalize=True, title =\"CM Simple\")\n",
    "plt.figure()\n",
    "plt.plot(np.array(svm_num_ar)/train_len)\n",
    "plt.plot(up_per, 'o')\n",
    "#tot[0,1] = [cm_ar[i][0,1] for i in range(len(cm_ar))]\n",
    "#tot[1,0] = [cm_ar[i][1,0] for i in range(len(cm_ar))]\n",
    "#tot[1,1] = [cm_ar[i][1,1] for i in range(len(cm_ar))]\n",
    "#plt.figure()\n",
    "#plt.plot(e_in_ar, label=\"ein\")\n",
    "#plt.plot(s3_ar, label=\"simp_in\", color = 'g')\n",
    "#plt.legend(loc='best')\n"
   ]
  },
  {
   "cell_type": "code",
   "execution_count": 18,
   "metadata": {
    "collapsed": false
   },
   "outputs": [
    {
     "name": "stdout",
     "output_type": "stream",
     "text": [
      "[0.5, 0.0, 1.0, 1.0, 0.5, 0.5, 1.0, 0.0, 0.0, 0.0, 1.0, 0.0, 0.0, 0.0, 0.20000000000000001, 0.16666666666666666, 1.0]\n",
      "[0.29499999999999998, 0.40000000000000002, 0.28499999999999998, 0.40500000000000003, 0.28999999999999998, 0.27000000000000002, 0.25, 0.255, 0.245, 0.26500000000000001, 0.31, 0.26500000000000001, 0.41999999999999998, 0.46000000000000002, 0.44500000000000001, 0.44500000000000001, 0.34499999999999997]\n"
     ]
    },
    {
     "data": {
      "text/plain": [
       "-0.17607038656022442"
      ]
     },
     "execution_count": 18,
     "metadata": {},
     "output_type": "execute_result"
    }
   ],
   "source": [
    "pl = np.array(svm_num_ar)/train_len\n",
    "res1 = []\n",
    "res2 = []\n",
    "for i in range(len(up_per)):\n",
    "    if not np.isnan(up_per[i]):\n",
    "        res1.append(up_per[i])\n",
    "        res2.append(pl[i])\n",
    "print(res1)\n",
    "print(res2)\n",
    "pearsonr(res1, res2)[0]\n",
    "\n"
   ]
  },
  {
   "cell_type": "code",
   "execution_count": 19,
   "metadata": {
    "collapsed": false
   },
   "outputs": [
    {
     "name": "stdout",
     "output_type": "stream",
     "text": [
      "['yellow', 'green', 'yellow']\n",
      "<matplotlib.colors.LinearSegmentedColormap object at 0x10b6e7898>\n"
     ]
    },
    {
     "data": {
      "text/plain": [
       "0.0"
      ]
     },
     "execution_count": 19,
     "metadata": {},
     "output_type": "execute_result"
    }
   ],
   "source": [
    "a1 = [-1, 1, -1]\n",
    "a2 = map(lambda x : \"yellow\" if x == -1 else \"green\", a1)\n",
    "print(list(a2))\n",
    "print(plt.cm.Paired)\n",
    "np.array([0]).mean()"
   ]
  },
  {
   "cell_type": "code",
   "execution_count": 20,
   "metadata": {
    "collapsed": false
   },
   "outputs": [
    {
     "name": "stdout",
     "output_type": "stream",
     "text": [
      "[-1. -1. -1. -1.]\n"
     ]
    }
   ],
   "source": [
    "a = 0.99923\n",
    "b = 234\n",
    "s = \"{:1.4f}\".format(a) + \"(\"+str(b)+\")\"\n",
    "s\n",
    "y3 = np.full(4, -1)\n",
    "print(y3)"
   ]
  }
 ],
 "metadata": {
  "anaconda-cloud": {},
  "kernelspec": {
   "display_name": "Python [conda root]",
   "language": "python",
   "name": "conda-root-py"
  },
  "language_info": {
   "codemirror_mode": {
    "name": "ipython",
    "version": 3
   },
   "file_extension": ".py",
   "mimetype": "text/x-python",
   "name": "python",
   "nbconvert_exporter": "python",
   "pygments_lexer": "ipython3",
   "version": "3.5.2"
  }
 },
 "nbformat": 4,
 "nbformat_minor": 0
}
